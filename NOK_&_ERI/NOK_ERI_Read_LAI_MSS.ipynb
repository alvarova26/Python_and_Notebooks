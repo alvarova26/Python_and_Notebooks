{
 "cells": [
  {
   "cell_type": "markdown",
   "metadata": {},
   "source": [
    "# LACs DEFINED IN ALL MSSs (NOKIA + ERICSSON)"
   ]
  },
  {
   "cell_type": "markdown",
   "metadata": {},
   "source": [
    "## Import Modules"
   ]
  },
  {
   "cell_type": "code",
   "execution_count": 12,
   "metadata": {
    "scrolled": true
   },
   "outputs": [
    {
     "name": "stdout",
     "output_type": "stream",
     "text": [
      "The autoreload extension is already loaded. To reload it, use:\n",
      "  %reload_ext autoreload\n"
     ]
    }
   ],
   "source": [
    "# Import modules (NOK_ERI_Toolkit) & others that will be needed along the program\n",
    "import pandas as pd\n",
    "import numpy as np\n",
    "from matplotlib import pyplot as plt\n",
    "import seaborn as sns\n",
    "import NOK_ERI_Toolkit as NOK_ERI_Toolkit\n",
    "\n",
    "%matplotlib inline\n",
    "%load_ext autoreload\n",
    "%autoreload 2"
   ]
  },
  {
   "cell_type": "markdown",
   "metadata": {},
   "source": [
    "## Main Program"
   ]
  },
  {
   "cell_type": "markdown",
   "metadata": {},
   "source": [
    "### Initialize variables"
   ]
  },
  {
   "cell_type": "code",
   "execution_count": 13,
   "metadata": {},
   "outputs": [],
   "source": [
    "# Initialize NOKIA, ERICSSON & COMMON variables\n",
    "\n",
    "# NOKIA variables \n",
    "NOK_MSS_Name = '0'\n",
    "NOK_MSS_Date = '0'\n",
    "NOK_MSS_Time = '0'\n",
    "NOK_LAC_MCC = '0'\n",
    "NOK_LAC_MNC = '0'\n",
    "NOK_LAC_NO = '0'\n",
    "NOK_LAC_NAME = '0'\n",
    "NOK_LAC_AT = '0'\n",
    "NOK_LAC_REPAG_INT = '0'\n",
    "NOK_LAC_RNGP = '0'\n",
    "NOK_LAC_MNC_AL = '0'\n",
    "NOK_LAC_DSAV = '0'\n",
    "NOK_LAC_TZ = '0'\n",
    "NOK_LAC_HONLA = '0'\n",
    "\n",
    "NOK_MSS_Pars = [NOK_MSS_Name, NOK_MSS_Date, NOK_MSS_Time]\n",
    "NOK_LAC_Pars = [NOK_LAC_MCC, NOK_LAC_MNC, NOK_LAC_NO, NOK_LAC_NAME, NOK_LAC_AT, NOK_LAC_REPAG_INT, NOK_LAC_RNGP, NOK_LAC_MNC_AL, NOK_LAC_DSAV, NOK_LAC_TZ, NOK_LAC_HONLA]\n",
    "\n",
    "NOK_index = 0\n",
    "NOK_position = 0\n",
    "NOK_LAC_count = 0\n",
    "\n",
    "# ERICSSON variables \n",
    "ERI_MSS_Name = '0'\n",
    "ERI_MSS_Date = '0'\n",
    "ERI_MSS_Time = '0'\n",
    "ERI_LAC_MCC = '0'\n",
    "ERI_LAC_MNC = '0'\n",
    "ERI_LAC_NO = '0'\n",
    "ERI_LAC_LAI = '0'\n",
    "ERI_LAC_PFC = '0'\n",
    "ERI_LAC_PRL = '0'\n",
    "ERI_LAC_POOL = '0'\n",
    "\n",
    "ERI_MSS_Pars = [ERI_MSS_Name, ERI_MSS_Date, ERI_MSS_Time]\n",
    "ERI_LAC_Pars = [ERI_LAC_MCC, ERI_LAC_MNC, ERI_LAC_NO, ERI_LAC_LAI, ERI_LAC_PFC, ERI_LAC_PRL, ERI_LAC_POOL]\n",
    "\n",
    "ERI_index = 0\n",
    "ERI_position = 0\n",
    "ERI_LAC_count = 0\n",
    "\n",
    "# COMMON variables \n"
   ]
  },
  {
   "cell_type": "code",
   "execution_count": 14,
   "metadata": {},
   "outputs": [],
   "source": [
    "# Create & Initialize & Set the NOKIA & ERICSSON pd.DataFrame\n",
    "\n",
    "# NOKIA\n",
    "NOK_col_names = ['MSS','Date','Time','MCC','MNC','LAC_str','LAC_NAME','AT','INT','RNGP','MNC_AL','DSAV','TZ','HONLA']\n",
    "df_NOK_MSS_LACs = pd.DataFrame(columns=NOK_col_names)\n",
    "df_NOK_MSS_LACs.loc[0] = [NOK_MSS_Name, NOK_MSS_Date, NOK_MSS_Time,\n",
    "                            NOK_LAC_MCC, NOK_LAC_MNC, NOK_LAC_NO, NOK_LAC_NAME,\n",
    "                            NOK_LAC_AT, NOK_LAC_REPAG_INT, NOK_LAC_RNGP, NOK_LAC_MNC_AL,\n",
    "                            NOK_LAC_DSAV, NOK_LAC_TZ, NOK_LAC_HONLA]\n",
    "\n",
    "# ERICSSON\n",
    "ERI_col_names = ['MSS','Date','Time','MCC','MNC','LAC_str','LAC_NAME','PFC','PRL','POOL']\n",
    "df_ERI_MSS_LACs = pd.DataFrame(columns=ERI_col_names)\n",
    "df_ERI_MSS_LACs.loc[0] = [ERI_MSS_Name, ERI_MSS_Date, ERI_MSS_Time,\n",
    "                            ERI_LAC_MCC, ERI_LAC_MNC, ERI_LAC_NO,ERI_LAC_LAI,\n",
    "                            ERI_LAC_PFC, ERI_LAC_PRL, ERI_LAC_POOL]"
   ]
  },
  {
   "cell_type": "code",
   "execution_count": 15,
   "metadata": {},
   "outputs": [],
   "source": [
    "# Especify the path of the NOKIA & ERICSSON log files \n",
    "path_to_NOK_file = 'C:/Users/Alvaro/OneDrive/My Files/_Scripts_Models/Commands Generators Logs/20220204 - ZELO - All_MSS.txt'\n",
    "path_to_ERI_file = 'C:/Users/Alvaro/OneDrive/My Files/_Scripts_Models/Commands Generators Logs/20220204 - MSSBAxERICC - MGLAP.txt'"
   ]
  },
  {
   "cell_type": "markdown",
   "metadata": {},
   "source": [
    "### Load log file"
   ]
  },
  {
   "cell_type": "code",
   "execution_count": 16,
   "metadata": {},
   "outputs": [],
   "source": [
    "# Load the log files\n",
    "NOK_log_file = NOK_ERI_Toolkit.open_file(path_to_NOK_file)\n",
    "ERI_log_file = NOK_ERI_Toolkit.open_file(path_to_ERI_file)"
   ]
  },
  {
   "cell_type": "markdown",
   "metadata": {},
   "source": [
    "### Execute NOKIA PROGRAM"
   ]
  },
  {
   "cell_type": "code",
   "execution_count": 17,
   "metadata": {},
   "outputs": [],
   "source": [
    "# Run the main program (txt => pd.DataFrame)\n",
    "while (NOK_index < len(NOK_log_file)-1):\n",
    "    NOK_index, NOK_position, NOK_MSS_Pars = NOK_ERI_Toolkit.get_mss_pars(NOK_log_file, NOK_index,'ZELO;')\n",
    "    while (NOK_index < len(NOK_log_file)-1) and (not NOK_position == 999):\n",
    "        NOK_index, NOK_position, NOK_LAC_Pars = NOK_ERI_Toolkit.get_zelo_lac_pars(NOK_log_file,NOK_index)\n",
    "        if NOK_position == 999:                                                 # if 'COMMAND EXECUTED'\n",
    "            NOK_index = NOK_index + 1                                           # Increase index to read next line\n",
    "        else:\n",
    "            new_LAC = NOK_MSS_Pars + NOK_LAC_Pars\n",
    "            df_NOK_MSS_LACs.loc[NOK_LAC_count] = new_LAC\n",
    "            NOK_LAC_count = NOK_LAC_count + 1"
   ]
  },
  {
   "cell_type": "markdown",
   "metadata": {},
   "source": [
    "### Execute ERICSSON PROGRAM"
   ]
  },
  {
   "cell_type": "code",
   "execution_count": 18,
   "metadata": {},
   "outputs": [],
   "source": [
    "# Run the main program (txt => pd.DataFrame)\n",
    "while (ERI_index < len(ERI_log_file)-1):\n",
    "    ERI_index, ERI_position, ERI_MSS_Pars = NOK_ERI_Toolkit.get_mss_pars(ERI_log_file, ERI_index,'eaw')\n",
    "    if(ERI_position >= 0) and (not ERI_position == 999) and (not ERI_position == 998):\n",
    "        ERI_index, ERI_position, ERI_LAC_Pars = NOK_ERI_Toolkit.get_mglap_lac_pars(ERI_log_file,ERI_index)\n",
    "        while(ERI_position >= 0) and (not ERI_position == 999) and (not ERI_position == 998):\n",
    "            ERI_index, ERI_position, ERI_LAC_Pars = NOK_ERI_Toolkit.get_mglap_lac_pars(ERI_log_file, ERI_index)\n",
    "            if (ERI_position >= 0) and (not ERI_position == 999) and (not ERI_position == 998):\n",
    "                new_LAC = ERI_MSS_Pars + ERI_LAC_Pars\n",
    "                df_ERI_MSS_LACs.loc[ERI_LAC_count] = new_LAC\n",
    "                ERI_LAC_count = ERI_LAC_count + 1\n",
    "            ERI_index = ERI_index + 1\n",
    "    ERI_index = ERI_index + 1"
   ]
  },
  {
   "cell_type": "markdown",
   "metadata": {},
   "source": [
    "### Drop columns & prepare to merge"
   ]
  },
  {
   "cell_type": "code",
   "execution_count": 19,
   "metadata": {},
   "outputs": [],
   "source": [
    "# NOKIA DataFrame => Drop some columns to get just the most important ones.\n",
    "\n",
    "df_NOK_MSS_LAIs = df_NOK_MSS_LACs\n",
    "df_NOK_MSS_LAIs['LAC'] =  df_NOK_MSS_LAIs['LAC_str'].astype(int)\n",
    "df_NOK_MSS_LAIs['LAI'] =  df_NOK_MSS_LAIs['MCC'] + '-' + df_NOK_MSS_LAIs['MNC'] + '-' + df_NOK_MSS_LAIs['LAC'].astype(str)\n",
    "df_NOK_MSS_LAIs['MSS-LAI'] =  df_NOK_MSS_LAIs['MSS'] + '-' + df_NOK_MSS_LAIs['LAI']\n",
    "\n",
    "df_NOK_MSS_LAIs['MSS'] = df_NOK_MSS_LAIs['MSS'].str.replace(r'0', '')\n",
    "NOK_drop_col = ['LAC_str','LAC_NAME','AT', 'INT', 'RNGP', 'MNC_AL', 'DSAV', 'TZ', 'HONLA']\n",
    "df_NOK_MSS_LAIs = df_NOK_MSS_LAIs.drop(columns=NOK_drop_col)"
   ]
  },
  {
   "cell_type": "code",
   "execution_count": 20,
   "metadata": {},
   "outputs": [],
   "source": [
    "# ERICSSON DataFrame => Drop some columns to get just the most important ones.\n",
    "\n",
    "df_ERI_MSS_LAIs = df_ERI_MSS_LACs\n",
    "df_ERI_MSS_LAIs['LAC'] =  df_ERI_MSS_LAIs['LAC_str'].astype(int)\n",
    "df_ERI_MSS_LAIs['LAI'] =  df_ERI_MSS_LAIs['MCC'] + '-' + df_ERI_MSS_LAIs['MNC'] + '-' + df_ERI_MSS_LAIs['LAC'].astype(str)\n",
    "df_ERI_MSS_LAIs['MSS-LAI'] =  df_ERI_MSS_LAIs['MSS'] + '-' + df_ERI_MSS_LAIs['LAI']\n",
    "ERI_drop_col = ['LAC_str','LAC_NAME', 'PFC', 'PRL', 'POOL']\n",
    "df_ERI_MSS_LAIs = df_ERI_MSS_LAIs.drop(columns=ERI_drop_col)"
   ]
  },
  {
   "cell_type": "markdown",
   "metadata": {},
   "source": [
    "### Merge & Sort & Print"
   ]
  },
  {
   "cell_type": "code",
   "execution_count": 21,
   "metadata": {},
   "outputs": [
    {
     "data": {
      "text/html": [
       "<div>\n",
       "<style scoped>\n",
       "    .dataframe tbody tr th:only-of-type {\n",
       "        vertical-align: middle;\n",
       "    }\n",
       "\n",
       "    .dataframe tbody tr th {\n",
       "        vertical-align: top;\n",
       "    }\n",
       "\n",
       "    .dataframe thead th {\n",
       "        text-align: right;\n",
       "    }\n",
       "</style>\n",
       "<table border=\"1\" class=\"dataframe\">\n",
       "  <thead>\n",
       "    <tr style=\"text-align: right;\">\n",
       "      <th></th>\n",
       "      <th>MSS</th>\n",
       "      <th>Date</th>\n",
       "      <th>Time</th>\n",
       "      <th>MCC</th>\n",
       "      <th>MNC</th>\n",
       "      <th>LAC</th>\n",
       "      <th>LAI</th>\n",
       "      <th>MSS-LAI</th>\n",
       "    </tr>\n",
       "  </thead>\n",
       "  <tbody>\n",
       "    <tr>\n",
       "      <th>0</th>\n",
       "      <td>MSSBA3</td>\n",
       "      <td>0000-00-00</td>\n",
       "      <td>00:00:00</td>\n",
       "      <td>724</td>\n",
       "      <td>05</td>\n",
       "      <td>973</td>\n",
       "      <td>724-05-973</td>\n",
       "      <td>MSSBA3-724-05-973</td>\n",
       "    </tr>\n",
       "    <tr>\n",
       "      <th>1</th>\n",
       "      <td>MSSBA3</td>\n",
       "      <td>0000-00-00</td>\n",
       "      <td>00:00:00</td>\n",
       "      <td>724</td>\n",
       "      <td>05</td>\n",
       "      <td>20273</td>\n",
       "      <td>724-05-20273</td>\n",
       "      <td>MSSBA3-724-05-20273</td>\n",
       "    </tr>\n",
       "    <tr>\n",
       "      <th>2</th>\n",
       "      <td>MSSBA3</td>\n",
       "      <td>0000-00-00</td>\n",
       "      <td>00:00:00</td>\n",
       "      <td>724</td>\n",
       "      <td>05</td>\n",
       "      <td>30171</td>\n",
       "      <td>724-05-30171</td>\n",
       "      <td>MSSBA3-724-05-30171</td>\n",
       "    </tr>\n",
       "    <tr>\n",
       "      <th>3</th>\n",
       "      <td>MSSBA3</td>\n",
       "      <td>0000-00-00</td>\n",
       "      <td>00:00:00</td>\n",
       "      <td>724</td>\n",
       "      <td>05</td>\n",
       "      <td>30173</td>\n",
       "      <td>724-05-30173</td>\n",
       "      <td>MSSBA3-724-05-30173</td>\n",
       "    </tr>\n",
       "    <tr>\n",
       "      <th>4</th>\n",
       "      <td>MSSBA3</td>\n",
       "      <td>0000-00-00</td>\n",
       "      <td>00:00:00</td>\n",
       "      <td>724</td>\n",
       "      <td>05</td>\n",
       "      <td>30174</td>\n",
       "      <td>724-05-30174</td>\n",
       "      <td>MSSBA3-724-05-30174</td>\n",
       "    </tr>\n",
       "    <tr>\n",
       "      <th>...</th>\n",
       "      <td>...</td>\n",
       "      <td>...</td>\n",
       "      <td>...</td>\n",
       "      <td>...</td>\n",
       "      <td>...</td>\n",
       "      <td>...</td>\n",
       "      <td>...</td>\n",
       "      <td>...</td>\n",
       "    </tr>\n",
       "    <tr>\n",
       "      <th>577</th>\n",
       "      <td>MSSBAA</td>\n",
       "      <td>2022-02-04</td>\n",
       "      <td>09:50:20</td>\n",
       "      <td>724</td>\n",
       "      <td>05</td>\n",
       "      <td>55174</td>\n",
       "      <td>724-05-55174</td>\n",
       "      <td>MSSBA0A-724-05-55174</td>\n",
       "    </tr>\n",
       "    <tr>\n",
       "      <th>578</th>\n",
       "      <td>MSSBAA</td>\n",
       "      <td>2022-02-04</td>\n",
       "      <td>09:50:20</td>\n",
       "      <td>724</td>\n",
       "      <td>05</td>\n",
       "      <td>55375</td>\n",
       "      <td>724-05-55375</td>\n",
       "      <td>MSSBA0A-724-05-55375</td>\n",
       "    </tr>\n",
       "    <tr>\n",
       "      <th>579</th>\n",
       "      <td>MSSBAA</td>\n",
       "      <td>2022-02-04</td>\n",
       "      <td>09:50:20</td>\n",
       "      <td>724</td>\n",
       "      <td>11</td>\n",
       "      <td>60071</td>\n",
       "      <td>724-11-60071</td>\n",
       "      <td>MSSBA0A-724-11-60071</td>\n",
       "    </tr>\n",
       "    <tr>\n",
       "      <th>580</th>\n",
       "      <td>MSSBAA</td>\n",
       "      <td>2022-02-04</td>\n",
       "      <td>09:50:20</td>\n",
       "      <td>724</td>\n",
       "      <td>05</td>\n",
       "      <td>60274</td>\n",
       "      <td>724-05-60274</td>\n",
       "      <td>MSSBA0A-724-05-60274</td>\n",
       "    </tr>\n",
       "    <tr>\n",
       "      <th>581</th>\n",
       "      <td>MSSBAA</td>\n",
       "      <td>2022-02-04</td>\n",
       "      <td>09:50:20</td>\n",
       "      <td>724</td>\n",
       "      <td>05</td>\n",
       "      <td>60474</td>\n",
       "      <td>724-05-60474</td>\n",
       "      <td>MSSBA0A-724-05-60474</td>\n",
       "    </tr>\n",
       "  </tbody>\n",
       "</table>\n",
       "<p>582 rows × 8 columns</p>\n",
       "</div>"
      ],
      "text/plain": [
       "        MSS        Date      Time  MCC MNC    LAC           LAI  \\\n",
       "0    MSSBA3  0000-00-00  00:00:00  724  05    973    724-05-973   \n",
       "1    MSSBA3  0000-00-00  00:00:00  724  05  20273  724-05-20273   \n",
       "2    MSSBA3  0000-00-00  00:00:00  724  05  30171  724-05-30171   \n",
       "3    MSSBA3  0000-00-00  00:00:00  724  05  30173  724-05-30173   \n",
       "4    MSSBA3  0000-00-00  00:00:00  724  05  30174  724-05-30174   \n",
       "..      ...         ...       ...  ...  ..    ...           ...   \n",
       "577  MSSBAA  2022-02-04  09:50:20  724  05  55174  724-05-55174   \n",
       "578  MSSBAA  2022-02-04  09:50:20  724  05  55375  724-05-55375   \n",
       "579  MSSBAA  2022-02-04  09:50:20  724  11  60071  724-11-60071   \n",
       "580  MSSBAA  2022-02-04  09:50:20  724  05  60274  724-05-60274   \n",
       "581  MSSBAA  2022-02-04  09:50:20  724  05  60474  724-05-60474   \n",
       "\n",
       "                  MSS-LAI  \n",
       "0       MSSBA3-724-05-973  \n",
       "1     MSSBA3-724-05-20273  \n",
       "2     MSSBA3-724-05-30171  \n",
       "3     MSSBA3-724-05-30173  \n",
       "4     MSSBA3-724-05-30174  \n",
       "..                    ...  \n",
       "577  MSSBA0A-724-05-55174  \n",
       "578  MSSBA0A-724-05-55375  \n",
       "579  MSSBA0A-724-11-60071  \n",
       "580  MSSBA0A-724-05-60274  \n",
       "581  MSSBA0A-724-05-60474  \n",
       "\n",
       "[582 rows x 8 columns]"
      ]
     },
     "execution_count": 21,
     "metadata": {},
     "output_type": "execute_result"
    }
   ],
   "source": [
    "# Merge & Sort & Print NOKIA and ERICSSON.\n",
    "\n",
    "df_NOK_ERI_MSS_LACs = df_NOK_MSS_LAIs.append(df_ERI_MSS_LAIs, ignore_index=True)\n",
    "df_NOK_ERI_MSS_LACs['LAC'] =  df_NOK_ERI_MSS_LACs['LAC'].astype(int)\n",
    "df_NOK_ERI_MSS_LACs = df_NOK_ERI_MSS_LACs.sort_values(by=['MSS','LAC'], ignore_index=True)\n",
    "df_NOK_ERI_MSS_LACs['LAC'] =  df_NOK_ERI_MSS_LACs['LAC'].astype(str)\n",
    "df_NOK_ERI_MSS_LACs"
   ]
  },
  {
   "cell_type": "markdown",
   "metadata": {},
   "source": [
    "### Plot + Insights"
   ]
  },
  {
   "cell_type": "code",
   "execution_count": 22,
   "metadata": {},
   "outputs": [],
   "source": [
    "# Continue..."
   ]
  }
 ],
 "metadata": {
  "kernelspec": {
   "display_name": "Python 3",
   "language": "python",
   "name": "python3"
  },
  "language_info": {
   "codemirror_mode": {
    "name": "ipython",
    "version": 3
   },
   "file_extension": ".py",
   "mimetype": "text/x-python",
   "name": "python",
   "nbconvert_exporter": "python",
   "pygments_lexer": "ipython3",
   "version": "3.8.8"
  }
 },
 "nbformat": 4,
 "nbformat_minor": 4
}
