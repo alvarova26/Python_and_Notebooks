{
 "cells": [
  {
   "cell_type": "markdown",
   "metadata": {},
   "source": [
    "# ALL 2G CELL of ALL NOKIA'S MSSs"
   ]
  },
  {
   "cell_type": "markdown",
   "metadata": {},
   "source": [
    "## Import Modules"
   ]
  },
  {
   "cell_type": "code",
   "execution_count": 1,
   "metadata": {
    "scrolled": true
   },
   "outputs": [],
   "source": [
    "# Import modules (NOK_Toolkit) & others that will be needed along the program\n",
    "import pandas as pd\n",
    "import numpy as np\n",
    "from matplotlib import pyplot as plt\n",
    "import seaborn as sns\n",
    "import NOK_ERI_Toolkit as NOK_ERI_Toolkit\n",
    "\n",
    "%matplotlib inline\n",
    "%load_ext autoreload\n",
    "%autoreload 2\n"
   ]
  },
  {
   "cell_type": "markdown",
   "metadata": {},
   "source": [
    "## Main Program"
   ]
  },
  {
   "cell_type": "markdown",
   "metadata": {},
   "source": [
    "### Initialize variables"
   ]
  },
  {
   "cell_type": "code",
   "execution_count": 2,
   "metadata": {},
   "outputs": [],
   "source": [
    "# NOKIA variables \n",
    "NOK_MSS_Name = '0'\n",
    "NOK_MSS_Date = '0'\n",
    "NOK_MSS_Time = '0'\n",
    "NOK_CELL_NAME = '0'\n",
    "NOK_CELL_NO = '0'\n",
    "NOK_CELL_BSC_NAME = '0'\n",
    "NOK_CELL_BSC_NO = '0'\n",
    "NOK_CELL_LAC_NAME = '0'\n",
    "NOK_CELL_LAC_NO = '0'\n",
    "NOK_CELL_MCC = '0'\n",
    "NOK_CELL_MNC = '0'\n",
    "NOK_CELL_CI = '0'\n",
    "NOK_CELL_STAT = '0'\n",
    "NOK_CELL_RZ = '0'\n",
    "NOK_CELL_CDR = '0'\n",
    "\n",
    "NOK_MSS_Pars = [NOK_MSS_Name, NOK_MSS_Date, NOK_MSS_Time]\n",
    "NOK_CELL_Pars = [NOK_CELL_NAME, NOK_CELL_NO, NOK_CELL_BSC_NAME, NOK_CELL_BSC_NO, NOK_CELL_LAC_NAME, NOK_CELL_LAC_NO, NOK_CELL_MCC, NOK_CELL_MNC, NOK_CELL_CI, NOK_CELL_STAT, NOK_CELL_RZ, NOK_CELL_CDR]\n",
    "\n",
    "NOK_index = 0\n",
    "NOK_position = 0\n",
    "NOK_CELL_count = 0"
   ]
  },
  {
   "cell_type": "code",
   "execution_count": 3,
   "metadata": {},
   "outputs": [],
   "source": [
    "# Create & Initialize & Set the pd.DataFrame\n",
    "# NOKIA\n",
    "NOK_col_names = ['MSS','Date','Time','Name','Number','NE','NE_No','LAC_Name','MCC','MNC','LAC','CI','Status','RZ', 'CDR']\n",
    "df_NOK_MSS_CELLs = pd.DataFrame(columns=NOK_col_names)\n",
    "df_NOK_MSS_CELLs.loc[0] = [NOK_MSS_Name, NOK_MSS_Date, NOK_MSS_Time, NOK_CELL_NAME, NOK_CELL_NO, NOK_CELL_BSC_NAME,\n",
    "                            NOK_CELL_BSC_NO, NOK_CELL_LAC_NAME, NOK_CELL_MCC, NOK_CELL_MNC, NOK_CELL_LAC_NO, NOK_CELL_CI,\n",
    "                            NOK_CELL_STAT, NOK_CELL_RZ, NOK_CELL_CDR]"
   ]
  },
  {
   "cell_type": "code",
   "execution_count": 4,
   "metadata": {},
   "outputs": [],
   "source": [
    "# Especify the path of the log file\n",
    "NOK_path_to_file = 'C:/Users/Alvaro/OneDrive/My Files/_Scripts_Models/Commands Generators Logs/20220204 - ZEPO 2G - All_MSS.txt'"
   ]
  },
  {
   "cell_type": "markdown",
   "metadata": {},
   "source": [
    "### Load log file"
   ]
  },
  {
   "cell_type": "code",
   "execution_count": 5,
   "metadata": {},
   "outputs": [],
   "source": [
    "# Load the log file\n",
    "NOK_log_file = NOK_ERI_Toolkit.open_file(NOK_path_to_file)"
   ]
  },
  {
   "cell_type": "markdown",
   "metadata": {},
   "source": [
    "### Execute NOKIA PROGRAM"
   ]
  },
  {
   "cell_type": "code",
   "execution_count": 6,
   "metadata": {},
   "outputs": [],
   "source": [
    "# Run the main program (txt => pd.DataFrame)\n",
    "while (NOK_index < len(NOK_log_file)-1):\n",
    "    NOK_index, NOK_position, NOK_MSS_Pars = NOK_ERI_Toolkit.get_mss_pars(NOK_log_file, NOK_index,'ZEPO;')\n",
    "    while (NOK_index < len(NOK_log_file)-1) and (not NOK_position == 999):\n",
    "        NOK_index, NOK_position, NOK_CELL_Pars = NOK_ERI_Toolkit.get_zepo_2g_cell_pars(NOK_log_file, NOK_index)\n",
    "        if (NOK_position >= 0) and (not NOK_position == 999):\n",
    "            new_CELL = NOK_MSS_Pars + NOK_CELL_Pars\n",
    "            df_NOK_MSS_CELLs.loc[NOK_CELL_count] = new_CELL\n",
    "            NOK_CELL_count = NOK_CELL_count + 1\n",
    "    NOK_index = NOK_index + 1"
   ]
  },
  {
   "cell_type": "markdown",
   "metadata": {},
   "source": [
    "### Drop columns & prepare to merge"
   ]
  },
  {
   "cell_type": "code",
   "execution_count": 7,
   "metadata": {},
   "outputs": [
    {
     "data": {
      "text/html": [
       "<div>\n",
       "<style scoped>\n",
       "    .dataframe tbody tr th:only-of-type {\n",
       "        vertical-align: middle;\n",
       "    }\n",
       "\n",
       "    .dataframe tbody tr th {\n",
       "        vertical-align: top;\n",
       "    }\n",
       "\n",
       "    .dataframe thead th {\n",
       "        text-align: right;\n",
       "    }\n",
       "</style>\n",
       "<table border=\"1\" class=\"dataframe\">\n",
       "  <thead>\n",
       "    <tr style=\"text-align: right;\">\n",
       "      <th></th>\n",
       "      <th>MSS</th>\n",
       "      <th>Date</th>\n",
       "      <th>Time</th>\n",
       "      <th>Name</th>\n",
       "      <th>NE</th>\n",
       "      <th>MCC</th>\n",
       "      <th>MNC</th>\n",
       "      <th>LAC</th>\n",
       "      <th>CI</th>\n",
       "      <th>CGI</th>\n",
       "    </tr>\n",
       "  </thead>\n",
       "  <tbody>\n",
       "    <tr>\n",
       "      <th>0</th>\n",
       "      <td>MSSBA6</td>\n",
       "      <td>2022-02-04</td>\n",
       "      <td>09:26:33</td>\n",
       "      <td>BAFSAB71</td>\n",
       "      <td>BSCBA49</td>\n",
       "      <td>724</td>\n",
       "      <td>05</td>\n",
       "      <td>2575</td>\n",
       "      <td>710</td>\n",
       "      <td>724-05-2575-710</td>\n",
       "    </tr>\n",
       "    <tr>\n",
       "      <th>1</th>\n",
       "      <td>MSSBA6</td>\n",
       "      <td>2022-02-04</td>\n",
       "      <td>09:26:33</td>\n",
       "      <td>BAFSAB72</td>\n",
       "      <td>BSCBA49</td>\n",
       "      <td>724</td>\n",
       "      <td>05</td>\n",
       "      <td>2575</td>\n",
       "      <td>10710</td>\n",
       "      <td>724-05-2575-10710</td>\n",
       "    </tr>\n",
       "    <tr>\n",
       "      <th>2</th>\n",
       "      <td>MSSBA6</td>\n",
       "      <td>2022-02-04</td>\n",
       "      <td>09:26:33</td>\n",
       "      <td>BAFSA011</td>\n",
       "      <td>BSCBA49</td>\n",
       "      <td>724</td>\n",
       "      <td>05</td>\n",
       "      <td>1475</td>\n",
       "      <td>108</td>\n",
       "      <td>724-05-1475-108</td>\n",
       "    </tr>\n",
       "    <tr>\n",
       "      <th>3</th>\n",
       "      <td>MSSBA6</td>\n",
       "      <td>2022-02-04</td>\n",
       "      <td>09:26:33</td>\n",
       "      <td>BAFSA012</td>\n",
       "      <td>BSCBA49</td>\n",
       "      <td>724</td>\n",
       "      <td>05</td>\n",
       "      <td>1475</td>\n",
       "      <td>10108</td>\n",
       "      <td>724-05-1475-10108</td>\n",
       "    </tr>\n",
       "    <tr>\n",
       "      <th>4</th>\n",
       "      <td>MSSBA6</td>\n",
       "      <td>2022-02-04</td>\n",
       "      <td>09:26:33</td>\n",
       "      <td>BAFSA013</td>\n",
       "      <td>BSCBA49</td>\n",
       "      <td>724</td>\n",
       "      <td>05</td>\n",
       "      <td>1475</td>\n",
       "      <td>20108</td>\n",
       "      <td>724-05-1475-20108</td>\n",
       "    </tr>\n",
       "    <tr>\n",
       "      <th>...</th>\n",
       "      <td>...</td>\n",
       "      <td>...</td>\n",
       "      <td>...</td>\n",
       "      <td>...</td>\n",
       "      <td>...</td>\n",
       "      <td>...</td>\n",
       "      <td>...</td>\n",
       "      <td>...</td>\n",
       "      <td>...</td>\n",
       "      <td>...</td>\n",
       "    </tr>\n",
       "    <tr>\n",
       "      <th>3704</th>\n",
       "      <td>MSSBAA</td>\n",
       "      <td>2022-02-04</td>\n",
       "      <td>09:29:03</td>\n",
       "      <td>BAALG0202</td>\n",
       "      <td>BSCBA63</td>\n",
       "      <td>724</td>\n",
       "      <td>05</td>\n",
       "      <td>1075</td>\n",
       "      <td>23132</td>\n",
       "      <td>724-05-1075-23132</td>\n",
       "    </tr>\n",
       "    <tr>\n",
       "      <th>3705</th>\n",
       "      <td>MSSBAA</td>\n",
       "      <td>2022-02-04</td>\n",
       "      <td>09:29:03</td>\n",
       "      <td>BAALG0203</td>\n",
       "      <td>BSCBA63</td>\n",
       "      <td>724</td>\n",
       "      <td>05</td>\n",
       "      <td>1075</td>\n",
       "      <td>23133</td>\n",
       "      <td>724-05-1075-23133</td>\n",
       "    </tr>\n",
       "    <tr>\n",
       "      <th>3706</th>\n",
       "      <td>MSSBAA</td>\n",
       "      <td>2022-02-04</td>\n",
       "      <td>09:29:03</td>\n",
       "      <td>BAALG0205</td>\n",
       "      <td>BSCBA63</td>\n",
       "      <td>724</td>\n",
       "      <td>05</td>\n",
       "      <td>1075</td>\n",
       "      <td>23134</td>\n",
       "      <td>724-05-1075-23134</td>\n",
       "    </tr>\n",
       "    <tr>\n",
       "      <th>3707</th>\n",
       "      <td>MSSBAA</td>\n",
       "      <td>2022-02-04</td>\n",
       "      <td>09:29:03</td>\n",
       "      <td>BAALG0206</td>\n",
       "      <td>BSCBA63</td>\n",
       "      <td>724</td>\n",
       "      <td>05</td>\n",
       "      <td>1075</td>\n",
       "      <td>23135</td>\n",
       "      <td>724-05-1075-23135</td>\n",
       "    </tr>\n",
       "    <tr>\n",
       "      <th>3708</th>\n",
       "      <td>MSSBAA</td>\n",
       "      <td>2022-02-04</td>\n",
       "      <td>09:29:03</td>\n",
       "      <td>BAALG0207</td>\n",
       "      <td>BSCBA63</td>\n",
       "      <td>724</td>\n",
       "      <td>05</td>\n",
       "      <td>1075</td>\n",
       "      <td>23136</td>\n",
       "      <td>724-05-1075-23136</td>\n",
       "    </tr>\n",
       "  </tbody>\n",
       "</table>\n",
       "<p>3709 rows × 10 columns</p>\n",
       "</div>"
      ],
      "text/plain": [
       "         MSS        Date      Time       Name       NE  MCC MNC   LAC     CI  \\\n",
       "0     MSSBA6  2022-02-04  09:26:33   BAFSAB71  BSCBA49  724  05  2575    710   \n",
       "1     MSSBA6  2022-02-04  09:26:33   BAFSAB72  BSCBA49  724  05  2575  10710   \n",
       "2     MSSBA6  2022-02-04  09:26:33   BAFSA011  BSCBA49  724  05  1475    108   \n",
       "3     MSSBA6  2022-02-04  09:26:33   BAFSA012  BSCBA49  724  05  1475  10108   \n",
       "4     MSSBA6  2022-02-04  09:26:33   BAFSA013  BSCBA49  724  05  1475  20108   \n",
       "...      ...         ...       ...        ...      ...  ...  ..   ...    ...   \n",
       "3704  MSSBAA  2022-02-04  09:29:03  BAALG0202  BSCBA63  724  05  1075  23132   \n",
       "3705  MSSBAA  2022-02-04  09:29:03  BAALG0203  BSCBA63  724  05  1075  23133   \n",
       "3706  MSSBAA  2022-02-04  09:29:03  BAALG0205  BSCBA63  724  05  1075  23134   \n",
       "3707  MSSBAA  2022-02-04  09:29:03  BAALG0206  BSCBA63  724  05  1075  23135   \n",
       "3708  MSSBAA  2022-02-04  09:29:03  BAALG0207  BSCBA63  724  05  1075  23136   \n",
       "\n",
       "                    CGI  \n",
       "0       724-05-2575-710  \n",
       "1     724-05-2575-10710  \n",
       "2       724-05-1475-108  \n",
       "3     724-05-1475-10108  \n",
       "4     724-05-1475-20108  \n",
       "...                 ...  \n",
       "3704  724-05-1075-23132  \n",
       "3705  724-05-1075-23133  \n",
       "3706  724-05-1075-23134  \n",
       "3707  724-05-1075-23135  \n",
       "3708  724-05-1075-23136  \n",
       "\n",
       "[3709 rows x 10 columns]"
      ]
     },
     "execution_count": 7,
     "metadata": {},
     "output_type": "execute_result"
    }
   ],
   "source": [
    "# NOKIA DataFrame => Drop some columns to get just the most important ones.\n",
    "\n",
    "df_NOK_MSS_CGIs = df_NOK_MSS_CELLs\n",
    "\n",
    "df_NOK_MSS_CGIs['CGI'] =  df_NOK_MSS_CGIs['MCC'] + '-' + \\\n",
    "    df_NOK_MSS_CGIs['MNC'] + '-' + df_NOK_MSS_CGIs['LAC'] + \\\n",
    "        '-' + df_NOK_MSS_CGIs['CI']\n",
    "\n",
    "NOK_drop_col = ['Number', 'NE_No', 'LAC_Name', 'Status', 'RZ', 'CDR']\n",
    "df_NOK_MSS_CGIs = df_NOK_MSS_CGIs.drop(columns=NOK_drop_col)\n",
    "df_NOK_MSS_CGIs['MSS'] = df_NOK_MSS_CGIs['MSS'].str.replace(r'0', '')\n",
    "NOK_col = ['MSS', 'Date', 'Time', 'Name', 'NE', 'MCC', 'MNC', 'LAC', 'CI', 'CGI']\n",
    "df_NOK_MSS_CGIs = df_NOK_MSS_CGIs[NOK_col]\n",
    "df_NOK_MSS_CGIs"
   ]
  },
  {
   "cell_type": "markdown",
   "metadata": {},
   "source": [
    "### Plot + Insights"
   ]
  },
  {
   "cell_type": "code",
   "execution_count": 8,
   "metadata": {},
   "outputs": [],
   "source": [
    "# Continue..."
   ]
  }
 ],
 "metadata": {
  "kernelspec": {
   "display_name": "Python 3",
   "language": "python",
   "name": "python3"
  },
  "language_info": {
   "codemirror_mode": {
    "name": "ipython",
    "version": 3
   },
   "file_extension": ".py",
   "mimetype": "text/x-python",
   "name": "python",
   "nbconvert_exporter": "python",
   "pygments_lexer": "ipython3",
   "version": "3.8.8"
  }
 },
 "nbformat": 4,
 "nbformat_minor": 4
}
