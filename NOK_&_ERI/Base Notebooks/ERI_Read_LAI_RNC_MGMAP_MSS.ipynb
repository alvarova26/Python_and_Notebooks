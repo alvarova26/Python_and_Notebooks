{
 "cells": [
  {
   "cell_type": "markdown",
   "metadata": {},
   "source": [
    "# ALL LACs of ALL ERICSSON MSSs"
   ]
  },
  {
   "cell_type": "markdown",
   "metadata": {},
   "source": [
    "## Import Modules"
   ]
  },
  {
   "cell_type": "code",
   "execution_count": 9,
   "metadata": {
    "scrolled": true
   },
   "outputs": [
    {
     "name": "stdout",
     "output_type": "stream",
     "text": [
      "The autoreload extension is already loaded. To reload it, use:\n",
      "  %reload_ext autoreload\n"
     ]
    }
   ],
   "source": [
    "# Import modules (NOK_ERI_Toolkit) & others that will be needed along the program\n",
    "import pandas as pd\n",
    "import numpy as np\n",
    "from matplotlib import pyplot as plt\n",
    "import seaborn as sns\n",
    "import NOK_ERI_Toolkit as NOK_ERI_Toolkit\n",
    "\n",
    "%matplotlib inline\n",
    "%load_ext autoreload\n",
    "%autoreload 2"
   ]
  },
  {
   "cell_type": "markdown",
   "metadata": {},
   "source": [
    "## Main Program"
   ]
  },
  {
   "cell_type": "markdown",
   "metadata": {},
   "source": [
    "### Initialize variables"
   ]
  },
  {
   "cell_type": "code",
   "execution_count": 10,
   "metadata": {},
   "outputs": [],
   "source": [
    "# Initialize NOKIA, ERICSSON & COMMON variables\n",
    "\n",
    "# ERICSSON\n",
    "ERI_MSS_Name = '0'\n",
    "ERI_MSS_Date = '0'\n",
    "ERI_MSS_Time = '0'\n",
    "RNC_NAME = '0'\n",
    "RNC_LAC_MCC = '0'\n",
    "RNC_LAC_MNC = '0'\n",
    "RNC_LAC_NO = '0'\n",
    "\n",
    "ERI_MSS_Pars = [ERI_MSS_Name, ERI_MSS_Date, ERI_MSS_Time]\n",
    "RNC_Pars = [RNC_NAME]\n",
    "RNC_LAC_Pars = [RNC_LAC_MCC, RNC_LAC_MNC, RNC_LAC_NO]\n",
    "\n",
    "ERI_index = 0\n",
    "ERI_position = 0\n",
    "ERI_RNC_LAC_count = 0\n",
    "ERI_RNC_LAC_flag = 0"
   ]
  },
  {
   "cell_type": "code",
   "execution_count": 11,
   "metadata": {},
   "outputs": [],
   "source": [
    "# Create & Initialize & Set the NOKIA & ERICSSON pd.DataFrame\n",
    "\n",
    "# ERICSSON\n",
    "col_names = ['MSS','Date','Time','RNC','MCC','MNC','LAC']\n",
    "df_ERI_MSS_RNC_LACs = pd.DataFrame(columns=col_names)\n",
    "df_ERI_MSS_RNC_LACs.loc[0] = [ERI_MSS_Name, ERI_MSS_Date, ERI_MSS_Time,\n",
    "                            RNC_NAME, RNC_LAC_MCC, RNC_LAC_MNC, RNC_LAC_NO]"
   ]
  },
  {
   "cell_type": "code",
   "execution_count": 12,
   "metadata": {},
   "outputs": [],
   "source": [
    "# Especify the path of the NOKIA & ERICSSON log files \n",
    "ERI_path_to_file = 'C:/Users/Alvaro/OneDrive/My Files/_Scripts_Models/Commands Generators Logs/20220204 - MSSBAxERICC - MGMAP.txt'"
   ]
  },
  {
   "cell_type": "markdown",
   "metadata": {},
   "source": [
    "### Load log file"
   ]
  },
  {
   "cell_type": "code",
   "execution_count": 13,
   "metadata": {},
   "outputs": [],
   "source": [
    "# Load the log file\n",
    "ERI_log_file = NOK_ERI_Toolkit.open_file(ERI_path_to_file)"
   ]
  },
  {
   "cell_type": "markdown",
   "metadata": {},
   "source": [
    "### Execute ERICSSON PROGRAM"
   ]
  },
  {
   "cell_type": "code",
   "execution_count": 14,
   "metadata": {},
   "outputs": [],
   "source": [
    "# Run the main program (txt => pd.DataFrame)\n",
    "while (ERI_index < len(ERI_log_file)-1):\n",
    "    ERI_index, ERI_position, ERI_MSS_Pars = NOK_ERI_Toolkit.get_mss_pars(ERI_log_file, ERI_index,'eaw')\n",
    "    while(ERI_position >= 0) and (not ERI_position == 998):\n",
    "        ERI_index, ERI_position, RNC_Pars = NOK_ERI_Toolkit.get_mgmap_rnc_pars(ERI_log_file, ERI_index)\n",
    "        if (ERI_position >= 0) and (not ERI_position == 999) and (not ERI_position == 998):\n",
    "            ERI_index, ERI_position, RNC_LAC_Pars = NOK_ERI_Toolkit.get_mgmap_rnc_lac_pars(ERI_log_file, ERI_index)\n",
    "            while(ERI_position >= 0) and (not ERI_position == 999) and (not ERI_position == 998):\n",
    "                ERI_index, ERI_position, RNC_LAC_Pars = NOK_ERI_Toolkit.get_mgmap_rnc_lac_pars(ERI_log_file, ERI_index)\n",
    "                if(ERI_position >= 0) and (not ERI_position == 999) and (not ERI_position == 998):\n",
    "                    new_RNC_LAC = ERI_MSS_Pars + RNC_Pars + RNC_LAC_Pars\n",
    "                    df_ERI_MSS_RNC_LACs.loc[ERI_RNC_LAC_count] = new_RNC_LAC\n",
    "                    ERI_RNC_LAC_count = ERI_RNC_LAC_count + 1\n",
    "                ERI_index = ERI_index + 1\n",
    "        ERI_index = ERI_index + 1\n",
    "    ERI_index = ERI_index + 1"
   ]
  },
  {
   "cell_type": "markdown",
   "metadata": {},
   "source": [
    "### Drop columns & prepare to merge"
   ]
  },
  {
   "cell_type": "code",
   "execution_count": 15,
   "metadata": {},
   "outputs": [
    {
     "data": {
      "text/html": [
       "<div>\n",
       "<style scoped>\n",
       "    .dataframe tbody tr th:only-of-type {\n",
       "        vertical-align: middle;\n",
       "    }\n",
       "\n",
       "    .dataframe tbody tr th {\n",
       "        vertical-align: top;\n",
       "    }\n",
       "\n",
       "    .dataframe thead th {\n",
       "        text-align: right;\n",
       "    }\n",
       "</style>\n",
       "<table border=\"1\" class=\"dataframe\">\n",
       "  <thead>\n",
       "    <tr style=\"text-align: right;\">\n",
       "      <th></th>\n",
       "      <th>MSS</th>\n",
       "      <th>Date</th>\n",
       "      <th>Time</th>\n",
       "      <th>MCC</th>\n",
       "      <th>MNC</th>\n",
       "      <th>LAC</th>\n",
       "      <th>LAI</th>\n",
       "      <th>MSS-LAI</th>\n",
       "      <th>NE-LAI</th>\n",
       "      <th>RNC</th>\n",
       "    </tr>\n",
       "  </thead>\n",
       "  <tbody>\n",
       "    <tr>\n",
       "      <th>0</th>\n",
       "      <td>MSSBA3</td>\n",
       "      <td>0000-00-00</td>\n",
       "      <td>00:00:00</td>\n",
       "      <td>724</td>\n",
       "      <td>05</td>\n",
       "      <td>50877</td>\n",
       "      <td>724-05-50877</td>\n",
       "      <td>MSSBA3-724-05-50877</td>\n",
       "      <td>RNCBA01-724-05-50877</td>\n",
       "      <td>RNCBA01</td>\n",
       "    </tr>\n",
       "    <tr>\n",
       "      <th>1</th>\n",
       "      <td>MSSBA3</td>\n",
       "      <td>0000-00-00</td>\n",
       "      <td>00:00:00</td>\n",
       "      <td>724</td>\n",
       "      <td>05</td>\n",
       "      <td>51477</td>\n",
       "      <td>724-05-51477</td>\n",
       "      <td>MSSBA3-724-05-51477</td>\n",
       "      <td>RNCBA01-724-05-51477</td>\n",
       "      <td>RNCBA01</td>\n",
       "    </tr>\n",
       "    <tr>\n",
       "      <th>2</th>\n",
       "      <td>MSSBA3</td>\n",
       "      <td>0000-00-00</td>\n",
       "      <td>00:00:00</td>\n",
       "      <td>724</td>\n",
       "      <td>05</td>\n",
       "      <td>52377</td>\n",
       "      <td>724-05-52377</td>\n",
       "      <td>MSSBA3-724-05-52377</td>\n",
       "      <td>RNCBA01-724-05-52377</td>\n",
       "      <td>RNCBA01</td>\n",
       "    </tr>\n",
       "    <tr>\n",
       "      <th>3</th>\n",
       "      <td>MSSBA3</td>\n",
       "      <td>0000-00-00</td>\n",
       "      <td>00:00:00</td>\n",
       "      <td>724</td>\n",
       "      <td>05</td>\n",
       "      <td>54477</td>\n",
       "      <td>724-05-54477</td>\n",
       "      <td>MSSBA3-724-05-54477</td>\n",
       "      <td>RNCBA01-724-05-54477</td>\n",
       "      <td>RNCBA01</td>\n",
       "    </tr>\n",
       "    <tr>\n",
       "      <th>4</th>\n",
       "      <td>MSSBA3</td>\n",
       "      <td>0000-00-00</td>\n",
       "      <td>00:00:00</td>\n",
       "      <td>724</td>\n",
       "      <td>05</td>\n",
       "      <td>51077</td>\n",
       "      <td>724-05-51077</td>\n",
       "      <td>MSSBA3-724-05-51077</td>\n",
       "      <td>RNCBA01-724-05-51077</td>\n",
       "      <td>RNCBA01</td>\n",
       "    </tr>\n",
       "    <tr>\n",
       "      <th>...</th>\n",
       "      <td>...</td>\n",
       "      <td>...</td>\n",
       "      <td>...</td>\n",
       "      <td>...</td>\n",
       "      <td>...</td>\n",
       "      <td>...</td>\n",
       "      <td>...</td>\n",
       "      <td>...</td>\n",
       "      <td>...</td>\n",
       "      <td>...</td>\n",
       "    </tr>\n",
       "    <tr>\n",
       "      <th>117</th>\n",
       "      <td>MSSBA8</td>\n",
       "      <td>0000-00-00</td>\n",
       "      <td>00:00:00</td>\n",
       "      <td>724</td>\n",
       "      <td>05</td>\n",
       "      <td>30377</td>\n",
       "      <td>724-05-30377</td>\n",
       "      <td>MSSBA8-724-05-30377</td>\n",
       "      <td>RNCBA06-724-05-30377</td>\n",
       "      <td>RNCBA06</td>\n",
       "    </tr>\n",
       "    <tr>\n",
       "      <th>118</th>\n",
       "      <td>MSSBA8</td>\n",
       "      <td>0000-00-00</td>\n",
       "      <td>00:00:00</td>\n",
       "      <td>724</td>\n",
       "      <td>05</td>\n",
       "      <td>30373</td>\n",
       "      <td>724-05-30373</td>\n",
       "      <td>MSSBA8-724-05-30373</td>\n",
       "      <td>RNCBA06-724-05-30373</td>\n",
       "      <td>RNCBA06</td>\n",
       "    </tr>\n",
       "    <tr>\n",
       "      <th>119</th>\n",
       "      <td>MSSBA8</td>\n",
       "      <td>0000-00-00</td>\n",
       "      <td>00:00:00</td>\n",
       "      <td>724</td>\n",
       "      <td>05</td>\n",
       "      <td>55173</td>\n",
       "      <td>724-05-55173</td>\n",
       "      <td>MSSBA8-724-05-55173</td>\n",
       "      <td>RNCBA88-724-05-55173</td>\n",
       "      <td>RNCBA88</td>\n",
       "    </tr>\n",
       "    <tr>\n",
       "      <th>120</th>\n",
       "      <td>MSSBA8</td>\n",
       "      <td>0000-00-00</td>\n",
       "      <td>00:00:00</td>\n",
       "      <td>724</td>\n",
       "      <td>05</td>\n",
       "      <td>55075</td>\n",
       "      <td>724-05-55075</td>\n",
       "      <td>MSSBA8-724-05-55075</td>\n",
       "      <td>RNCBA88-724-05-55075</td>\n",
       "      <td>RNCBA88</td>\n",
       "    </tr>\n",
       "    <tr>\n",
       "      <th>121</th>\n",
       "      <td>MSSBA8</td>\n",
       "      <td>0000-00-00</td>\n",
       "      <td>00:00:00</td>\n",
       "      <td>724</td>\n",
       "      <td>05</td>\n",
       "      <td>55171</td>\n",
       "      <td>724-05-55171</td>\n",
       "      <td>MSSBA8-724-05-55171</td>\n",
       "      <td>RNCBA88-724-05-55171</td>\n",
       "      <td>RNCBA88</td>\n",
       "    </tr>\n",
       "  </tbody>\n",
       "</table>\n",
       "<p>122 rows × 10 columns</p>\n",
       "</div>"
      ],
      "text/plain": [
       "        MSS        Date      Time  MCC MNC    LAC           LAI  \\\n",
       "0    MSSBA3  0000-00-00  00:00:00  724  05  50877  724-05-50877   \n",
       "1    MSSBA3  0000-00-00  00:00:00  724  05  51477  724-05-51477   \n",
       "2    MSSBA3  0000-00-00  00:00:00  724  05  52377  724-05-52377   \n",
       "3    MSSBA3  0000-00-00  00:00:00  724  05  54477  724-05-54477   \n",
       "4    MSSBA3  0000-00-00  00:00:00  724  05  51077  724-05-51077   \n",
       "..      ...         ...       ...  ...  ..    ...           ...   \n",
       "117  MSSBA8  0000-00-00  00:00:00  724  05  30377  724-05-30377   \n",
       "118  MSSBA8  0000-00-00  00:00:00  724  05  30373  724-05-30373   \n",
       "119  MSSBA8  0000-00-00  00:00:00  724  05  55173  724-05-55173   \n",
       "120  MSSBA8  0000-00-00  00:00:00  724  05  55075  724-05-55075   \n",
       "121  MSSBA8  0000-00-00  00:00:00  724  05  55171  724-05-55171   \n",
       "\n",
       "                 MSS-LAI                NE-LAI      RNC  \n",
       "0    MSSBA3-724-05-50877  RNCBA01-724-05-50877  RNCBA01  \n",
       "1    MSSBA3-724-05-51477  RNCBA01-724-05-51477  RNCBA01  \n",
       "2    MSSBA3-724-05-52377  RNCBA01-724-05-52377  RNCBA01  \n",
       "3    MSSBA3-724-05-54477  RNCBA01-724-05-54477  RNCBA01  \n",
       "4    MSSBA3-724-05-51077  RNCBA01-724-05-51077  RNCBA01  \n",
       "..                   ...                   ...      ...  \n",
       "117  MSSBA8-724-05-30377  RNCBA06-724-05-30377  RNCBA06  \n",
       "118  MSSBA8-724-05-30373  RNCBA06-724-05-30373  RNCBA06  \n",
       "119  MSSBA8-724-05-55173  RNCBA88-724-05-55173  RNCBA88  \n",
       "120  MSSBA8-724-05-55075  RNCBA88-724-05-55075  RNCBA88  \n",
       "121  MSSBA8-724-05-55171  RNCBA88-724-05-55171  RNCBA88  \n",
       "\n",
       "[122 rows x 10 columns]"
      ]
     },
     "execution_count": 15,
     "metadata": {},
     "output_type": "execute_result"
    }
   ],
   "source": [
    "# ERICSSON DataFrame => Drop some columns to get just the most important ones.\n",
    "\n",
    "df_ERI_MSS_RNC_LAIs = df_ERI_MSS_RNC_LACs\n",
    "df_ERI_MSS_RNC_LAIs['LAI'] =  df_ERI_MSS_RNC_LAIs['MCC'] + '-' + df_ERI_MSS_RNC_LAIs['MNC'] + '-' + df_ERI_MSS_RNC_LAIs['LAC']\n",
    "df_ERI_MSS_RNC_LAIs['MSS-LAI'] =  df_ERI_MSS_RNC_LAIs['MSS'] + '-' + df_ERI_MSS_RNC_LAIs['LAI']\n",
    "df_ERI_MSS_RNC_LAIs['NE-LAI'] =  df_ERI_MSS_RNC_LAIs['RNC'] + '-' + df_ERI_MSS_RNC_LAIs['LAI']\n",
    "\n",
    "ERI_drop_col = []\n",
    "df_ERI_MSS_RNC_LAIs = df_ERI_MSS_RNC_LAIs.drop(columns=ERI_drop_col)\n",
    "ERI_col = ['MSS', 'Date', 'Time', 'MCC', 'MNC', 'LAC', 'LAI', 'MSS-LAI', 'NE-LAI', 'RNC']\n",
    "df_ERI_MSS_RNC_LAIs = df_ERI_MSS_RNC_LAIs[ERI_col]\n",
    "df_ERI_MSS_RNC_LAIs"
   ]
  },
  {
   "cell_type": "markdown",
   "metadata": {},
   "source": [
    "### Plot + Insights"
   ]
  },
  {
   "cell_type": "code",
   "execution_count": 16,
   "metadata": {},
   "outputs": [],
   "source": [
    "# Continue..."
   ]
  },
  {
   "cell_type": "code",
   "execution_count": null,
   "metadata": {},
   "outputs": [],
   "source": []
  }
 ],
 "metadata": {
  "kernelspec": {
   "display_name": "Python 3",
   "language": "python",
   "name": "python3"
  },
  "language_info": {
   "codemirror_mode": {
    "name": "ipython",
    "version": 3
   },
   "file_extension": ".py",
   "mimetype": "text/x-python",
   "name": "python",
   "nbconvert_exporter": "python",
   "pygments_lexer": "ipython3",
   "version": "3.8.8"
  }
 },
 "nbformat": 4,
 "nbformat_minor": 4
}
