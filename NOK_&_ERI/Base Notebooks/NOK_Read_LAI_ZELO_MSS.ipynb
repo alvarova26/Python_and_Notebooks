{
 "cells": [
  {
   "cell_type": "markdown",
   "metadata": {},
   "source": [
    "# ALL LACs of ALL MSSs"
   ]
  },
  {
   "cell_type": "markdown",
   "metadata": {},
   "source": [
    "## Import Modules"
   ]
  },
  {
   "cell_type": "code",
   "execution_count": 1,
   "metadata": {
    "scrolled": true
   },
   "outputs": [],
   "source": [
    "# Import modules (NOK_ERI_Toolkit) & others that will be needed along the program\n",
    "import pandas as pd\n",
    "import numpy as np\n",
    "from matplotlib import pyplot as plt\n",
    "import seaborn as sns\n",
    "import NOK_ERI_Toolkit as NOK_ERI_Toolkit\n",
    "\n",
    "%matplotlib inline\n",
    "%load_ext autoreload\n",
    "%autoreload 2"
   ]
  },
  {
   "cell_type": "markdown",
   "metadata": {},
   "source": [
    "## Main Program"
   ]
  },
  {
   "cell_type": "markdown",
   "metadata": {},
   "source": [
    "### Initialize variables"
   ]
  },
  {
   "cell_type": "code",
   "execution_count": 2,
   "metadata": {},
   "outputs": [],
   "source": [
    "# Initialize variables used in the program \n",
    "MSS_Name = '0'\n",
    "MSS_Date = '0'\n",
    "MSS_Time = '0'\n",
    "LAC_MCC = '0'\n",
    "LAC_MNC = '0'\n",
    "LAC_NO = '0'\n",
    "LAC_NAME = '0'\n",
    "LAC_AT = '0'\n",
    "LAC_REPAG_INT = '0'\n",
    "LAC_RNGP = '0'\n",
    "LAC_MNC_AL = '0'\n",
    "LAC_DSAV = '0'\n",
    "LAC_TZ = '0'\n",
    "LAC_HONLA = '0'\n",
    "\n",
    "MSS_Pars = [MSS_Name, MSS_Date, MSS_Time]\n",
    "LAC_Pars = [LAC_MCC, LAC_MNC, LAC_NO, LAC_NAME, LAC_AT, LAC_REPAG_INT, LAC_RNGP, LAC_MNC_AL, LAC_DSAV, LAC_TZ, LAC_HONLA]\n",
    "\n",
    "index = 0\n",
    "position = 0\n",
    "LAC_count = 0"
   ]
  },
  {
   "cell_type": "code",
   "execution_count": 3,
   "metadata": {},
   "outputs": [],
   "source": [
    "# Create & Initialize & Set the pd.DataFrame\n",
    "col_names = ['MSS','Date','Time','MCC','MNC','LAC_str','LAC_NAME','AT','INT','RNGP','MNC_AL','DSAV','TZ','HONLA']\n",
    "df_MSS_LACs = pd.DataFrame(columns=col_names)\n",
    "df_MSS_LACs.loc[0] = [MSS_Name, MSS_Date, MSS_Time, LAC_MCC, LAC_MNC, LAC_NO, LAC_NAME, LAC_AT, LAC_REPAG_INT, LAC_RNGP, LAC_MNC_AL, LAC_DSAV, LAC_TZ, LAC_HONLA]"
   ]
  },
  {
   "cell_type": "code",
   "execution_count": 4,
   "metadata": {},
   "outputs": [],
   "source": [
    "# Especify the path of the log file\n",
    "path_to_file = 'C:/Users/Alvaro/OneDrive/My Files/_Scripts_Models/Commands Generators Logs/20220204 - ZELO - All_MSS.txt'"
   ]
  },
  {
   "cell_type": "markdown",
   "metadata": {},
   "source": [
    "### Load log file"
   ]
  },
  {
   "cell_type": "code",
   "execution_count": 5,
   "metadata": {},
   "outputs": [],
   "source": [
    "# Load the log file\n",
    "log_file = NOK_ERI_Toolkit.open_file(path_to_file)"
   ]
  },
  {
   "cell_type": "markdown",
   "metadata": {},
   "source": [
    "### Execute & Create pd.DataFrame & Pring (Main Function)"
   ]
  },
  {
   "cell_type": "code",
   "execution_count": 6,
   "metadata": {},
   "outputs": [],
   "source": [
    "# Run the main program (txt => pd.DataFrame)\n",
    "while (index < len(log_file)-1):\n",
    "    index, position, MSS_Pars = NOK_ERI_Toolkit.get_mss_pars(log_file, index,'ZELO;')\n",
    "    while (index < len(log_file)-1) and (not position == 999):\n",
    "        index, position, LAC_Pars = NOK_ERI_Toolkit.get_zelo_lac_pars(log_file,index)\n",
    "        if position == 999:                                         # if 'COMMAND EXECUTED'\n",
    "            index = index + 1                                       # Increase index to read next line\n",
    "        else:\n",
    "            new_LAC = MSS_Pars + LAC_Pars\n",
    "            df_MSS_LACs.loc[LAC_count] = new_LAC\n",
    "            LAC_count = LAC_count + 1"
   ]
  },
  {
   "cell_type": "markdown",
   "metadata": {},
   "source": [
    "### Analyze Data"
   ]
  },
  {
   "cell_type": "code",
   "execution_count": 7,
   "metadata": {},
   "outputs": [
    {
     "data": {
      "text/html": [
       "<div>\n",
       "<style scoped>\n",
       "    .dataframe tbody tr th:only-of-type {\n",
       "        vertical-align: middle;\n",
       "    }\n",
       "\n",
       "    .dataframe tbody tr th {\n",
       "        vertical-align: top;\n",
       "    }\n",
       "\n",
       "    .dataframe thead th {\n",
       "        text-align: right;\n",
       "    }\n",
       "</style>\n",
       "<table border=\"1\" class=\"dataframe\">\n",
       "  <thead>\n",
       "    <tr style=\"text-align: right;\">\n",
       "      <th></th>\n",
       "      <th>MSS</th>\n",
       "      <th>Date</th>\n",
       "      <th>Time</th>\n",
       "      <th>MCC</th>\n",
       "      <th>MNC</th>\n",
       "      <th>LAC_str</th>\n",
       "      <th>LAC_NAME</th>\n",
       "      <th>LAC_int</th>\n",
       "      <th>LAI</th>\n",
       "      <th>NE-LAI</th>\n",
       "    </tr>\n",
       "  </thead>\n",
       "  <tbody>\n",
       "    <tr>\n",
       "      <th>0</th>\n",
       "      <td>MSSBA06</td>\n",
       "      <td>2022-02-04</td>\n",
       "      <td>09:51:20</td>\n",
       "      <td>724</td>\n",
       "      <td>05</td>\n",
       "      <td>01671</td>\n",
       "      <td>LAC01671</td>\n",
       "      <td>1671</td>\n",
       "      <td>724-05-1671</td>\n",
       "      <td>MSSBA06-724-05-1671</td>\n",
       "    </tr>\n",
       "    <tr>\n",
       "      <th>1</th>\n",
       "      <td>MSSBA06</td>\n",
       "      <td>2022-02-04</td>\n",
       "      <td>09:51:20</td>\n",
       "      <td>724</td>\n",
       "      <td>05</td>\n",
       "      <td>02575</td>\n",
       "      <td>LAC2575</td>\n",
       "      <td>2575</td>\n",
       "      <td>724-05-2575</td>\n",
       "      <td>MSSBA06-724-05-2575</td>\n",
       "    </tr>\n",
       "    <tr>\n",
       "      <th>2</th>\n",
       "      <td>MSSBA06</td>\n",
       "      <td>2022-02-04</td>\n",
       "      <td>09:51:20</td>\n",
       "      <td>724</td>\n",
       "      <td>05</td>\n",
       "      <td>02775</td>\n",
       "      <td>LAC2775</td>\n",
       "      <td>2775</td>\n",
       "      <td>724-05-2775</td>\n",
       "      <td>MSSBA06-724-05-2775</td>\n",
       "    </tr>\n",
       "    <tr>\n",
       "      <th>3</th>\n",
       "      <td>MSSBA06</td>\n",
       "      <td>2022-02-04</td>\n",
       "      <td>09:51:20</td>\n",
       "      <td>724</td>\n",
       "      <td>05</td>\n",
       "      <td>01575</td>\n",
       "      <td>LAC1575</td>\n",
       "      <td>1575</td>\n",
       "      <td>724-05-1575</td>\n",
       "      <td>MSSBA06-724-05-1575</td>\n",
       "    </tr>\n",
       "    <tr>\n",
       "      <th>4</th>\n",
       "      <td>MSSBA06</td>\n",
       "      <td>2022-02-04</td>\n",
       "      <td>09:51:20</td>\n",
       "      <td>724</td>\n",
       "      <td>05</td>\n",
       "      <td>01475</td>\n",
       "      <td>LAC1475</td>\n",
       "      <td>1475</td>\n",
       "      <td>724-05-1475</td>\n",
       "      <td>MSSBA06-724-05-1475</td>\n",
       "    </tr>\n",
       "    <tr>\n",
       "      <th>...</th>\n",
       "      <td>...</td>\n",
       "      <td>...</td>\n",
       "      <td>...</td>\n",
       "      <td>...</td>\n",
       "      <td>...</td>\n",
       "      <td>...</td>\n",
       "      <td>...</td>\n",
       "      <td>...</td>\n",
       "      <td>...</td>\n",
       "      <td>...</td>\n",
       "    </tr>\n",
       "    <tr>\n",
       "      <th>430</th>\n",
       "      <td>MSSBA0A</td>\n",
       "      <td>2022-02-04</td>\n",
       "      <td>09:50:20</td>\n",
       "      <td>724</td>\n",
       "      <td>05</td>\n",
       "      <td>52079</td>\n",
       "      <td>LAC52079</td>\n",
       "      <td>52079</td>\n",
       "      <td>724-05-52079</td>\n",
       "      <td>MSSBA0A-724-05-52079</td>\n",
       "    </tr>\n",
       "    <tr>\n",
       "      <th>431</th>\n",
       "      <td>MSSBA0A</td>\n",
       "      <td>2022-02-04</td>\n",
       "      <td>09:50:20</td>\n",
       "      <td>724</td>\n",
       "      <td>05</td>\n",
       "      <td>23875</td>\n",
       "      <td>LAC23875</td>\n",
       "      <td>23875</td>\n",
       "      <td>724-05-23875</td>\n",
       "      <td>MSSBA0A-724-05-23875</td>\n",
       "    </tr>\n",
       "    <tr>\n",
       "      <th>432</th>\n",
       "      <td>MSSBA0A</td>\n",
       "      <td>2022-02-04</td>\n",
       "      <td>09:50:20</td>\n",
       "      <td>724</td>\n",
       "      <td>28</td>\n",
       "      <td>40675</td>\n",
       "      <td>LAC40675RS</td>\n",
       "      <td>40675</td>\n",
       "      <td>724-28-40675</td>\n",
       "      <td>MSSBA0A-724-28-40675</td>\n",
       "    </tr>\n",
       "    <tr>\n",
       "      <th>433</th>\n",
       "      <td>MSSBA0A</td>\n",
       "      <td>2022-02-04</td>\n",
       "      <td>09:50:20</td>\n",
       "      <td>724</td>\n",
       "      <td>05</td>\n",
       "      <td>40675</td>\n",
       "      <td>LAC40675</td>\n",
       "      <td>40675</td>\n",
       "      <td>724-05-40675</td>\n",
       "      <td>MSSBA0A-724-05-40675</td>\n",
       "    </tr>\n",
       "    <tr>\n",
       "      <th>434</th>\n",
       "      <td>MSSBA0A</td>\n",
       "      <td>2022-02-04</td>\n",
       "      <td>09:50:20</td>\n",
       "      <td>724</td>\n",
       "      <td>05</td>\n",
       "      <td>54175</td>\n",
       "      <td>LAC54175</td>\n",
       "      <td>54175</td>\n",
       "      <td>724-05-54175</td>\n",
       "      <td>MSSBA0A-724-05-54175</td>\n",
       "    </tr>\n",
       "  </tbody>\n",
       "</table>\n",
       "<p>435 rows × 10 columns</p>\n",
       "</div>"
      ],
      "text/plain": [
       "         MSS        Date      Time  MCC MNC LAC_str    LAC_NAME  LAC_int  \\\n",
       "0    MSSBA06  2022-02-04  09:51:20  724  05   01671    LAC01671     1671   \n",
       "1    MSSBA06  2022-02-04  09:51:20  724  05   02575     LAC2575     2575   \n",
       "2    MSSBA06  2022-02-04  09:51:20  724  05   02775     LAC2775     2775   \n",
       "3    MSSBA06  2022-02-04  09:51:20  724  05   01575     LAC1575     1575   \n",
       "4    MSSBA06  2022-02-04  09:51:20  724  05   01475     LAC1475     1475   \n",
       "..       ...         ...       ...  ...  ..     ...         ...      ...   \n",
       "430  MSSBA0A  2022-02-04  09:50:20  724  05   52079    LAC52079    52079   \n",
       "431  MSSBA0A  2022-02-04  09:50:20  724  05   23875    LAC23875    23875   \n",
       "432  MSSBA0A  2022-02-04  09:50:20  724  28   40675  LAC40675RS    40675   \n",
       "433  MSSBA0A  2022-02-04  09:50:20  724  05   40675    LAC40675    40675   \n",
       "434  MSSBA0A  2022-02-04  09:50:20  724  05   54175    LAC54175    54175   \n",
       "\n",
       "              LAI                NE-LAI  \n",
       "0     724-05-1671   MSSBA06-724-05-1671  \n",
       "1     724-05-2575   MSSBA06-724-05-2575  \n",
       "2     724-05-2775   MSSBA06-724-05-2775  \n",
       "3     724-05-1575   MSSBA06-724-05-1575  \n",
       "4     724-05-1475   MSSBA06-724-05-1475  \n",
       "..            ...                   ...  \n",
       "430  724-05-52079  MSSBA0A-724-05-52079  \n",
       "431  724-05-23875  MSSBA0A-724-05-23875  \n",
       "432  724-28-40675  MSSBA0A-724-28-40675  \n",
       "433  724-05-40675  MSSBA0A-724-05-40675  \n",
       "434  724-05-54175  MSSBA0A-724-05-54175  \n",
       "\n",
       "[435 rows x 10 columns]"
      ]
     },
     "execution_count": 7,
     "metadata": {},
     "output_type": "execute_result"
    }
   ],
   "source": [
    "# Working on it...\n",
    "\n",
    "drop_col = ['AT', 'INT', 'RNGP', 'MNC_AL', 'DSAV', 'TZ', 'HONLA']\n",
    "df_MSS_LAIs = df_MSS_LACs.drop(columns=drop_col)\n",
    "df_MSS_LAIs['LAC_int'] =  df_MSS_LAIs['LAC_str'].astype(int)\n",
    "df_MSS_LAIs['LAI'] =  df_MSS_LAIs['MCC'] + '-' + df_MSS_LAIs['MNC'] + '-' + df_MSS_LAIs['LAC_int'].astype(str)\n",
    "df_MSS_LAIs['NE-LAI'] =  df_MSS_LAIs['MSS'] + '-' + df_MSS_LAIs['LAI']\n",
    "df_MSS_LAIs"
   ]
  },
  {
   "cell_type": "markdown",
   "metadata": {},
   "source": [
    "### Plot + Insights"
   ]
  },
  {
   "cell_type": "code",
   "execution_count": 8,
   "metadata": {},
   "outputs": [],
   "source": [
    "# Continue..."
   ]
  }
 ],
 "metadata": {
  "kernelspec": {
   "display_name": "Python 3",
   "language": "python",
   "name": "python3"
  },
  "language_info": {
   "codemirror_mode": {
    "name": "ipython",
    "version": 3
   },
   "file_extension": ".py",
   "mimetype": "text/x-python",
   "name": "python",
   "nbconvert_exporter": "python",
   "pygments_lexer": "ipython3",
   "version": "3.8.8"
  }
 },
 "nbformat": 4,
 "nbformat_minor": 4
}
