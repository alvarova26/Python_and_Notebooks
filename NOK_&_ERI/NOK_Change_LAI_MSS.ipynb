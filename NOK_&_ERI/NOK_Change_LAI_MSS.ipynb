{
 "cells": [
  {
   "cell_type": "markdown",
   "metadata": {
    "id": "5lkrBvVl5UHd"
   },
   "source": [
    "# Change LAI of 2G & 3G cells in Nokia's MSSs"
   ]
  },
  {
   "cell_type": "markdown",
   "metadata": {
    "id": "QKWzdg5Y5k8r"
   },
   "source": [
    "## Import modules"
   ]
  },
  {
   "cell_type": "code",
   "execution_count": 1,
   "metadata": {
    "id": "_8C2lA8p5SrP"
   },
   "outputs": [],
   "source": [
    "# Import modules (NOK_ERI_Toolkit) & others that will be needed along the program\n",
    "import pandas as pd\n",
    "import numpy as np\n",
    "from matplotlib import pyplot as plt\n",
    "import seaborn as sns\n",
    "import NOK_ERI_Toolkit as NOK_ERI_Toolkit\n",
    "\n",
    "%matplotlib inline\n",
    "%load_ext autoreload\n",
    "%autoreload 2"
   ]
  },
  {
   "cell_type": "markdown",
   "metadata": {
    "id": "4uI8vTmC5w1F"
   },
   "source": [
    "## Load 2G & 3G data form \"Change LAI - Python Template.xlsx\""
   ]
  },
  {
   "cell_type": "markdown",
   "metadata": {},
   "source": [
    "## REMEMBER TO UPDATE THE NAME OF THE TEMPLATE"
   ]
  },
  {
   "cell_type": "code",
   "execution_count": 2,
   "metadata": {},
   "outputs": [],
   "source": [
    "# Especify the path to the file and read the template\n",
    "NOK_path_to_file = 'C:/Users/Alvaro/OneDrive/My Files/_Scripts_Models/Commands Generators/Change LAI - Python Template v2.xlsx'\n",
    "xls = pd.ExcelFile(NOK_path_to_file)                                                                                        #Read excel file"
   ]
  },
  {
   "cell_type": "code",
   "execution_count": 3,
   "metadata": {},
   "outputs": [],
   "source": [
    "# Create DataFrame for 2G data & clean it up\n",
    "df_nok_2g = pd.read_excel(xls, sheet_name='NOK_2G', dtype=str) #Read specific sheet | dtype=str forces to read as string to avoid lose '0s'\n",
    "df_nok_2g['New CGI'] = df_nok_2g['MCC'] + '-' + df_nok_2g['MNC'] + '-' + df_nok_2g['New LAC'] + '-' + df_nok_2g['CI/SA']    # Create col New_CGI\n",
    "df_nok_2g['DE-PARA'] = 'de LAC=' + df_nok_2g['LAC'] + ' para LAC=' + df_nok_2g['New LAC']                                   # Create col DE-PARA\n",
    "df_nok_2g = df_nok_2g.sort_values(by=['MSS', 'Municipio', 'NE', 'CELL_NAME'], ignore_index=True)                            # Sort DataFrame"
   ]
  },
  {
   "cell_type": "code",
   "execution_count": 4,
   "metadata": {},
   "outputs": [],
   "source": [
    "# Create DataFrame for 3G data & clean it up\n",
    "df_nok_3g = pd.read_excel(xls, sheet_name='NOK_3G', dtype=str) #Read specific sheet | dtype=str forces to read as string to avoid lose '0s'\n",
    "df_nok_3g['New CGI'] = df_nok_3g['MCC'] + '-' + df_nok_3g['MNC'] + '-' + df_nok_3g['New LAC'] + '-' + df_nok_3g['CI/SA']    # Create col New_CGI\n",
    "df_nok_3g['DE-PARA'] = 'de LAC=' + df_nok_3g['LAC'] + ' para LAC=' + df_nok_3g['New LAC']                                   # Create col DE-PARA\n",
    "df_nok_3g = df_nok_3g.sort_values(by=['MSS', 'Municipio', 'NE', 'CELL_NAME'], ignore_index=True)                            # Sort DataFrame"
   ]
  },
  {
   "cell_type": "markdown",
   "metadata": {
    "id": "7H5BZ8u5lJf8"
   },
   "source": [
    "## Print \"change\" 2G commands"
   ]
  },
  {
   "cell_type": "code",
   "execution_count": 5,
   "metadata": {},
   "outputs": [
    {
     "name": "stdout",
     "output_type": "stream",
     "text": [
      "\n",
      "! Feira | Change de LAC=1475 para LAC=21975\n",
      "!--------------------------------------------------------------------------------------\n",
      "ZEPO:NAME=BAFSA011;\n",
      "ZEPO:NAME=BAFSA012;\n",
      "ZEPO:NAME=BAFSA013;\n",
      "ZEPS:NAME=BAFSA011:L;\n",
      "ZEPS:NAME=BAFSA012:L;\n",
      "ZEPS:NAME=BAFSA013:L;\n",
      "ZEPB:NAME=BAFSA011:BSCNAME=BSCBA49:LANAME=LAC21975;\n",
      "ZEPB:NAME=BAFSA012:BSCNAME=BSCBA49:LANAME=LAC21975;\n",
      "ZEPB:NAME=BAFSA013:BSCNAME=BSCBA49:LANAME=LAC21975;\n",
      "ZEPS:NAME=BAFSA011:U;\n",
      "ZEPS:NAME=BAFSA012:U;\n",
      "ZEPS:NAME=BAFSA013:U;\n",
      "\n",
      "! Camamu | Change de LAC=2573 para LAC=22773\n",
      "!--------------------------------------------------------------------------------------\n",
      "ZEPO:NAME=BACAM0101;\n",
      "ZEPO:NAME=BACAM0102;\n",
      "ZEPO:NAME=BACAM0103;\n",
      "ZEPO:NAME=BACAM0105;\n",
      "ZEPO:NAME=BACAM0201;\n",
      "ZEPO:NAME=BACAM0202;\n",
      "ZEPO:NAME=BACAM0203;\n",
      "ZEPS:NAME=BACAM0101:L;\n",
      "ZEPS:NAME=BACAM0102:L;\n",
      "ZEPS:NAME=BACAM0103:L;\n",
      "ZEPS:NAME=BACAM0105:L;\n",
      "ZEPS:NAME=BACAM0201:L;\n",
      "ZEPS:NAME=BACAM0202:L;\n",
      "ZEPS:NAME=BACAM0203:L;\n",
      "ZEPB:NAME=BACAM0101:BSCNAME=BSCBA58:LANAME=LAC22773;\n",
      "ZEPB:NAME=BACAM0102:BSCNAME=BSCBA58:LANAME=LAC22773;\n",
      "ZEPB:NAME=BACAM0103:BSCNAME=BSCBA58:LANAME=LAC22773;\n",
      "ZEPB:NAME=BACAM0105:BSCNAME=BSCBA58:LANAME=LAC22773;\n",
      "ZEPB:NAME=BACAM0201:BSCNAME=BSCBA58:LANAME=LAC22773;\n",
      "ZEPB:NAME=BACAM0202:BSCNAME=BSCBA58:LANAME=LAC22773;\n",
      "ZEPB:NAME=BACAM0203:BSCNAME=BSCBA58:LANAME=LAC22773;\n",
      "ZEPS:NAME=BACAM0101:U;\n",
      "ZEPS:NAME=BACAM0102:U;\n",
      "ZEPS:NAME=BACAM0103:U;\n",
      "ZEPS:NAME=BACAM0105:U;\n",
      "ZEPS:NAME=BACAM0201:U;\n",
      "ZEPS:NAME=BACAM0202:U;\n",
      "ZEPS:NAME=BACAM0203:U;\n",
      "\n",
      "! Csnapolis | Change de LAC=21575 para LAC=23375\n",
      "!--------------------------------------------------------------------------------------\n",
      "ZEPO:NAME=BACSW011;\n",
      "ZEPO:NAME=BACSW012;\n",
      "ZEPO:NAME=BACSW013;\n",
      "ZEPS:NAME=BACSW011:L;\n",
      "ZEPS:NAME=BACSW012:L;\n",
      "ZEPS:NAME=BACSW013:L;\n",
      "ZEPB:NAME=BACSW011:BSCNAME=BSCBA39:LANAME=LAC23375;\n",
      "ZEPB:NAME=BACSW012:BSCNAME=BSCBA39:LANAME=LAC23375;\n",
      "ZEPB:NAME=BACSW013:BSCNAME=BSCBA39:LANAME=LAC23375;\n",
      "ZEPS:NAME=BACSW011:U;\n",
      "ZEPS:NAME=BACSW012:U;\n",
      "ZEPS:NAME=BACSW013:U;\n",
      "\n",
      "! Ppwnopolis | Change de LAC=21375 para LAC=22775\n",
      "!--------------------------------------------------------------------------------------\n",
      "ZEPO:NAME=BAPPW011;\n",
      "ZEPO:NAME=BAPPW012;\n",
      "ZEPO:NAME=BAPPW013;\n",
      "ZEPS:NAME=BAPPW011:L;\n",
      "ZEPS:NAME=BAPPW012:L;\n",
      "ZEPS:NAME=BAPPW013:L;\n",
      "ZEPB:NAME=BAPPW011:BSCNAME=BSCBA39:LANAME=LAC22775;\n",
      "ZEPB:NAME=BAPPW012:BSCNAME=BSCBA39:LANAME=LAC22775;\n",
      "ZEPB:NAME=BAPPW013:BSCNAME=BSCBA39:LANAME=LAC22775;\n",
      "ZEPS:NAME=BAPPW011:U;\n",
      "ZEPS:NAME=BAPPW012:U;\n",
      "ZEPS:NAME=BAPPW013:U;\n"
     ]
    },
    {
     "data": {
      "text/plain": [
       "True"
      ]
     },
     "execution_count": 5,
     "metadata": {},
     "output_type": "execute_result"
    }
   ],
   "source": [
    "# Get the \"change\" commands\n",
    "NOK_ERI_Toolkit.change_lai_2g_nok(my_df=df_nok_2g, my_cmd='change')"
   ]
  },
  {
   "cell_type": "markdown",
   "metadata": {
    "id": "7H5BZ8u5lJf8"
   },
   "source": [
    "## Print \"fallback\" 2G commands"
   ]
  },
  {
   "cell_type": "code",
   "execution_count": 6,
   "metadata": {},
   "outputs": [
    {
     "name": "stdout",
     "output_type": "stream",
     "text": [
      "\n",
      "! Feira | Fallback de LAC=1475 para LAC=21975\n",
      "!--------------------------------------------------------------------------------------\n",
      "ZEPO:NAME=BAFSA011;\n",
      "ZEPO:NAME=BAFSA012;\n",
      "ZEPO:NAME=BAFSA013;\n",
      "ZEPS:NAME=BAFSA011:L;\n",
      "ZEPS:NAME=BAFSA012:L;\n",
      "ZEPS:NAME=BAFSA013:L;\n",
      "ZEPB:NAME=BAFSA011:BSCNAME=BSCBA49:LANAME=LAC1475;\n",
      "ZEPB:NAME=BAFSA012:BSCNAME=BSCBA49:LANAME=LAC1475;\n",
      "ZEPB:NAME=BAFSA013:BSCNAME=BSCBA49:LANAME=LAC1475;\n",
      "ZEPS:NAME=BAFSA011:U;\n",
      "ZEPS:NAME=BAFSA012:U;\n",
      "ZEPS:NAME=BAFSA013:U;\n",
      "\n",
      "! Camamu | Fallback de LAC=2573 para LAC=22773\n",
      "!--------------------------------------------------------------------------------------\n",
      "ZEPO:NAME=BACAM0101;\n",
      "ZEPO:NAME=BACAM0102;\n",
      "ZEPO:NAME=BACAM0103;\n",
      "ZEPO:NAME=BACAM0105;\n",
      "ZEPO:NAME=BACAM0201;\n",
      "ZEPO:NAME=BACAM0202;\n",
      "ZEPO:NAME=BACAM0203;\n",
      "ZEPS:NAME=BACAM0101:L;\n",
      "ZEPS:NAME=BACAM0102:L;\n",
      "ZEPS:NAME=BACAM0103:L;\n",
      "ZEPS:NAME=BACAM0105:L;\n",
      "ZEPS:NAME=BACAM0201:L;\n",
      "ZEPS:NAME=BACAM0202:L;\n",
      "ZEPS:NAME=BACAM0203:L;\n",
      "ZEPB:NAME=BACAM0101:BSCNAME=BSCBA58:LANAME=LAC2573;\n",
      "ZEPB:NAME=BACAM0102:BSCNAME=BSCBA58:LANAME=LAC2573;\n",
      "ZEPB:NAME=BACAM0103:BSCNAME=BSCBA58:LANAME=LAC2573;\n",
      "ZEPB:NAME=BACAM0105:BSCNAME=BSCBA58:LANAME=LAC2573;\n",
      "ZEPB:NAME=BACAM0201:BSCNAME=BSCBA58:LANAME=LAC2573;\n",
      "ZEPB:NAME=BACAM0202:BSCNAME=BSCBA58:LANAME=LAC2573;\n",
      "ZEPB:NAME=BACAM0203:BSCNAME=BSCBA58:LANAME=LAC2573;\n",
      "ZEPS:NAME=BACAM0101:U;\n",
      "ZEPS:NAME=BACAM0102:U;\n",
      "ZEPS:NAME=BACAM0103:U;\n",
      "ZEPS:NAME=BACAM0105:U;\n",
      "ZEPS:NAME=BACAM0201:U;\n",
      "ZEPS:NAME=BACAM0202:U;\n",
      "ZEPS:NAME=BACAM0203:U;\n",
      "\n",
      "! Csnapolis | Fallback de LAC=21575 para LAC=23375\n",
      "!--------------------------------------------------------------------------------------\n",
      "ZEPO:NAME=BACSW011;\n",
      "ZEPO:NAME=BACSW012;\n",
      "ZEPO:NAME=BACSW013;\n",
      "ZEPS:NAME=BACSW011:L;\n",
      "ZEPS:NAME=BACSW012:L;\n",
      "ZEPS:NAME=BACSW013:L;\n",
      "ZEPB:NAME=BACSW011:BSCNAME=BSCBA39:LANAME=LAC21575;\n",
      "ZEPB:NAME=BACSW012:BSCNAME=BSCBA39:LANAME=LAC21575;\n",
      "ZEPB:NAME=BACSW013:BSCNAME=BSCBA39:LANAME=LAC21575;\n",
      "ZEPS:NAME=BACSW011:U;\n",
      "ZEPS:NAME=BACSW012:U;\n",
      "ZEPS:NAME=BACSW013:U;\n",
      "\n",
      "! Ppwnopolis | Fallback de LAC=21375 para LAC=22775\n",
      "!--------------------------------------------------------------------------------------\n",
      "ZEPO:NAME=BAPPW011;\n",
      "ZEPO:NAME=BAPPW012;\n",
      "ZEPO:NAME=BAPPW013;\n",
      "ZEPS:NAME=BAPPW011:L;\n",
      "ZEPS:NAME=BAPPW012:L;\n",
      "ZEPS:NAME=BAPPW013:L;\n",
      "ZEPB:NAME=BAPPW011:BSCNAME=BSCBA39:LANAME=LAC21375;\n",
      "ZEPB:NAME=BAPPW012:BSCNAME=BSCBA39:LANAME=LAC21375;\n",
      "ZEPB:NAME=BAPPW013:BSCNAME=BSCBA39:LANAME=LAC21375;\n",
      "ZEPS:NAME=BAPPW011:U;\n",
      "ZEPS:NAME=BAPPW012:U;\n",
      "ZEPS:NAME=BAPPW013:U;\n"
     ]
    },
    {
     "data": {
      "text/plain": [
       "True"
      ]
     },
     "execution_count": 6,
     "metadata": {},
     "output_type": "execute_result"
    }
   ],
   "source": [
    "# Get the \"fallback\" commands\n",
    "NOK_ERI_Toolkit.change_lai_2g_nok(my_df=df_nok_2g, my_cmd='fallback')"
   ]
  },
  {
   "cell_type": "markdown",
   "metadata": {
    "id": "7H5BZ8u5lJf8"
   },
   "source": [
    "## Print \"change\" 3G commands"
   ]
  },
  {
   "cell_type": "code",
   "execution_count": 7,
   "metadata": {},
   "outputs": [
    {
     "name": "stdout",
     "output_type": "stream",
     "text": [
      "\n",
      "! Feira | Change de LAC=1475 para LAC=21975\n",
      "!--------------------------------------------------------------------------------------\n",
      "ZEPO:TYPE=SA,NAME=BAFSA011;\n",
      "ZEPO:TYPE=SA,NAME=BAFSA012;\n",
      "ZEPO:TYPE=SA,NAME=BAFSA013;\n",
      "ZEPS:TYPE=SA,NAME=BAFSA011:L;\n",
      "ZEPS:TYPE=SA,NAME=BAFSA012:L;\n",
      "ZEPS:TYPE=SA,NAME=BAFSA013:L;\n",
      "ZEPF:TYPE=SA,SANAME=BAFSA011:MGWNBR=MSS:MCC=724,MNC=05,LAC=21975;\n",
      "ZEPF:TYPE=SA,SANAME=BAFSA012:MGWNBR=MSS:MCC=724,MNC=05,LAC=21975;\n",
      "ZEPF:TYPE=SA,SANAME=BAFSA013:MGWNBR=MSS:MCC=724,MNC=05,LAC=21975;\n",
      "ZEPS:TYPE=SA,NAME=BAFSA011:U;\n",
      "ZEPS:TYPE=SA,NAME=BAFSA012:U;\n",
      "ZEPS:TYPE=SA,NAME=BAFSA013:U;\n",
      "\n",
      "! Camamu | Change de LAC=2573 para LAC=22773\n",
      "!--------------------------------------------------------------------------------------\n",
      "ZEPO:TYPE=SA,NAME=BACAM0101;\n",
      "ZEPO:TYPE=SA,NAME=BACAM0102;\n",
      "ZEPO:TYPE=SA,NAME=BACAM0103;\n",
      "ZEPO:TYPE=SA,NAME=BACAM0105;\n",
      "ZEPO:TYPE=SA,NAME=BACAM0201;\n",
      "ZEPO:TYPE=SA,NAME=BACAM0202;\n",
      "ZEPO:TYPE=SA,NAME=BACAM0203;\n",
      "ZEPS:TYPE=SA,NAME=BACAM0101:L;\n",
      "ZEPS:TYPE=SA,NAME=BACAM0102:L;\n",
      "ZEPS:TYPE=SA,NAME=BACAM0103:L;\n",
      "ZEPS:TYPE=SA,NAME=BACAM0105:L;\n",
      "ZEPS:TYPE=SA,NAME=BACAM0201:L;\n",
      "ZEPS:TYPE=SA,NAME=BACAM0202:L;\n",
      "ZEPS:TYPE=SA,NAME=BACAM0203:L;\n",
      "ZEPF:TYPE=SA,SANAME=BACAM0101:MGWNBR=MSS:MCC=724,MNC=05,LAC=22773;\n",
      "ZEPF:TYPE=SA,SANAME=BACAM0102:MGWNBR=MSS:MCC=724,MNC=05,LAC=22773;\n",
      "ZEPF:TYPE=SA,SANAME=BACAM0103:MGWNBR=MSS:MCC=724,MNC=05,LAC=22773;\n",
      "ZEPF:TYPE=SA,SANAME=BACAM0105:MGWNBR=MSS:MCC=724,MNC=05,LAC=22773;\n",
      "ZEPF:TYPE=SA,SANAME=BACAM0201:MGWNBR=MSS:MCC=724,MNC=05,LAC=22773;\n",
      "ZEPF:TYPE=SA,SANAME=BACAM0202:MGWNBR=MSS:MCC=724,MNC=05,LAC=22773;\n",
      "ZEPF:TYPE=SA,SANAME=BACAM0203:MGWNBR=MSS:MCC=724,MNC=05,LAC=22773;\n",
      "ZEPS:TYPE=SA,NAME=BACAM0101:U;\n",
      "ZEPS:TYPE=SA,NAME=BACAM0102:U;\n",
      "ZEPS:TYPE=SA,NAME=BACAM0103:U;\n",
      "ZEPS:TYPE=SA,NAME=BACAM0105:U;\n",
      "ZEPS:TYPE=SA,NAME=BACAM0201:U;\n",
      "ZEPS:TYPE=SA,NAME=BACAM0202:U;\n",
      "ZEPS:TYPE=SA,NAME=BACAM0203:U;\n",
      "\n",
      "! Csnapolis | Change de LAC=21575 para LAC=23375\n",
      "!--------------------------------------------------------------------------------------\n",
      "ZEPO:TYPE=SA,NAME=BACSW011;\n",
      "ZEPO:TYPE=SA,NAME=BACSW012;\n",
      "ZEPO:TYPE=SA,NAME=BACSW013;\n",
      "ZEPS:TYPE=SA,NAME=BACSW011:L;\n",
      "ZEPS:TYPE=SA,NAME=BACSW012:L;\n",
      "ZEPS:TYPE=SA,NAME=BACSW013:L;\n",
      "ZEPF:TYPE=SA,SANAME=BACSW011:MGWNBR=MSS:MCC=724,MNC=05,LAC=23375;\n",
      "ZEPF:TYPE=SA,SANAME=BACSW012:MGWNBR=MSS:MCC=724,MNC=05,LAC=23375;\n",
      "ZEPF:TYPE=SA,SANAME=BACSW013:MGWNBR=MSS:MCC=724,MNC=05,LAC=23375;\n",
      "ZEPS:TYPE=SA,NAME=BACSW011:U;\n",
      "ZEPS:TYPE=SA,NAME=BACSW012:U;\n",
      "ZEPS:TYPE=SA,NAME=BACSW013:U;\n",
      "\n",
      "! Ppwnopolis | Change de LAC=21375 para LAC=22775\n",
      "!--------------------------------------------------------------------------------------\n",
      "ZEPO:TYPE=SA,NAME=BAPPW011;\n",
      "ZEPO:TYPE=SA,NAME=BAPPW012;\n",
      "ZEPO:TYPE=SA,NAME=BAPPW013;\n",
      "ZEPS:TYPE=SA,NAME=BAPPW011:L;\n",
      "ZEPS:TYPE=SA,NAME=BAPPW012:L;\n",
      "ZEPS:TYPE=SA,NAME=BAPPW013:L;\n",
      "ZEPF:TYPE=SA,SANAME=BAPPW011:MGWNBR=MSS:MCC=724,MNC=05,LAC=22775;\n",
      "ZEPF:TYPE=SA,SANAME=BAPPW012:MGWNBR=MSS:MCC=724,MNC=05,LAC=22775;\n",
      "ZEPF:TYPE=SA,SANAME=BAPPW013:MGWNBR=MSS:MCC=724,MNC=05,LAC=22775;\n",
      "ZEPS:TYPE=SA,NAME=BAPPW011:U;\n",
      "ZEPS:TYPE=SA,NAME=BAPPW012:U;\n",
      "ZEPS:TYPE=SA,NAME=BAPPW013:U;\n"
     ]
    },
    {
     "data": {
      "text/plain": [
       "True"
      ]
     },
     "execution_count": 7,
     "metadata": {},
     "output_type": "execute_result"
    }
   ],
   "source": [
    "# Get the \"change\" commands\n",
    "NOK_ERI_Toolkit.change_lai_3g_nok(my_df=df_nok_2g, my_cmd='change')"
   ]
  },
  {
   "cell_type": "markdown",
   "metadata": {
    "id": "7H5BZ8u5lJf8"
   },
   "source": [
    "## Print \"fallback\" 3G commands"
   ]
  },
  {
   "cell_type": "code",
   "execution_count": 8,
   "metadata": {},
   "outputs": [
    {
     "name": "stdout",
     "output_type": "stream",
     "text": [
      "\n",
      "! Feira | Fallback de LAC=1475 para LAC=21975\n",
      "!--------------------------------------------------------------------------------------\n",
      "ZEPO:NAME=BAFSA011;\n",
      "ZEPO:NAME=BAFSA012;\n",
      "ZEPO:NAME=BAFSA013;\n",
      "ZEPS:NAME=BAFSA011:L;\n",
      "ZEPS:NAME=BAFSA012:L;\n",
      "ZEPS:NAME=BAFSA013:L;\n",
      "ZEPB:NAME=BAFSA011:BSCNAME=BSCBA49:LANAME=LAC1475;\n",
      "ZEPB:NAME=BAFSA012:BSCNAME=BSCBA49:LANAME=LAC1475;\n",
      "ZEPB:NAME=BAFSA013:BSCNAME=BSCBA49:LANAME=LAC1475;\n",
      "ZEPS:NAME=BAFSA011:U;\n",
      "ZEPS:NAME=BAFSA012:U;\n",
      "ZEPS:NAME=BAFSA013:U;\n",
      "\n",
      "! Camamu | Fallback de LAC=2573 para LAC=22773\n",
      "!--------------------------------------------------------------------------------------\n",
      "ZEPO:NAME=BACAM0101;\n",
      "ZEPO:NAME=BACAM0102;\n",
      "ZEPO:NAME=BACAM0103;\n",
      "ZEPO:NAME=BACAM0105;\n",
      "ZEPO:NAME=BACAM0201;\n",
      "ZEPO:NAME=BACAM0202;\n",
      "ZEPO:NAME=BACAM0203;\n",
      "ZEPS:NAME=BACAM0101:L;\n",
      "ZEPS:NAME=BACAM0102:L;\n",
      "ZEPS:NAME=BACAM0103:L;\n",
      "ZEPS:NAME=BACAM0105:L;\n",
      "ZEPS:NAME=BACAM0201:L;\n",
      "ZEPS:NAME=BACAM0202:L;\n",
      "ZEPS:NAME=BACAM0203:L;\n",
      "ZEPB:NAME=BACAM0101:BSCNAME=BSCBA58:LANAME=LAC2573;\n",
      "ZEPB:NAME=BACAM0102:BSCNAME=BSCBA58:LANAME=LAC2573;\n",
      "ZEPB:NAME=BACAM0103:BSCNAME=BSCBA58:LANAME=LAC2573;\n",
      "ZEPB:NAME=BACAM0105:BSCNAME=BSCBA58:LANAME=LAC2573;\n",
      "ZEPB:NAME=BACAM0201:BSCNAME=BSCBA58:LANAME=LAC2573;\n",
      "ZEPB:NAME=BACAM0202:BSCNAME=BSCBA58:LANAME=LAC2573;\n",
      "ZEPB:NAME=BACAM0203:BSCNAME=BSCBA58:LANAME=LAC2573;\n",
      "ZEPS:NAME=BACAM0101:U;\n",
      "ZEPS:NAME=BACAM0102:U;\n",
      "ZEPS:NAME=BACAM0103:U;\n",
      "ZEPS:NAME=BACAM0105:U;\n",
      "ZEPS:NAME=BACAM0201:U;\n",
      "ZEPS:NAME=BACAM0202:U;\n",
      "ZEPS:NAME=BACAM0203:U;\n",
      "\n",
      "! Csnapolis | Fallback de LAC=21575 para LAC=23375\n",
      "!--------------------------------------------------------------------------------------\n",
      "ZEPO:NAME=BACSW011;\n",
      "ZEPO:NAME=BACSW012;\n",
      "ZEPO:NAME=BACSW013;\n",
      "ZEPS:NAME=BACSW011:L;\n",
      "ZEPS:NAME=BACSW012:L;\n",
      "ZEPS:NAME=BACSW013:L;\n",
      "ZEPB:NAME=BACSW011:BSCNAME=BSCBA39:LANAME=LAC21575;\n",
      "ZEPB:NAME=BACSW012:BSCNAME=BSCBA39:LANAME=LAC21575;\n",
      "ZEPB:NAME=BACSW013:BSCNAME=BSCBA39:LANAME=LAC21575;\n",
      "ZEPS:NAME=BACSW011:U;\n",
      "ZEPS:NAME=BACSW012:U;\n",
      "ZEPS:NAME=BACSW013:U;\n",
      "\n",
      "! Ppwnopolis | Fallback de LAC=21375 para LAC=22775\n",
      "!--------------------------------------------------------------------------------------\n",
      "ZEPO:NAME=BAPPW011;\n",
      "ZEPO:NAME=BAPPW012;\n",
      "ZEPO:NAME=BAPPW013;\n",
      "ZEPS:NAME=BAPPW011:L;\n",
      "ZEPS:NAME=BAPPW012:L;\n",
      "ZEPS:NAME=BAPPW013:L;\n",
      "ZEPB:NAME=BAPPW011:BSCNAME=BSCBA39:LANAME=LAC21375;\n",
      "ZEPB:NAME=BAPPW012:BSCNAME=BSCBA39:LANAME=LAC21375;\n",
      "ZEPB:NAME=BAPPW013:BSCNAME=BSCBA39:LANAME=LAC21375;\n",
      "ZEPS:NAME=BAPPW011:U;\n",
      "ZEPS:NAME=BAPPW012:U;\n",
      "ZEPS:NAME=BAPPW013:U;\n"
     ]
    },
    {
     "data": {
      "text/plain": [
       "True"
      ]
     },
     "execution_count": 8,
     "metadata": {},
     "output_type": "execute_result"
    }
   ],
   "source": [
    "# Get the \"fallback\" commands\n",
    "NOK_ERI_Toolkit.change_lai_2g_nok(my_df=df_nok_2g, my_cmd='fallback')"
   ]
  },
  {
   "cell_type": "code",
   "execution_count": null,
   "metadata": {},
   "outputs": [],
   "source": []
  }
 ],
 "metadata": {
  "colab": {
   "name": "Change LAC MSS Ericsson.ipynb",
   "provenance": []
  },
  "kernelspec": {
   "display_name": "Python 3",
   "language": "python",
   "name": "python3"
  },
  "language_info": {
   "codemirror_mode": {
    "name": "ipython",
    "version": 3
   },
   "file_extension": ".py",
   "mimetype": "text/x-python",
   "name": "python",
   "nbconvert_exporter": "python",
   "pygments_lexer": "ipython3",
   "version": "3.8.8"
  }
 },
 "nbformat": 4,
 "nbformat_minor": 4
}
