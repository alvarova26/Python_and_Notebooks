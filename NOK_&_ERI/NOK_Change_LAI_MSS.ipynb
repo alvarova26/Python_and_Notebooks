{
  "cells": [
    {
      "cell_type": "markdown",
      "metadata": {
        "id": "5lkrBvVl5UHd"
      },
      "source": [
        "# Change LAC MSS Nokia\n",
        "\n"
      ]
    },
    {
      "cell_type": "markdown",
      "metadata": {
        "id": "QKWzdg5Y5k8r"
      },
      "source": [
        "## Import modules"
      ]
    },
    {
      "cell_type": "code",
      "execution_count": null,
      "metadata": {
        "id": "_8C2lA8p5SrP"
      },
      "outputs": [],
      "source": [
        "import pandas as pd\n",
        "import numpy as np\n",
        "import re as re\n",
        "from matplotlib import pyplot as plt\n",
        "import seaborn as sns"
      ]
    },
    {
      "cell_type": "markdown",
      "metadata": {
        "id": "4uI8vTmC5w1F"
      },
      "source": [
        "## Load data and clean it up if necessary"
      ]
    },
    {
      "cell_type": "code",
      "execution_count": null,
      "metadata": {
        "colab": {
          "base_uri": "https://localhost:8080/",
          "height": 337
        },
        "id": "TOY44C3YSHti",
        "outputId": "5949bd99-c80a-4896-afc9-7a71490a3c02"
      },
      "outputs": [
        {
          "data": {
            "text/html": [
              "<div>\n",
              "<style scoped>\n",
              "    .dataframe tbody tr th:only-of-type {\n",
              "        vertical-align: middle;\n",
              "    }\n",
              "\n",
              "    .dataframe tbody tr th {\n",
              "        vertical-align: top;\n",
              "    }\n",
              "\n",
              "    .dataframe thead th {\n",
              "        text-align: right;\n",
              "    }\n",
              "</style>\n",
              "<table border=\"1\" class=\"dataframe\">\n",
              "  <thead>\n",
              "    <tr style=\"text-align: right;\">\n",
              "      <th></th>\n",
              "      <th>NAME</th>\n",
              "      <th>LAC</th>\n",
              "      <th>MCC</th>\n",
              "      <th>MNC</th>\n",
              "      <th>CI</th>\n",
              "      <th>CN</th>\n",
              "      <th>CGI</th>\n",
              "      <th>Altera?</th>\n",
              "      <th>Municipio</th>\n",
              "      <th>New_LAC</th>\n",
              "      <th>New_CGI</th>\n",
              "      <th>DE_PARA</th>\n",
              "    </tr>\n",
              "  </thead>\n",
              "  <tbody>\n",
              "    <tr>\n",
              "      <th>0</th>\n",
              "      <td>UBAVDA01A</td>\n",
              "      <td>30474</td>\n",
              "      <td>724</td>\n",
              "      <td>5</td>\n",
              "      <td>61383</td>\n",
              "      <td>74</td>\n",
              "      <td>724-05-30474-61383</td>\n",
              "      <td>YES</td>\n",
              "      <td>VÁRZEA DA ROÇA</td>\n",
              "      <td>51974</td>\n",
              "      <td>724-05-51974-61383</td>\n",
              "      <td>DE LAC=30474 =&gt; PARA LAC=51974</td>\n",
              "    </tr>\n",
              "    <tr>\n",
              "      <th>1</th>\n",
              "      <td>UBAVDA01B</td>\n",
              "      <td>30474</td>\n",
              "      <td>724</td>\n",
              "      <td>5</td>\n",
              "      <td>61384</td>\n",
              "      <td>74</td>\n",
              "      <td>724-05-30474-61384</td>\n",
              "      <td>YES</td>\n",
              "      <td>VÁRZEA DA ROÇA</td>\n",
              "      <td>51974</td>\n",
              "      <td>724-05-51974-61384</td>\n",
              "      <td>DE LAC=30474 =&gt; PARA LAC=51974</td>\n",
              "    </tr>\n",
              "    <tr>\n",
              "      <th>2</th>\n",
              "      <td>UBAVDA01C</td>\n",
              "      <td>30474</td>\n",
              "      <td>724</td>\n",
              "      <td>5</td>\n",
              "      <td>61385</td>\n",
              "      <td>74</td>\n",
              "      <td>724-05-30474-61385</td>\n",
              "      <td>YES</td>\n",
              "      <td>VÁRZEA DA ROÇA</td>\n",
              "      <td>51974</td>\n",
              "      <td>724-05-51974-61385</td>\n",
              "      <td>DE LAC=30474 =&gt; PARA LAC=51974</td>\n",
              "    </tr>\n",
              "    <tr>\n",
              "      <th>3</th>\n",
              "      <td>UBAVDA01E</td>\n",
              "      <td>30474</td>\n",
              "      <td>724</td>\n",
              "      <td>5</td>\n",
              "      <td>61386</td>\n",
              "      <td>74</td>\n",
              "      <td>724-05-30474-61386</td>\n",
              "      <td>YES</td>\n",
              "      <td>VÁRZEA DA ROÇA</td>\n",
              "      <td>51974</td>\n",
              "      <td>724-05-51974-61386</td>\n",
              "      <td>DE LAC=30474 =&gt; PARA LAC=51974</td>\n",
              "    </tr>\n",
              "    <tr>\n",
              "      <th>4</th>\n",
              "      <td>UBAVDA01F</td>\n",
              "      <td>30474</td>\n",
              "      <td>724</td>\n",
              "      <td>5</td>\n",
              "      <td>61387</td>\n",
              "      <td>74</td>\n",
              "      <td>724-05-30474-61387</td>\n",
              "      <td>YES</td>\n",
              "      <td>VÁRZEA DA ROÇA</td>\n",
              "      <td>51974</td>\n",
              "      <td>724-05-51974-61387</td>\n",
              "      <td>DE LAC=30474 =&gt; PARA LAC=51974</td>\n",
              "    </tr>\n",
              "    <tr>\n",
              "      <th>5</th>\n",
              "      <td>UBAVDA01G</td>\n",
              "      <td>30474</td>\n",
              "      <td>724</td>\n",
              "      <td>5</td>\n",
              "      <td>61388</td>\n",
              "      <td>74</td>\n",
              "      <td>724-05-30474-61388</td>\n",
              "      <td>YES</td>\n",
              "      <td>VÁRZEA DA ROÇA</td>\n",
              "      <td>51974</td>\n",
              "      <td>724-05-51974-61388</td>\n",
              "      <td>DE LAC=30474 =&gt; PARA LAC=51974</td>\n",
              "    </tr>\n",
              "  </tbody>\n",
              "</table>\n",
              "</div>"
            ],
            "text/plain": [
              "        NAME    LAC  ...             New_CGI                         DE_PARA\n",
              "0  UBAVDA01A  30474  ...  724-05-51974-61383  DE LAC=30474 => PARA LAC=51974\n",
              "1  UBAVDA01B  30474  ...  724-05-51974-61384  DE LAC=30474 => PARA LAC=51974\n",
              "2  UBAVDA01C  30474  ...  724-05-51974-61385  DE LAC=30474 => PARA LAC=51974\n",
              "3  UBAVDA01E  30474  ...  724-05-51974-61386  DE LAC=30474 => PARA LAC=51974\n",
              "4  UBAVDA01F  30474  ...  724-05-51974-61387  DE LAC=30474 => PARA LAC=51974\n",
              "5  UBAVDA01G  30474  ...  724-05-51974-61388  DE LAC=30474 => PARA LAC=51974\n",
              "\n",
              "[6 rows x 12 columns]"
            ]
          },
          "execution_count": 20,
          "metadata": {
            "tags": []
          },
          "output_type": "execute_result"
        }
      ],
      "source": [
        "xls = pd.ExcelFile('PROJETO ROAMING 30K - Novas Liberações Rev3 - BASE.xlsx') #Read excel file\n",
        "df1 = pd.read_excel(xls, 'MSSBAA')                                            #Read specific sheet \n",
        "df1 = df1.dropna()                                                            #Drop NaN values\n",
        "df1 = df1.drop(columns=['MSS','Date','Time', 'SA_NO','LA_NAME',                       #Drop column a specific column\n",
        "                        'SA_AD_STATE','RZ','TA'])          \n",
        "df1 = df1.rename(columns = {'SA_NAME': 'NAME',                                   #Rename Columns\n",
        "                            'CDR': 'CN',\n",
        "                            'cgi': 'CGI',\n",
        "                            'NEW LAC': 'New_LAC',\n",
        "                            }, inplace = False)\n",
        "df1 = df1.reset_index().drop('index', axis=1)                                 #Reset index and drop the created column 'index'\n",
        "df1['New_LAC'] = df1['New_LAC'].astype(int)                                   #Convert a col to int\n",
        "df1 = df1.astype(str)                                                         #Covnert the entire df to str\n",
        "df1['New_CGI'] = '724-05-' + df1['New_LAC'] + '-' + df1['CI']                 #Creat new col\n",
        "df1['DE_PARA'] = 'DE LAC=' + df1['LAC'] + ' => PARA LAC=' + df1['New_LAC']\n",
        "df1.head(10)\n"
      ]
    },
    {
      "cell_type": "code",
      "execution_count": null,
      "metadata": {
        "colab": {
          "base_uri": "https://localhost:8080/",
          "height": 80
        },
        "id": "lycspxFvekPt",
        "outputId": "5da6cce8-1007-4ab7-d6b1-b077b25f9b07"
      },
      "outputs": [
        {
          "data": {
            "text/html": [
              "<div>\n",
              "<style scoped>\n",
              "    .dataframe tbody tr th:only-of-type {\n",
              "        vertical-align: middle;\n",
              "    }\n",
              "\n",
              "    .dataframe tbody tr th {\n",
              "        vertical-align: top;\n",
              "    }\n",
              "\n",
              "    .dataframe thead th {\n",
              "        text-align: right;\n",
              "    }\n",
              "</style>\n",
              "<table border=\"1\" class=\"dataframe\">\n",
              "  <thead>\n",
              "    <tr style=\"text-align: right;\">\n",
              "      <th></th>\n",
              "      <th>Municipio</th>\n",
              "      <th>DE_PARA</th>\n",
              "    </tr>\n",
              "  </thead>\n",
              "  <tbody>\n",
              "    <tr>\n",
              "      <th>0</th>\n",
              "      <td>VÁRZEA DA ROÇA</td>\n",
              "      <td>DE LAC=30474 =&gt; PARA LAC=51974</td>\n",
              "    </tr>\n",
              "  </tbody>\n",
              "</table>\n",
              "</div>"
            ],
            "text/plain": [
              "        Municipio                         DE_PARA\n",
              "0  VÁRZEA DA ROÇA  DE LAC=30474 => PARA LAC=51974"
            ]
          },
          "execution_count": 21,
          "metadata": {
            "tags": []
          },
          "output_type": "execute_result"
        }
      ],
      "source": [
        "df2 = df1[['Municipio','DE_PARA']]               #Get a specific column\n",
        "df2 = df2.drop_duplicates()                      #Drop duplicates\n",
        "df2 = df2.reset_index().drop('index', axis=1)    #Reset index and drop the created column 'index'\n",
        "df2.head()                                       #View data"
      ]
    },
    {
      "cell_type": "code",
      "execution_count": null,
      "metadata": {
        "id": "lr5-LtwjmBnt"
      },
      "outputs": [],
      "source": [
        "def print_commands(df, mun, cmd='cmd'):\n",
        "    for cell in range(len(df)):\n",
        "      MUN = str(df.Municipio[cell])\n",
        "      if cmd == 'cmd':\n",
        "        if MUN == mun:\n",
        "          print('ZEPO:TYPE=SA,NAME=' + df1.NAME[cell] + ';')\n",
        "          print('ZEPS:TYPE=SA,NAME=' + df1.NAME[cell] + ':L;')\n",
        "          print('ZEPF:TYPE=SA,SANAME=' + df1.NAME[cell] + ':MGWNBR=MSS:MCC=724,MNC=05,LAC=' + df1.New_LAC[cell] + ';')\n",
        "          print('ZEPS:TYPE=SA,NAME=' + df1.NAME[cell] + ':U;\\n')\n",
        "\n",
        "      if cmd == 'fb':\n",
        "        if MUN == mun:\n",
        "          print('ZEPO:TYPE=SA,NAME=' + df1.NAME[cell] + ';')\n",
        "          print('ZEPS:TYPE=SA,NAME=' + df1.NAME[cell] + ':L;')\n",
        "          print('ZEPF:TYPE=SA,SANAME=' + df1.NAME[cell] + ':MGWNBR=MSS:MCC=724,MNC=05,LAC=' + df1.LAC[cell] + ';')\n",
        "          print('ZEPS:TYPE=SA,NAME=' + df1.NAME[cell] + ':U;\\n')\n"
      ]
    },
    {
      "cell_type": "code",
      "execution_count": null,
      "metadata": {
        "colab": {
          "base_uri": "https://localhost:8080/"
        },
        "id": "XsgOdGxeniHB",
        "outputId": "56eccf46-bda2-4592-dcc5-4bd2b63771f3"
      },
      "outputs": [
        {
          "name": "stdout",
          "output_type": "stream",
          "text": [
            "! VÁRZEA DA ROÇA | DE LAC=30474 => PARA LAC=51974\n",
            "!--------------------------------------------------------------------------------------\n",
            "ZEPO:TYPE=SA,NAME=UBAVDA01A;\n",
            "ZEPS:TYPE=SA,NAME=UBAVDA01A:L;\n",
            "ZEPF:TYPE=SA,SANAME=UBAVDA01A:MGWNBR=MSS:MCC=724,MNC=05,LAC=51974;\n",
            "ZEPS:TYPE=SA,NAME=UBAVDA01A:U;\n",
            "\n",
            "ZEPO:TYPE=SA,NAME=UBAVDA01B;\n",
            "ZEPS:TYPE=SA,NAME=UBAVDA01B:L;\n",
            "ZEPF:TYPE=SA,SANAME=UBAVDA01B:MGWNBR=MSS:MCC=724,MNC=05,LAC=51974;\n",
            "ZEPS:TYPE=SA,NAME=UBAVDA01B:U;\n",
            "\n",
            "ZEPO:TYPE=SA,NAME=UBAVDA01C;\n",
            "ZEPS:TYPE=SA,NAME=UBAVDA01C:L;\n",
            "ZEPF:TYPE=SA,SANAME=UBAVDA01C:MGWNBR=MSS:MCC=724,MNC=05,LAC=51974;\n",
            "ZEPS:TYPE=SA,NAME=UBAVDA01C:U;\n",
            "\n",
            "ZEPO:TYPE=SA,NAME=UBAVDA01E;\n",
            "ZEPS:TYPE=SA,NAME=UBAVDA01E:L;\n",
            "ZEPF:TYPE=SA,SANAME=UBAVDA01E:MGWNBR=MSS:MCC=724,MNC=05,LAC=51974;\n",
            "ZEPS:TYPE=SA,NAME=UBAVDA01E:U;\n",
            "\n",
            "ZEPO:TYPE=SA,NAME=UBAVDA01F;\n",
            "ZEPS:TYPE=SA,NAME=UBAVDA01F:L;\n",
            "ZEPF:TYPE=SA,SANAME=UBAVDA01F:MGWNBR=MSS:MCC=724,MNC=05,LAC=51974;\n",
            "ZEPS:TYPE=SA,NAME=UBAVDA01F:U;\n",
            "\n",
            "ZEPO:TYPE=SA,NAME=UBAVDA01G;\n",
            "ZEPS:TYPE=SA,NAME=UBAVDA01G:L;\n",
            "ZEPF:TYPE=SA,SANAME=UBAVDA01G:MGWNBR=MSS:MCC=724,MNC=05,LAC=51974;\n",
            "ZEPS:TYPE=SA,NAME=UBAVDA01G:U;\n",
            "\n"
          ]
        }
      ],
      "source": [
        "for i in range(len(df2)):\n",
        "  MUN = df2.Municipio[i]\n",
        "  DE_PARA = df2.DE_PARA[i]\n",
        "  print('! ' + MUN + ' | ' + DE_PARA)\n",
        "  print('!--------------------------------------------------------------------------------------')\n",
        "  print_commands(df1, MUN, 'cmd')"
      ]
    },
    {
      "cell_type": "code",
      "execution_count": null,
      "metadata": {
        "colab": {
          "base_uri": "https://localhost:8080/"
        },
        "id": "DN3USFhX6QGT",
        "outputId": "e98615e8-a67b-4bd7-a6c6-3f3c8c0d25bf"
      },
      "outputs": [
        {
          "name": "stdout",
          "output_type": "stream",
          "text": [
            "! VÁRZEA DA ROÇA | DE LAC=30474 => PARA LAC=51974\n",
            "!--------------------------------------------------------------------------------------\n",
            "ZEPO:TYPE=SA,NAME=UBAVDA01A;\n",
            "ZEPS:TYPE=SA,NAME=UBAVDA01A:L;\n",
            "ZEPF:TYPE=SA,SANAME=UBAVDA01A:MGWNBR=MSS:MCC=724,MNC=05,LAC=30474;\n",
            "ZEPS:TYPE=SA,NAME=UBAVDA01A:U;\n",
            "\n",
            "ZEPO:TYPE=SA,NAME=UBAVDA01B;\n",
            "ZEPS:TYPE=SA,NAME=UBAVDA01B:L;\n",
            "ZEPF:TYPE=SA,SANAME=UBAVDA01B:MGWNBR=MSS:MCC=724,MNC=05,LAC=30474;\n",
            "ZEPS:TYPE=SA,NAME=UBAVDA01B:U;\n",
            "\n",
            "ZEPO:TYPE=SA,NAME=UBAVDA01C;\n",
            "ZEPS:TYPE=SA,NAME=UBAVDA01C:L;\n",
            "ZEPF:TYPE=SA,SANAME=UBAVDA01C:MGWNBR=MSS:MCC=724,MNC=05,LAC=30474;\n",
            "ZEPS:TYPE=SA,NAME=UBAVDA01C:U;\n",
            "\n",
            "ZEPO:TYPE=SA,NAME=UBAVDA01E;\n",
            "ZEPS:TYPE=SA,NAME=UBAVDA01E:L;\n",
            "ZEPF:TYPE=SA,SANAME=UBAVDA01E:MGWNBR=MSS:MCC=724,MNC=05,LAC=30474;\n",
            "ZEPS:TYPE=SA,NAME=UBAVDA01E:U;\n",
            "\n",
            "ZEPO:TYPE=SA,NAME=UBAVDA01F;\n",
            "ZEPS:TYPE=SA,NAME=UBAVDA01F:L;\n",
            "ZEPF:TYPE=SA,SANAME=UBAVDA01F:MGWNBR=MSS:MCC=724,MNC=05,LAC=30474;\n",
            "ZEPS:TYPE=SA,NAME=UBAVDA01F:U;\n",
            "\n",
            "ZEPO:TYPE=SA,NAME=UBAVDA01G;\n",
            "ZEPS:TYPE=SA,NAME=UBAVDA01G:L;\n",
            "ZEPF:TYPE=SA,SANAME=UBAVDA01G:MGWNBR=MSS:MCC=724,MNC=05,LAC=30474;\n",
            "ZEPS:TYPE=SA,NAME=UBAVDA01G:U;\n",
            "\n"
          ]
        }
      ],
      "source": [
        "for i in range(len(df2)):\n",
        "  MUN = df2.Municipio[i]\n",
        "  DE_PARA = df2.DE_PARA[i]\n",
        "  print('! ' + MUN + ' | ' + DE_PARA)\n",
        "  print('!--------------------------------------------------------------------------------------')\n",
        "  print_commands(df1, MUN, 'fb')"
      ]
    },
    {
      "cell_type": "code",
      "execution_count": null,
      "metadata": {
        "id": "UXgv8iOo02jg"
      },
      "outputs": [],
      "source": []
    }
  ],
  "metadata": {
    "colab": {
      "name": "Change LAC MSS Nokia.ipynb",
      "provenance": [],
      "toc_visible": true
    },
    "kernelspec": {
      "display_name": "Python 3",
      "name": "python3"
    }
  },
  "nbformat": 4,
  "nbformat_minor": 0
}
