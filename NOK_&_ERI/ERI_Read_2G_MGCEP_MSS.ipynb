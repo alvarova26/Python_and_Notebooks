{
 "cells": [
  {
   "cell_type": "markdown",
   "metadata": {},
   "source": [
    "# ALL 2G CELL of ALL NOKIA'S MSSs"
   ]
  },
  {
   "cell_type": "markdown",
   "metadata": {},
   "source": [
    "## Import Modules"
   ]
  },
  {
   "cell_type": "code",
   "execution_count": 175,
   "metadata": {
    "scrolled": true
   },
   "outputs": [
    {
     "name": "stdout",
     "output_type": "stream",
     "text": [
      "The autoreload extension is already loaded. To reload it, use:\n",
      "  %reload_ext autoreload\n"
     ]
    }
   ],
   "source": [
    "# Import modules (NOK_ERI_Toolkit) & others that will be needed along the program\n",
    "import pandas as pd\n",
    "import numpy as np\n",
    "from matplotlib import pyplot as plt\n",
    "import seaborn as sns\n",
    "import NOK_ERI_Toolkit as NOK_ERI_Toolkit\n",
    "\n",
    "%matplotlib inline\n",
    "%load_ext autoreload\n",
    "%autoreload 2\n"
   ]
  },
  {
   "cell_type": "markdown",
   "metadata": {},
   "source": [
    "## Main Program"
   ]
  },
  {
   "cell_type": "markdown",
   "metadata": {},
   "source": [
    "### Initialize variables"
   ]
  },
  {
   "cell_type": "code",
   "execution_count": 176,
   "metadata": {},
   "outputs": [],
   "source": [
    "# Initialize NOKIA, ERICSSON & COMMON variables\n",
    "\n",
    "# ERICSSON\n",
    "ERI_MSS_Name = '0'\n",
    "ERI_MSS_Date = '0'\n",
    "ERI_MSS_Time = '0'\n",
    "\n",
    "ERI_CELL_NAME = '0'\n",
    "ERI_CELL_CGI = '0'\n",
    "ERI_CELL_MCC = '0'\n",
    "ERI_CELL_MNC = '0'\n",
    "ERI_CELL_LAC = '0'\n",
    "ERI_CELL_CI = '0'\n",
    "ERI_CELL_BSC = '0'\n",
    "ERI_CELL_CO = '0'\n",
    "ERI_CELL_RO = '0'\n",
    "ERI_CELL_NCS = '0'\n",
    "ERI_CELL_EA = '0'\n",
    "\n",
    "ERI_MSS_Pars = [ERI_MSS_Name, ERI_MSS_Date, ERI_MSS_Time]\n",
    "ERI_CELL_Pars = [ERI_CELL_NAME, ERI_CELL_CGI, ERI_CELL_MCC, ERI_CELL_MNC, ERI_CELL_LAC, ERI_CELL_CI, ERI_CELL_BSC,\n",
    "                    ERI_CELL_CO, ERI_CELL_RO, ERI_CELL_NCS, ERI_CELL_EA]\n",
    "\n",
    "ERI_index = 0\n",
    "ERI_position = 0\n",
    "ERI_CELL_count = 0"
   ]
  },
  {
   "cell_type": "code",
   "execution_count": 177,
   "metadata": {},
   "outputs": [
    {
     "data": {
      "text/html": [
       "<div>\n",
       "<style scoped>\n",
       "    .dataframe tbody tr th:only-of-type {\n",
       "        vertical-align: middle;\n",
       "    }\n",
       "\n",
       "    .dataframe tbody tr th {\n",
       "        vertical-align: top;\n",
       "    }\n",
       "\n",
       "    .dataframe thead th {\n",
       "        text-align: right;\n",
       "    }\n",
       "</style>\n",
       "<table border=\"1\" class=\"dataframe\">\n",
       "  <thead>\n",
       "    <tr style=\"text-align: right;\">\n",
       "      <th></th>\n",
       "      <th>MSS</th>\n",
       "      <th>Date</th>\n",
       "      <th>Time</th>\n",
       "      <th>Name</th>\n",
       "      <th>CGI</th>\n",
       "      <th>MCC</th>\n",
       "      <th>MNC</th>\n",
       "      <th>LAC</th>\n",
       "      <th>CI</th>\n",
       "      <th>NE</th>\n",
       "      <th>CO</th>\n",
       "      <th>RO</th>\n",
       "      <th>NCS</th>\n",
       "      <th>EA</th>\n",
       "    </tr>\n",
       "  </thead>\n",
       "  <tbody>\n",
       "    <tr>\n",
       "      <th>0</th>\n",
       "      <td>0</td>\n",
       "      <td>0</td>\n",
       "      <td>0</td>\n",
       "      <td>0</td>\n",
       "      <td>0</td>\n",
       "      <td>0</td>\n",
       "      <td>0</td>\n",
       "      <td>0</td>\n",
       "      <td>0</td>\n",
       "      <td>0</td>\n",
       "      <td>0</td>\n",
       "      <td>0</td>\n",
       "      <td>0</td>\n",
       "      <td>0</td>\n",
       "    </tr>\n",
       "  </tbody>\n",
       "</table>\n",
       "</div>"
      ],
      "text/plain": [
       "  MSS Date Time Name CGI MCC MNC LAC CI NE CO RO NCS EA\n",
       "0   0    0    0    0   0   0   0   0  0  0  0  0   0  0"
      ]
     },
     "execution_count": 177,
     "metadata": {},
     "output_type": "execute_result"
    }
   ],
   "source": [
    "# Create & Initialize & Set the NOKIA & ERICSSON pd.DataFrame\n",
    "\n",
    "# ERICSSON\n",
    "ERI_col_names = ['MSS','Date','Time','Name','CGI','MCC','MNC','LAC','CI','NE','CO','RO','NCS','EA']\n",
    "df_ERI_MSS_CELLs = pd.DataFrame(columns=ERI_col_names)\n",
    "df_ERI_MSS_CELLs.loc[0] = [ERI_MSS_Name, ERI_MSS_Date, ERI_MSS_Time,\n",
    "                            ERI_CELL_NAME, ERI_CELL_CGI, ERI_CELL_MCC, \n",
    "                            ERI_CELL_MNC, ERI_CELL_LAC, ERI_CELL_CI, ERI_CELL_BSC,\n",
    "                            ERI_CELL_CO, ERI_CELL_RO, ERI_CELL_NCS, ERI_CELL_EA]\n",
    "df_ERI_MSS_CELLs"
   ]
  },
  {
   "cell_type": "code",
   "execution_count": 178,
   "metadata": {},
   "outputs": [],
   "source": [
    "# Especify the path of the NOKIA & ERICSSON log files \n",
    "ERI_path_to_file = 'C:/Users/Alvaro/OneDrive/My Files/_Scripts_Models/Commands Generators Logs/20220204 - MGCEP - All MSS.txt'"
   ]
  },
  {
   "cell_type": "markdown",
   "metadata": {},
   "source": [
    "### Load log file"
   ]
  },
  {
   "cell_type": "code",
   "execution_count": 179,
   "metadata": {},
   "outputs": [],
   "source": [
    "# Load the log file\n",
    "ERI_log_file = NOK_ERI_Toolkit.open_file(ERI_path_to_file)"
   ]
  },
  {
   "cell_type": "markdown",
   "metadata": {},
   "source": [
    "### Execute ERICSSON PROGRAM"
   ]
  },
  {
   "cell_type": "code",
   "execution_count": 180,
   "metadata": {},
   "outputs": [],
   "source": [
    "# Run the main program (txt => pd.DataFrame)\n",
    "while (ERI_index < len(ERI_log_file)-1):\n",
    "    ERI_index, ERI_position, ERI_MSS_Pars = NOK_ERI_Toolkit.get_mss_pars(ERI_log_file, ERI_index,'eaw')\n",
    "    if (ERI_position >= 0) and (not ERI_position == 999) and (not ERI_position == 998):\n",
    "        ERI_index, ERI_position, ERI_CELL_Pars = NOK_ERI_Toolkit.get_mgcep_cell_pars(ERI_log_file, ERI_index)\n",
    "        while(ERI_position >= 0) and (not ERI_position == 999) and (not ERI_position == 998):\n",
    "            ERI_index, ERI_position, RNC_LAC_Pars = NOK_ERI_Toolkit.get_mgcep_cell_pars(ERI_log_file, ERI_index)\n",
    "            if(ERI_position >= 0) and (not ERI_position == 999) and (not ERI_position == 998):\n",
    "                new_CELL = ERI_MSS_Pars + RNC_LAC_Pars\n",
    "                df_ERI_MSS_CELLs.loc[ERI_CELL_count] = new_CELL\n",
    "                ERI_CELL_count = ERI_CELL_count + 1\n",
    "            ERI_index = ERI_index + 1\n",
    "    ERI_index = ERI_index + 1"
   ]
  },
  {
   "cell_type": "markdown",
   "metadata": {},
   "source": [
    "### Drop columns & prepare to merge"
   ]
  },
  {
   "cell_type": "code",
   "execution_count": 181,
   "metadata": {},
   "outputs": [
    {
     "data": {
      "text/html": [
       "<div>\n",
       "<style scoped>\n",
       "    .dataframe tbody tr th:only-of-type {\n",
       "        vertical-align: middle;\n",
       "    }\n",
       "\n",
       "    .dataframe tbody tr th {\n",
       "        vertical-align: top;\n",
       "    }\n",
       "\n",
       "    .dataframe thead th {\n",
       "        text-align: right;\n",
       "    }\n",
       "</style>\n",
       "<table border=\"1\" class=\"dataframe\">\n",
       "  <thead>\n",
       "    <tr style=\"text-align: right;\">\n",
       "      <th></th>\n",
       "      <th>MSS</th>\n",
       "      <th>Date</th>\n",
       "      <th>Time</th>\n",
       "      <th>Name</th>\n",
       "      <th>NE</th>\n",
       "      <th>MCC</th>\n",
       "      <th>MNC</th>\n",
       "      <th>LAC</th>\n",
       "      <th>CI</th>\n",
       "      <th>CGI</th>\n",
       "    </tr>\n",
       "  </thead>\n",
       "  <tbody>\n",
       "    <tr>\n",
       "      <th>0</th>\n",
       "      <td>MSSBA8</td>\n",
       "      <td>0000-00-00</td>\n",
       "      <td>00:00:00</td>\n",
       "      <td>BACAC021</td>\n",
       "      <td>BSCBA45</td>\n",
       "      <td>724</td>\n",
       "      <td>05</td>\n",
       "      <td>73</td>\n",
       "      <td>220</td>\n",
       "      <td>724-05-73-220</td>\n",
       "    </tr>\n",
       "    <tr>\n",
       "      <th>1</th>\n",
       "      <td>MSSBA8</td>\n",
       "      <td>0000-00-00</td>\n",
       "      <td>00:00:00</td>\n",
       "      <td>BACAC022</td>\n",
       "      <td>BSCBA45</td>\n",
       "      <td>724</td>\n",
       "      <td>05</td>\n",
       "      <td>73</td>\n",
       "      <td>10220</td>\n",
       "      <td>724-05-73-10220</td>\n",
       "    </tr>\n",
       "    <tr>\n",
       "      <th>2</th>\n",
       "      <td>MSSBA8</td>\n",
       "      <td>0000-00-00</td>\n",
       "      <td>00:00:00</td>\n",
       "      <td>BAITM021</td>\n",
       "      <td>BSCBA45</td>\n",
       "      <td>724</td>\n",
       "      <td>05</td>\n",
       "      <td>24973</td>\n",
       "      <td>234</td>\n",
       "      <td>724-05-24973-234</td>\n",
       "    </tr>\n",
       "    <tr>\n",
       "      <th>3</th>\n",
       "      <td>MSSBA8</td>\n",
       "      <td>0000-00-00</td>\n",
       "      <td>00:00:00</td>\n",
       "      <td>BAITM022</td>\n",
       "      <td>BSCBA45</td>\n",
       "      <td>724</td>\n",
       "      <td>05</td>\n",
       "      <td>24973</td>\n",
       "      <td>1023</td>\n",
       "      <td>724-05-24973-1023</td>\n",
       "    </tr>\n",
       "    <tr>\n",
       "      <th>4</th>\n",
       "      <td>MSSBA8</td>\n",
       "      <td>0000-00-00</td>\n",
       "      <td>00:00:00</td>\n",
       "      <td>BAITM023</td>\n",
       "      <td>BSCBA45</td>\n",
       "      <td>724</td>\n",
       "      <td>05</td>\n",
       "      <td>24973</td>\n",
       "      <td>2023</td>\n",
       "      <td>724-05-24973-2023</td>\n",
       "    </tr>\n",
       "    <tr>\n",
       "      <th>...</th>\n",
       "      <td>...</td>\n",
       "      <td>...</td>\n",
       "      <td>...</td>\n",
       "      <td>...</td>\n",
       "      <td>...</td>\n",
       "      <td>...</td>\n",
       "      <td>...</td>\n",
       "      <td>...</td>\n",
       "      <td>...</td>\n",
       "      <td>...</td>\n",
       "    </tr>\n",
       "    <tr>\n",
       "      <th>109</th>\n",
       "      <td>MSSBA8</td>\n",
       "      <td>0000-00-00</td>\n",
       "      <td>00:00:00</td>\n",
       "      <td>BAUBA01B</td>\n",
       "      <td>BSCBA45</td>\n",
       "      <td>724</td>\n",
       "      <td>05</td>\n",
       "      <td>73</td>\n",
       "      <td>23001</td>\n",
       "      <td>724-05-73-23001</td>\n",
       "    </tr>\n",
       "    <tr>\n",
       "      <th>110</th>\n",
       "      <td>MSSBA8</td>\n",
       "      <td>0000-00-00</td>\n",
       "      <td>00:00:00</td>\n",
       "      <td>BAUBA01C</td>\n",
       "      <td>BSCBA45</td>\n",
       "      <td>724</td>\n",
       "      <td>05</td>\n",
       "      <td>73</td>\n",
       "      <td>23002</td>\n",
       "      <td>724-05-73-23002</td>\n",
       "    </tr>\n",
       "    <tr>\n",
       "      <th>111</th>\n",
       "      <td>MSSBA8</td>\n",
       "      <td>0000-00-00</td>\n",
       "      <td>00:00:00</td>\n",
       "      <td>BAUBA01E</td>\n",
       "      <td>BSCBA45</td>\n",
       "      <td>724</td>\n",
       "      <td>05</td>\n",
       "      <td>73</td>\n",
       "      <td>23003</td>\n",
       "      <td>724-05-73-23003</td>\n",
       "    </tr>\n",
       "    <tr>\n",
       "      <th>112</th>\n",
       "      <td>MSSBA8</td>\n",
       "      <td>0000-00-00</td>\n",
       "      <td>00:00:00</td>\n",
       "      <td>BAUBA01F</td>\n",
       "      <td>BSCBA45</td>\n",
       "      <td>724</td>\n",
       "      <td>05</td>\n",
       "      <td>73</td>\n",
       "      <td>23004</td>\n",
       "      <td>724-05-73-23004</td>\n",
       "    </tr>\n",
       "    <tr>\n",
       "      <th>113</th>\n",
       "      <td>MSSBA8</td>\n",
       "      <td>0000-00-00</td>\n",
       "      <td>00:00:00</td>\n",
       "      <td>BAUBA01G</td>\n",
       "      <td>BSCBA45</td>\n",
       "      <td>724</td>\n",
       "      <td>05</td>\n",
       "      <td>73</td>\n",
       "      <td>23005</td>\n",
       "      <td>724-05-73-23005</td>\n",
       "    </tr>\n",
       "  </tbody>\n",
       "</table>\n",
       "<p>114 rows × 10 columns</p>\n",
       "</div>"
      ],
      "text/plain": [
       "        MSS        Date      Time      Name       NE  MCC MNC    LAC     CI  \\\n",
       "0    MSSBA8  0000-00-00  00:00:00  BACAC021  BSCBA45  724  05     73    220   \n",
       "1    MSSBA8  0000-00-00  00:00:00  BACAC022  BSCBA45  724  05     73  10220   \n",
       "2    MSSBA8  0000-00-00  00:00:00  BAITM021  BSCBA45  724  05  24973    234   \n",
       "3    MSSBA8  0000-00-00  00:00:00  BAITM022  BSCBA45  724  05  24973   1023   \n",
       "4    MSSBA8  0000-00-00  00:00:00  BAITM023  BSCBA45  724  05  24973   2023   \n",
       "..      ...         ...       ...       ...      ...  ...  ..    ...    ...   \n",
       "109  MSSBA8  0000-00-00  00:00:00  BAUBA01B  BSCBA45  724  05     73  23001   \n",
       "110  MSSBA8  0000-00-00  00:00:00  BAUBA01C  BSCBA45  724  05     73  23002   \n",
       "111  MSSBA8  0000-00-00  00:00:00  BAUBA01E  BSCBA45  724  05     73  23003   \n",
       "112  MSSBA8  0000-00-00  00:00:00  BAUBA01F  BSCBA45  724  05     73  23004   \n",
       "113  MSSBA8  0000-00-00  00:00:00  BAUBA01G  BSCBA45  724  05     73  23005   \n",
       "\n",
       "                   CGI  \n",
       "0        724-05-73-220  \n",
       "1      724-05-73-10220  \n",
       "2     724-05-24973-234  \n",
       "3    724-05-24973-1023  \n",
       "4    724-05-24973-2023  \n",
       "..                 ...  \n",
       "109    724-05-73-23001  \n",
       "110    724-05-73-23002  \n",
       "111    724-05-73-23003  \n",
       "112    724-05-73-23004  \n",
       "113    724-05-73-23005  \n",
       "\n",
       "[114 rows x 10 columns]"
      ]
     },
     "execution_count": 181,
     "metadata": {},
     "output_type": "execute_result"
    }
   ],
   "source": [
    "# ERICSSON DataFrame => Drop some columns to get just the most important ones.\n",
    "\n",
    "df_ERI_MSS_CGISs = df_ERI_MSS_CELLs\n",
    "\n",
    "ERI_drop_col = ['CO', 'RO', 'NCS', 'EA']\n",
    "df_ERI_MSS_CGISs = df_ERI_MSS_CGISs.drop(columns=ERI_drop_col)\n",
    "ERI_col = ['MSS', 'Date', 'Time', 'Name', 'NE', 'MCC', 'MNC', 'LAC', 'CI', 'CGI']\n",
    "df_ERI_MSS_CGISs = df_ERI_MSS_CGISs[ERI_col]\n",
    "df_ERI_MSS_CGISs"
   ]
  },
  {
   "cell_type": "markdown",
   "metadata": {},
   "source": [
    "### Plot + Insights"
   ]
  },
  {
   "cell_type": "code",
   "execution_count": 182,
   "metadata": {},
   "outputs": [],
   "source": [
    "# Continue..."
   ]
  },
  {
   "cell_type": "code",
   "execution_count": null,
   "metadata": {},
   "outputs": [],
   "source": []
  },
  {
   "cell_type": "code",
   "execution_count": null,
   "metadata": {},
   "outputs": [],
   "source": []
  },
  {
   "cell_type": "code",
   "execution_count": null,
   "metadata": {},
   "outputs": [],
   "source": []
  },
  {
   "cell_type": "code",
   "execution_count": null,
   "metadata": {},
   "outputs": [],
   "source": []
  },
  {
   "cell_type": "code",
   "execution_count": null,
   "metadata": {},
   "outputs": [],
   "source": []
  },
  {
   "cell_type": "code",
   "execution_count": null,
   "metadata": {},
   "outputs": [],
   "source": []
  },
  {
   "cell_type": "code",
   "execution_count": null,
   "metadata": {},
   "outputs": [],
   "source": []
  },
  {
   "cell_type": "code",
   "execution_count": null,
   "metadata": {},
   "outputs": [],
   "source": []
  },
  {
   "cell_type": "code",
   "execution_count": null,
   "metadata": {},
   "outputs": [],
   "source": []
  },
  {
   "cell_type": "code",
   "execution_count": null,
   "metadata": {},
   "outputs": [],
   "source": []
  },
  {
   "cell_type": "code",
   "execution_count": 183,
   "metadata": {},
   "outputs": [
    {
     "ename": "NameError",
     "evalue": "name 'df_MSS_LACs' is not defined",
     "output_type": "error",
     "traceback": [
      "\u001b[1;31m---------------------------------------------------------------------------\u001b[0m",
      "\u001b[1;31mNameError\u001b[0m                                 Traceback (most recent call last)",
      "\u001b[1;32mc:\\Users\\Alvaro\\OneDrive\\My Files\\Programming\\Python\\2022 - Jupyter Notebooks\\Macro MGCEP MSS.ipynb Cell 27'\u001b[0m in \u001b[0;36m<module>\u001b[1;34m\u001b[0m\n\u001b[1;32m----> <a href='vscode-notebook-cell:/c%3A/Users/Alvaro/OneDrive/My%20Files/Programming/Python/2022%20-%20Jupyter%20Notebooks/Macro%20MGCEP%20MSS.ipynb#ch0000026?line=0'>1</a>\u001b[0m df_MSS_LACs\u001b[39m.\u001b[39mhead()\n",
      "\u001b[1;31mNameError\u001b[0m: name 'df_MSS_LACs' is not defined"
     ]
    }
   ],
   "source": [
    "df_MSS_LACs.head()"
   ]
  },
  {
   "cell_type": "code",
   "execution_count": null,
   "metadata": {},
   "outputs": [],
   "source": [
    "df_MSS_LACs.groupby('MSS')['AT'].count()"
   ]
  },
  {
   "cell_type": "code",
   "execution_count": null,
   "metadata": {},
   "outputs": [],
   "source": [
    "df_MSS_LACs.describe(include='all')"
   ]
  },
  {
   "cell_type": "code",
   "execution_count": null,
   "metadata": {},
   "outputs": [],
   "source": [
    "df_MSS_LACs['MSS'].describe(include='all')"
   ]
  },
  {
   "cell_type": "code",
   "execution_count": null,
   "metadata": {},
   "outputs": [],
   "source": [
    "df_MSS_LACs.head()"
   ]
  },
  {
   "cell_type": "code",
   "execution_count": null,
   "metadata": {},
   "outputs": [],
   "source": [
    "df_MSS_LACs['AT'].count()"
   ]
  },
  {
   "cell_type": "code",
   "execution_count": null,
   "metadata": {},
   "outputs": [],
   "source": [
    "df_MSS_LACs"
   ]
  },
  {
   "cell_type": "code",
   "execution_count": null,
   "metadata": {},
   "outputs": [],
   "source": [
    "df_MSS_LACs.dropna().describe()"
   ]
  },
  {
   "cell_type": "code",
   "execution_count": null,
   "metadata": {},
   "outputs": [],
   "source": []
  },
  {
   "cell_type": "code",
   "execution_count": null,
   "metadata": {},
   "outputs": [],
   "source": [
    "df_MSS_LACs.groupby('MSS', axis=1).count()"
   ]
  },
  {
   "cell_type": "code",
   "execution_count": null,
   "metadata": {},
   "outputs": [],
   "source": []
  }
 ],
 "metadata": {
  "kernelspec": {
   "display_name": "Python 3",
   "language": "python",
   "name": "python3"
  },
  "language_info": {
   "codemirror_mode": {
    "name": "ipython",
    "version": 3
   },
   "file_extension": ".py",
   "mimetype": "text/x-python",
   "name": "python",
   "nbconvert_exporter": "python",
   "pygments_lexer": "ipython3",
   "version": "3.8.8"
  }
 },
 "nbformat": 4,
 "nbformat_minor": 4
}
