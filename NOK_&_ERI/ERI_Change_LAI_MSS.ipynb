{
 "cells": [
  {
   "cell_type": "markdown",
   "metadata": {
    "id": "5lkrBvVl5UHd"
   },
   "source": [
    "# Change LAI of 2G cells in Ericsson's MSSs"
   ]
  },
  {
   "cell_type": "markdown",
   "metadata": {
    "id": "QKWzdg5Y5k8r"
   },
   "source": [
    "## Import modules"
   ]
  },
  {
   "cell_type": "code",
   "execution_count": 164,
   "metadata": {
    "id": "_8C2lA8p5SrP"
   },
   "outputs": [
    {
     "name": "stdout",
     "output_type": "stream",
     "text": [
      "The autoreload extension is already loaded. To reload it, use:\n",
      "  %reload_ext autoreload\n"
     ]
    }
   ],
   "source": [
    "# Import modules (NOK_ERI_Toolkit) & others that will be needed along the program\n",
    "import pandas as pd\n",
    "import numpy as np\n",
    "from matplotlib import pyplot as plt\n",
    "import seaborn as sns\n",
    "import NOK_ERI_Toolkit as NOK_ERI_Toolkit\n",
    "\n",
    "%matplotlib inline\n",
    "%load_ext autoreload\n",
    "%autoreload 2"
   ]
  },
  {
   "cell_type": "markdown",
   "metadata": {
    "id": "4uI8vTmC5w1F"
   },
   "source": [
    "## Load data form \"Change LAI - Python Template.xlsx\""
   ]
  },
  {
   "cell_type": "code",
   "execution_count": 165,
   "metadata": {},
   "outputs": [],
   "source": [
    "# Especify the path to the file and read the template\n",
    "ERI_path_to_file = 'C:/Users/Alvaro/OneDrive/My Files/_Scripts_Models/Commands Generators/Change LAI - Python Template2.xlsx'\n",
    "xls = pd.ExcelFile(ERI_path_to_file) #Read excel file"
   ]
  },
  {
   "cell_type": "code",
   "execution_count": 166,
   "metadata": {},
   "outputs": [
    {
     "data": {
      "text/html": [
       "<div>\n",
       "<style scoped>\n",
       "    .dataframe tbody tr th:only-of-type {\n",
       "        vertical-align: middle;\n",
       "    }\n",
       "\n",
       "    .dataframe tbody tr th {\n",
       "        vertical-align: top;\n",
       "    }\n",
       "\n",
       "    .dataframe thead th {\n",
       "        text-align: right;\n",
       "    }\n",
       "</style>\n",
       "<table border=\"1\" class=\"dataframe\">\n",
       "  <thead>\n",
       "    <tr style=\"text-align: right;\">\n",
       "      <th></th>\n",
       "      <th>MSS</th>\n",
       "      <th>BSC/RNC</th>\n",
       "      <th>BTS_NAME</th>\n",
       "      <th>MCC</th>\n",
       "      <th>MNC</th>\n",
       "      <th>LAC</th>\n",
       "      <th>CI/SA</th>\n",
       "      <th>CGI</th>\n",
       "      <th>Sigla</th>\n",
       "      <th>Municipio</th>\n",
       "      <th>IBGE</th>\n",
       "      <th>New LAC</th>\n",
       "      <th>New CGI</th>\n",
       "      <th>DE-PARA</th>\n",
       "    </tr>\n",
       "  </thead>\n",
       "  <tbody>\n",
       "    <tr>\n",
       "      <th>0</th>\n",
       "      <td>MSSBA8</td>\n",
       "      <td>BSCBA45</td>\n",
       "      <td>BABLM011</td>\n",
       "      <td>724</td>\n",
       "      <td>05</td>\n",
       "      <td>73</td>\n",
       "      <td>119</td>\n",
       "      <td>724-05-73-119</td>\n",
       "      <td>BABLM01</td>\n",
       "      <td>BLMNOPOLIS</td>\n",
       "      <td>2918903</td>\n",
       "      <td>20573</td>\n",
       "      <td>724-05-20573-119</td>\n",
       "      <td>de LAC=73 para LAC=20573</td>\n",
       "    </tr>\n",
       "    <tr>\n",
       "      <th>1</th>\n",
       "      <td>MSSBA8</td>\n",
       "      <td>BSCBA45</td>\n",
       "      <td>BABLM012</td>\n",
       "      <td>724</td>\n",
       "      <td>05</td>\n",
       "      <td>73</td>\n",
       "      <td>10119</td>\n",
       "      <td>724-05-73-10119</td>\n",
       "      <td>BABLM01</td>\n",
       "      <td>BLMNOPOLIS</td>\n",
       "      <td>2918903</td>\n",
       "      <td>20573</td>\n",
       "      <td>724-05-20573-10119</td>\n",
       "      <td>de LAC=73 para LAC=20573</td>\n",
       "    </tr>\n",
       "    <tr>\n",
       "      <th>2</th>\n",
       "      <td>MSSBA8</td>\n",
       "      <td>BSCBA45</td>\n",
       "      <td>BABLM013</td>\n",
       "      <td>724</td>\n",
       "      <td>05</td>\n",
       "      <td>73</td>\n",
       "      <td>20119</td>\n",
       "      <td>724-05-73-20119</td>\n",
       "      <td>BABLM01</td>\n",
       "      <td>BLMNOPOLIS</td>\n",
       "      <td>2918903</td>\n",
       "      <td>20573</td>\n",
       "      <td>724-05-20573-20119</td>\n",
       "      <td>de LAC=73 para LAC=20573</td>\n",
       "    </tr>\n",
       "    <tr>\n",
       "      <th>3</th>\n",
       "      <td>MSSBA8</td>\n",
       "      <td>BSCBA45</td>\n",
       "      <td>BABLM015</td>\n",
       "      <td>724</td>\n",
       "      <td>05</td>\n",
       "      <td>73</td>\n",
       "      <td>40119</td>\n",
       "      <td>724-05-73-40119</td>\n",
       "      <td>BABLM01</td>\n",
       "      <td>BLMNOPOLIS</td>\n",
       "      <td>2918903</td>\n",
       "      <td>20573</td>\n",
       "      <td>724-05-20573-40119</td>\n",
       "      <td>de LAC=73 para LAC=20573</td>\n",
       "    </tr>\n",
       "    <tr>\n",
       "      <th>4</th>\n",
       "      <td>MSSBA8</td>\n",
       "      <td>BSCBA45</td>\n",
       "      <td>BACAC011</td>\n",
       "      <td>724</td>\n",
       "      <td>05</td>\n",
       "      <td>73</td>\n",
       "      <td>120</td>\n",
       "      <td>724-05-73-120</td>\n",
       "      <td>BACAC01</td>\n",
       "      <td>CACOPOLIS</td>\n",
       "      <td>2918904</td>\n",
       "      <td>20673</td>\n",
       "      <td>724-05-20673-120</td>\n",
       "      <td>de LAC=73 para LAC=20673</td>\n",
       "    </tr>\n",
       "  </tbody>\n",
       "</table>\n",
       "</div>"
      ],
      "text/plain": [
       "      MSS  BSC/RNC  BTS_NAME  MCC MNC LAC  CI/SA              CGI    Sigla  \\\n",
       "0  MSSBA8  BSCBA45  BABLM011  724  05  73    119    724-05-73-119  BABLM01   \n",
       "1  MSSBA8  BSCBA45  BABLM012  724  05  73  10119  724-05-73-10119  BABLM01   \n",
       "2  MSSBA8  BSCBA45  BABLM013  724  05  73  20119  724-05-73-20119  BABLM01   \n",
       "3  MSSBA8  BSCBA45  BABLM015  724  05  73  40119  724-05-73-40119  BABLM01   \n",
       "4  MSSBA8  BSCBA45  BACAC011  724  05  73    120    724-05-73-120  BACAC01   \n",
       "\n",
       "    Municipio     IBGE New LAC             New CGI                   DE-PARA  \n",
       "0  BLMNOPOLIS  2918903   20573    724-05-20573-119  de LAC=73 para LAC=20573  \n",
       "1  BLMNOPOLIS  2918903   20573  724-05-20573-10119  de LAC=73 para LAC=20573  \n",
       "2  BLMNOPOLIS  2918903   20573  724-05-20573-20119  de LAC=73 para LAC=20573  \n",
       "3  BLMNOPOLIS  2918903   20573  724-05-20573-40119  de LAC=73 para LAC=20573  \n",
       "4   CACOPOLIS  2918904   20673    724-05-20673-120  de LAC=73 para LAC=20673  "
      ]
     },
     "execution_count": 166,
     "metadata": {},
     "output_type": "execute_result"
    }
   ],
   "source": [
    "# Create DataFrame and clean it up\n",
    "df_eri_2g = pd.read_excel(xls, sheet_name='ERI_2G', dtype=str) #Read specific sheet | dtype=str forces to read as string to avoid lose '0s'\n",
    "df_eri_2g['New CGI'] = df_eri_2g['MCC'] + '-' + df_eri_2g['MNC'] + '-' + df_eri_2g['New LAC'] + '-' + df_eri_2g['CI/SA']    # Create col New_CGI\n",
    "df_eri_2g['DE-PARA'] = 'de LAC=' + df_eri_2g['LAC'] + ' para LAC=' + df_eri_2g['New LAC']                                   # Create col DE-PARA\n",
    "df_eri_2g = df_eri_2g.sort_values(by=['MSS', 'Municipio', 'BSC/RNC', 'BTS_NAME'], ignore_index=True)                        # Sort DataFrame\n",
    "df_eri_2g.head()"
   ]
  },
  {
   "cell_type": "markdown",
   "metadata": {
    "id": "7H5BZ8u5lJf8"
   },
   "source": [
    "## Print \"change\" commands"
   ]
  },
  {
   "cell_type": "code",
   "execution_count": 167,
   "metadata": {},
   "outputs": [],
   "source": [
    "# Get the \"change\" commands\n",
    "NOK_ERI_Toolkit.change_lai_2g_eri(my_df=df_eri_2g, my_cmd='change')"
   ]
  },
  {
   "cell_type": "markdown",
   "metadata": {
    "id": "7H5BZ8u5lJf8"
   },
   "source": [
    "## Print \"fallback\" commands"
   ]
  },
  {
   "cell_type": "code",
   "execution_count": null,
   "metadata": {},
   "outputs": [
    {
     "name": "stdout",
     "output_type": "stream",
     "text": [
      "! BLMNOPOLIS | Fallback de LAC=73 para LAC=20573\n",
      "!--------------------------------------------------------------------------------------\n",
      "MGCEP:CELL=9BLM011;\n",
      "MGCEP:CELL=9BLM012;\n",
      "MGCEP:CELL=9BLM013;\n",
      "MGCEP:CELL=9BLM015;\n",
      "MGRCP:CELL=9BLM011;\n",
      "MGRCP:CELL=9BLM012;\n",
      "MGRCP:CELL=9BLM013;\n",
      "MGRCP:CELL=9BLM015;\n",
      "MGCEE:CELL=9BLM011;\n",
      "MGCEE:CELL=9BLM012;\n",
      "MGCEE:CELL=9BLM013;\n",
      "MGCEE:CELL=9BLM015;\n",
      "MGCEI:CELL=9BLM011,BSC=BSCBA45,CGI=724-05-73-119;\n",
      "MGCEI:CELL=9BLM012,BSC=BSCBA45,CGI=724-05-73-10119;\n",
      "MGCEI:CELL=9BLM013,BSC=BSCBA45,CGI=724-05-73-20119;\n",
      "MGCEI:CELL=9BLM015,BSC=BSCBA45,CGI=724-05-73-40119;\n",
      "MGCEC:CELL=9BLM011,EA=73;\n",
      "MGCEC:CELL=9BLM012,EA=73;\n",
      "MGCEC:CELL=9BLM013,EA=73;\n",
      "MGCEC:CELL=9BLM015,EA=73;\n",
      "\n",
      "! Generate emerceny center commands with AXE Tool\n",
      "\n",
      "! CACOPOLIS | Fallback de LAC=73 para LAC=20673\n",
      "!--------------------------------------------------------------------------------------\n",
      "MGCEP:CELL=9CAC011;\n",
      "MGCEP:CELL=9CAC021;\n",
      "MGCEP:CELL=9CAC022;\n",
      "MGRCP:CELL=9CAC011;\n",
      "MGRCP:CELL=9CAC021;\n",
      "MGRCP:CELL=9CAC022;\n",
      "MGCEE:CELL=9CAC011;\n",
      "MGCEE:CELL=9CAC021;\n",
      "MGCEE:CELL=9CAC022;\n",
      "MGCEI:CELL=9CAC011,BSC=BSCBA45,CGI=724-05-73-120;\n",
      "MGCEI:CELL=9CAC021,BSC=BSCBA45,CGI=724-05-73-220;\n",
      "MGCEI:CELL=9CAC022,BSC=BSCBA45,CGI=724-05-73-10220;\n",
      "MGCEC:CELL=9CAC011,EA=73;\n",
      "MGCEC:CELL=9CAC021,EA=73;\n",
      "MGCEC:CELL=9CAC022,EA=73;\n",
      "\n",
      "! Generate emerceny center commands with AXE Tool\n",
      "\n",
      "! EUSOPOLIS | Fallback de LAC=773 para LAC=20773\n",
      "!--------------------------------------------------------------------------------------\n",
      "MGCEP:CELL=9EUS041;\n",
      "MGCEP:CELL=9EUS042;\n",
      "MGCEP:CELL=9EUS043;\n",
      "MGCEP:CELL=9EUS121;\n",
      "MGCEP:CELL=9EUS122;\n",
      "MGCEP:CELL=9EUS123;\n",
      "MGRCP:CELL=9EUS041;\n",
      "MGRCP:CELL=9EUS042;\n",
      "MGRCP:CELL=9EUS043;\n",
      "MGRCP:CELL=9EUS121;\n",
      "MGRCP:CELL=9EUS122;\n",
      "MGRCP:CELL=9EUS123;\n",
      "MGCEE:CELL=9EUS041;\n",
      "MGCEE:CELL=9EUS042;\n",
      "MGCEE:CELL=9EUS043;\n",
      "MGCEE:CELL=9EUS121;\n",
      "MGCEE:CELL=9EUS122;\n",
      "MGCEE:CELL=9EUS123;\n",
      "MGCEI:CELL=9EUS041,BSC=BSCBA45,CGI=724-05-773-404;\n",
      "MGCEI:CELL=9EUS042,BSC=BSCBA45,CGI=724-05-773-10404;\n",
      "MGCEI:CELL=9EUS043,BSC=BSCBA45,CGI=724-05-773-20404;\n",
      "MGCEI:CELL=9EUS121,BSC=BSCBA45,CGI=724-05-773-1204;\n",
      "MGCEI:CELL=9EUS122,BSC=BSCBA45,CGI=724-05-773-11204;\n",
      "MGCEI:CELL=9EUS123,BSC=BSCBA45,CGI=724-05-773-21204;\n",
      "MGCEC:CELL=9EUS041,EA=73;\n",
      "MGCEC:CELL=9EUS042,EA=73;\n",
      "MGCEC:CELL=9EUS043,EA=73;\n",
      "MGCEC:CELL=9EUS121,EA=73;\n",
      "MGCEC:CELL=9EUS122,EA=73;\n",
      "MGCEC:CELL=9EUS123,EA=73;\n",
      "\n",
      "! Generate emerceny center commands with AXE Tool\n",
      "\n",
      "! LAJEDÃO | Fallback de LAC=21973 para LAC=20473\n",
      "!--------------------------------------------------------------------------------------\n",
      "MGCEP:CELL=9LDO011;\n",
      "MGCEP:CELL=9LDO014;\n",
      "MGCEP:CELL=9LDO015;\n",
      "MGCEP:CELL=9LDO016;\n",
      "MGRCP:CELL=9LDO011;\n",
      "MGRCP:CELL=9LDO014;\n",
      "MGRCP:CELL=9LDO015;\n",
      "MGRCP:CELL=9LDO016;\n",
      "MGCEE:CELL=9LDO011;\n",
      "MGCEE:CELL=9LDO014;\n",
      "MGCEE:CELL=9LDO015;\n",
      "MGCEE:CELL=9LDO016;\n",
      "MGCEI:CELL=9LDO011,BSC=BSCBA45,CGI=724-05-21973-142;\n",
      "MGCEI:CELL=9LDO014,BSC=BSCBA45,CGI=724-05-21973-30142;\n",
      "MGCEI:CELL=9LDO015,BSC=BSCBA45,CGI=724-05-21973-40142;\n",
      "MGCEI:CELL=9LDO016,BSC=BSCBA45,CGI=724-05-21973-50142;\n",
      "MGCEC:CELL=9LDO011,EA=73;\n",
      "MGCEC:CELL=9LDO014,EA=73;\n",
      "MGCEC:CELL=9LDO015,EA=73;\n",
      "MGCEC:CELL=9LDO016,EA=73;\n",
      "\n",
      "! Generate emerceny center commands with AXE Tool\n",
      "\n"
     ]
    }
   ],
   "source": [
    "# Get the \"fallback\" commands\n",
    "NOK_ERI_Toolkit.change_lai_2g_eri(my_df=df_eri_2g, my_cmd='fallback')"
   ]
  },
  {
   "cell_type": "code",
   "execution_count": null,
   "metadata": {},
   "outputs": [],
   "source": []
  }
 ],
 "metadata": {
  "colab": {
   "name": "Change LAC MSS Ericsson.ipynb",
   "provenance": []
  },
  "kernelspec": {
   "display_name": "Python 3",
   "language": "python",
   "name": "python3"
  },
  "language_info": {
   "codemirror_mode": {
    "name": "ipython",
    "version": 3
   },
   "file_extension": ".py",
   "mimetype": "text/x-python",
   "name": "python",
   "nbconvert_exporter": "python",
   "pygments_lexer": "ipython3",
   "version": "3.8.8"
  }
 },
 "nbformat": 4,
 "nbformat_minor": 4
}
