{
 "cells": [
  {
   "cell_type": "markdown",
   "metadata": {},
   "source": [
    "# ALL 3G CELL of ALL NOKIA'S MSSs + RNC MAPPING"
   ]
  },
  {
   "cell_type": "markdown",
   "metadata": {},
   "source": [
    "## Import Modules"
   ]
  },
  {
   "cell_type": "code",
   "execution_count": 17,
   "metadata": {
    "scrolled": true
   },
   "outputs": [
    {
     "name": "stdout",
     "output_type": "stream",
     "text": [
      "The autoreload extension is already loaded. To reload it, use:\n",
      "  %reload_ext autoreload\n"
     ]
    }
   ],
   "source": [
    "# Import modules (NOK_ERI_Toolkit) & others that will be needed along the program\n",
    "import pandas as pd\n",
    "import numpy as np\n",
    "from matplotlib import pyplot as plt\n",
    "import seaborn as sns\n",
    "import NOK_ERI_Toolkit as NOK_ERI_Toolkit\n",
    "\n",
    "%matplotlib inline\n",
    "%load_ext autoreload\n",
    "%autoreload 2"
   ]
  },
  {
   "cell_type": "markdown",
   "metadata": {},
   "source": [
    "## Main Program"
   ]
  },
  {
   "cell_type": "markdown",
   "metadata": {},
   "source": [
    "### Initialize variables"
   ]
  },
  {
   "cell_type": "code",
   "execution_count": 18,
   "metadata": {},
   "outputs": [],
   "source": [
    "# NOKIA variables \n",
    "NOK_MSS_Name = '0'\n",
    "NOK_MSS_Date = '0'\n",
    "NOK_MSS_Time = '0'\n",
    "NOK_SA_NAME = '0'\n",
    "NOK_SA_NO = '0'\n",
    "NOK_SA_RNC_NAME = '0'\n",
    "NOK_SA_LAC_NAME = '0'\n",
    "NOK_SA_LAC_NO = '0'\n",
    "NOK_SA_MCC = '0'\n",
    "NOK_SA_MNC = '0'\n",
    "NOK_SA_CI = '0'\n",
    "NOK_SA_STAT = '0'\n",
    "NOK_SA_RZ = '0'\n",
    "NOK_SA_CDR = '0'\n",
    "\n",
    "NOK_MSS_Pars = [NOK_MSS_Name, NOK_MSS_Date, NOK_MSS_Time]\n",
    "NOK_SA_Pars = [NOK_SA_NAME, NOK_SA_NO, NOK_SA_LAC_NAME, NOK_SA_LAC_NO, NOK_SA_MCC, NOK_SA_MNC, NOK_SA_CI, NOK_SA_STAT, NOK_SA_RZ, NOK_SA_CDR]\n",
    "\n",
    "NOK_index = 0\n",
    "NOK_position = 0\n",
    "NOK_SA_count = 0"
   ]
  },
  {
   "cell_type": "code",
   "execution_count": 19,
   "metadata": {},
   "outputs": [],
   "source": [
    "# Create & Initialize & Set the pd.DataFrame\n",
    "# NOKIA\n",
    "NOK_col_names = ['MSS','Date','Time','Name','Number','LAC_Name', 'LAC','MCC','MNC','CI','Status','RZ', 'CDR']\n",
    "df_NOK_MSS_SAs = pd.DataFrame(columns=NOK_col_names)\n",
    "df_NOK_MSS_SAs.loc[0] = [NOK_MSS_Name, NOK_MSS_Date, NOK_MSS_Time, NOK_SA_NAME,\n",
    "                            NOK_SA_NO, NOK_SA_LAC_NAME, NOK_SA_LAC_NO, NOK_SA_MCC,\n",
    "                            NOK_SA_MNC, NOK_SA_CI, NOK_SA_STAT, NOK_SA_RZ, NOK_SA_CDR]"
   ]
  },
  {
   "cell_type": "code",
   "execution_count": 20,
   "metadata": {},
   "outputs": [],
   "source": [
    "# Especify the path of the log file\n",
    "NOK_path_to_file = 'C:/Users/Alvaro/OneDrive/My Files/_Scripts_Models/Commands Generators Logs/20220204 - ZEPO 3G - All_MSS.txt'"
   ]
  },
  {
   "cell_type": "markdown",
   "metadata": {},
   "source": [
    "### Load log file"
   ]
  },
  {
   "cell_type": "code",
   "execution_count": 21,
   "metadata": {},
   "outputs": [],
   "source": [
    "# Load the log file\n",
    "NOK_log_file = NOK_ERI_Toolkit.open_file(NOK_path_to_file)"
   ]
  },
  {
   "cell_type": "markdown",
   "metadata": {},
   "source": [
    "### Execute NOKIA PROGRAM"
   ]
  },
  {
   "cell_type": "code",
   "execution_count": 22,
   "metadata": {},
   "outputs": [],
   "source": [
    "# Run the main program (txt => pd.DataFrame)\n",
    "while (NOK_index < len(NOK_log_file)-1):\n",
    "    NOK_index, NOK_position, NOK_MSS_Pars = NOK_ERI_Toolkit.get_mss_pars(NOK_log_file, NOK_index,'ZEPO:TYPE=SA;')\n",
    "    while (NOK_index < len(NOK_log_file)-1) and (not NOK_position == 999):\n",
    "        NOK_index, NOK_position, NOK_SA_Pars = NOK_ERI_Toolkit.get_zepo_3g_sa_pars(NOK_log_file, NOK_index)\n",
    "        if (NOK_position >= 0) and (not NOK_position == 999):\n",
    "            new_SA = NOK_MSS_Pars + NOK_SA_Pars\n",
    "            df_NOK_MSS_SAs.loc[NOK_SA_count] = new_SA\n",
    "            NOK_SA_count = NOK_SA_count + 1\n",
    "    NOK_index = NOK_index + 1"
   ]
  },
  {
   "cell_type": "markdown",
   "metadata": {},
   "source": [
    "### Drop columns & prepare to merge"
   ]
  },
  {
   "cell_type": "code",
   "execution_count": 23,
   "metadata": {},
   "outputs": [],
   "source": [
    "# NOKIA DataFrame => Drop some columns to get just the most important ones.\n",
    "\n",
    "df_NOK_MSS_CGIs = df_NOK_MSS_SAs\n",
    "\n",
    "df_NOK_MSS_CGIs['CGI'] =  df_NOK_MSS_CGIs['MCC'] + '-' + \\\n",
    "    df_NOK_MSS_CGIs['MNC'] + '-' + df_NOK_MSS_CGIs['LAC'] + \\\n",
    "        '-' + df_NOK_MSS_CGIs['CI']\n",
    "\n",
    "NOK_drop_col = ['Number', 'LAC_Name', 'Status', 'RZ', 'CDR']\n",
    "df_NOK_MSS_CGIs = df_NOK_MSS_CGIs.drop(columns=NOK_drop_col)\n",
    "df_NOK_MSS_CGIs['MSS'] = df_NOK_MSS_CGIs['MSS'].str.replace(r'0', '')\n",
    "NOK_col = ['MSS', 'Date', 'Time', 'Name', 'MCC', 'MNC', 'LAC', 'CI', 'CGI']\n",
    "df_NOK_MSS_CGIs = df_NOK_MSS_CGIs[NOK_col]\n",
    "df_NOK_MSS_CGIs['LAI'] = df_NOK_MSS_CGIs['MCC'] + '-' + df_NOK_MSS_CGIs['MNC'] + '-' +df_NOK_MSS_CGIs['LAC']\n",
    "df_NOK_MSS_CGIs['MSS-LAI'] = df_NOK_MSS_CGIs['MSS'] + '-' + df_NOK_MSS_CGIs['LAI']"
   ]
  },
  {
   "cell_type": "markdown",
   "metadata": {},
   "source": [
    "### Initialize variables"
   ]
  },
  {
   "cell_type": "code",
   "execution_count": 24,
   "metadata": {},
   "outputs": [],
   "source": [
    "# NOKIA variables \n",
    "NOK_MSS_Name = '0'\n",
    "NOK_MSS_Date = '0'\n",
    "NOK_MSS_Time = '0'\n",
    "RNC_NAME = '0'\n",
    "RNC_MCC = '0'\n",
    "RNC_MNC = '0'\n",
    "RNC_ID = '0'\n",
    "RNC_MUL_PLMN = '0'\n",
    "RNC_STAT = '0'\n",
    "RNC_OSTAT = '0'\n",
    "RNC_LAC_MCC = '0'\n",
    "RNC_LAC_MNC = '0'\n",
    "RNC_LAC_NO = '0'\n",
    "\n",
    "NOK_MSS_Pars = [NOK_MSS_Name, NOK_MSS_Date, NOK_MSS_Time]\n",
    "RNC_Pars = [RNC_NAME, RNC_MCC, RNC_MNC, RNC_ID, RNC_MUL_PLMN, RNC_STAT, RNC_OSTAT]\n",
    "RNC_LAC_Pars = [RNC_LAC_MCC, RNC_LAC_MNC, RNC_LAC_NO]\n",
    "\n",
    "NOK_index = 0\n",
    "NOK_position = 0\n",
    "NOK_RNC_LAC_count = 0\n",
    "NOK_RNC_LAC_flag = 0"
   ]
  },
  {
   "cell_type": "code",
   "execution_count": 25,
   "metadata": {},
   "outputs": [],
   "source": [
    "# Create & Initialize & Set the NOKIA & ERICSSON pd.DataFrame\n",
    "\n",
    "# NOKIA\n",
    "NOK_col_names = ['MSS','Date','Time','RNC','RNC_MCC','RNC_MNC','RNC_ID','RNC_MULT_PLMN',\n",
    "                'RNC_STAT','RNC_OP_STAT','MCC','MNC','LAC']\n",
    "df_NOK_MSS_RNC_LACs = pd.DataFrame(columns=NOK_col_names)\n",
    "df_NOK_MSS_RNC_LACs.loc[0] = [NOK_MSS_Name, NOK_MSS_Date, NOK_MSS_Time, RNC_NAME,\n",
    "                            RNC_MCC, RNC_MNC, RNC_ID, RNC_MUL_PLMN, RNC_STAT, RNC_OSTAT,\n",
    "                            RNC_LAC_MCC, RNC_LAC_MNC, RNC_LAC_NO]"
   ]
  },
  {
   "cell_type": "code",
   "execution_count": 26,
   "metadata": {},
   "outputs": [],
   "source": [
    "# Especify the path of the NOKIA & ERICSSON log files \n",
    "NOK_path_to_file = 'C:/Users/Alvaro/OneDrive/My Files/_Scripts_Models/Commands Generators Logs/20220204 - ZE2I - All_MSS.txt'"
   ]
  },
  {
   "cell_type": "markdown",
   "metadata": {},
   "source": [
    "### Load log file"
   ]
  },
  {
   "cell_type": "code",
   "execution_count": 27,
   "metadata": {},
   "outputs": [],
   "source": [
    "# Load the log file\n",
    "NOK_log_file = NOK_ERI_Toolkit.open_file(NOK_path_to_file)"
   ]
  },
  {
   "cell_type": "markdown",
   "metadata": {},
   "source": [
    "### Execute NOKIA PROGRAM"
   ]
  },
  {
   "cell_type": "code",
   "execution_count": 28,
   "metadata": {},
   "outputs": [],
   "source": [
    "# # Run the main program (txt => pd.DataFrame)\n",
    "while (NOK_index < len(NOK_log_file)-1):\n",
    "    NOK_index, NOK_position, NOK_MSS_Pars = NOK_ERI_Toolkit.get_mss_pars(NOK_log_file, NOK_index,'ZE2I::RT=ALL;')\n",
    "    while (NOK_index < len(NOK_log_file)-1) and (not NOK_position == 999):\n",
    "        NOK_index, NOK_position, RNC_Pars = NOK_ERI_Toolkit.get_ze2i_rnc_pars(NOK_log_file, NOK_index)\n",
    "        while (NOK_index < len(NOK_log_file)-1) and (not NOK_position == 999):\n",
    "            NOK_index, NOK_position, NOK_RNC_LAC_flag, RNC_LAC_Pars = NOK_ERI_Toolkit.get_ze2i_rnc_lac_pars(NOK_log_file, NOK_index, NOK_RNC_LAC_flag)\n",
    "            if NOK_position == 999:                                                 # if 'COMMAND EXECUTED'\n",
    "                NOK_index = NOK_index + 1                                           # Increase index to read next line\n",
    "                break\n",
    "            else:\n",
    "                if (NOK_RNC_LAC_flag == 1):\n",
    "                    new_RNC_LAC = NOK_MSS_Pars + RNC_Pars + RNC_LAC_Pars\n",
    "                    df_NOK_MSS_RNC_LACs.loc[NOK_RNC_LAC_count] = new_RNC_LAC\n",
    "                    NOK_RNC_LAC_count = NOK_RNC_LAC_count + 1\n",
    "                else:\n",
    "                    break"
   ]
  },
  {
   "cell_type": "markdown",
   "metadata": {},
   "source": [
    "### Drop columns & prepare to merge"
   ]
  },
  {
   "cell_type": "code",
   "execution_count": 29,
   "metadata": {},
   "outputs": [],
   "source": [
    "#NOKIA DataFrame => Drop some columns to get just the most important ones.\n",
    "\n",
    "df_NOK_MSS_RNC_LAIs = df_NOK_MSS_RNC_LACs\n",
    "df_NOK_MSS_RNC_LAIs['MSS'] = df_NOK_MSS_RNC_LAIs['MSS'].str.replace(r'0', '')\n",
    "df_NOK_MSS_RNC_LAIs['LAI'] =  df_NOK_MSS_RNC_LAIs['MCC'] + '-' + df_NOK_MSS_RNC_LAIs['MNC'] + '-' + df_NOK_MSS_RNC_LAIs['LAC']\n",
    "df_NOK_MSS_RNC_LAIs['MSS-LAI'] =  df_NOK_MSS_RNC_LAIs['MSS'] + '-' + df_NOK_MSS_RNC_LAIs['LAI']\n",
    "df_NOK_MSS_RNC_LAIs['NE-LAI'] =  df_NOK_MSS_RNC_LAIs['RNC'] + '-' + df_NOK_MSS_RNC_LAIs['LAI']\n",
    "\n",
    "NOK_drop_col = ['RNC_MCC', 'RNC_MNC', 'RNC_MULT_PLMN', 'RNC_STAT', 'RNC_OP_STAT', 'RNC_ID']\n",
    "df_NOK_MSS_RNC_LAIs = df_NOK_MSS_RNC_LAIs.drop(columns=NOK_drop_col)\n",
    "NOK_col = ['MSS', 'Date', 'Time', 'MCC', 'MNC', 'LAC', 'LAI', 'MSS-LAI', 'NE-LAI', 'RNC']\n",
    "df_NOK_MSS_RNC_LAIs = df_NOK_MSS_RNC_LAIs[NOK_col]"
   ]
  },
  {
   "cell_type": "markdown",
   "metadata": {},
   "source": [
    "### Putting all together"
   ]
  },
  {
   "cell_type": "code",
   "execution_count": 30,
   "metadata": {},
   "outputs": [
    {
     "data": {
      "text/html": [
       "<div>\n",
       "<style scoped>\n",
       "    .dataframe tbody tr th:only-of-type {\n",
       "        vertical-align: middle;\n",
       "    }\n",
       "\n",
       "    .dataframe tbody tr th {\n",
       "        vertical-align: top;\n",
       "    }\n",
       "\n",
       "    .dataframe thead th {\n",
       "        text-align: right;\n",
       "    }\n",
       "</style>\n",
       "<table border=\"1\" class=\"dataframe\">\n",
       "  <thead>\n",
       "    <tr style=\"text-align: right;\">\n",
       "      <th></th>\n",
       "      <th>MSS</th>\n",
       "      <th>Date</th>\n",
       "      <th>Time</th>\n",
       "      <th>Name</th>\n",
       "      <th>NE</th>\n",
       "      <th>MCC</th>\n",
       "      <th>MNC</th>\n",
       "      <th>LAC</th>\n",
       "      <th>CI</th>\n",
       "      <th>CGI</th>\n",
       "    </tr>\n",
       "  </thead>\n",
       "  <tbody>\n",
       "    <tr>\n",
       "      <th>0</th>\n",
       "      <td>MSSBA6</td>\n",
       "      <td>2022-02-04</td>\n",
       "      <td>09:33:59</td>\n",
       "      <td>UBAAMA8301</td>\n",
       "      <td>RNCBA05</td>\n",
       "      <td>724</td>\n",
       "      <td>05</td>\n",
       "      <td>30971</td>\n",
       "      <td>30000</td>\n",
       "      <td>724-05-30971-30000</td>\n",
       "    </tr>\n",
       "    <tr>\n",
       "      <th>1</th>\n",
       "      <td>MSSBA6</td>\n",
       "      <td>2022-02-04</td>\n",
       "      <td>09:33:59</td>\n",
       "      <td>UBAAMA8302</td>\n",
       "      <td>RNCBA05</td>\n",
       "      <td>724</td>\n",
       "      <td>05</td>\n",
       "      <td>30971</td>\n",
       "      <td>30001</td>\n",
       "      <td>724-05-30971-30001</td>\n",
       "    </tr>\n",
       "    <tr>\n",
       "      <th>2</th>\n",
       "      <td>MSSBA6</td>\n",
       "      <td>2022-02-04</td>\n",
       "      <td>09:33:59</td>\n",
       "      <td>UBAAMA8303</td>\n",
       "      <td>RNCBA05</td>\n",
       "      <td>724</td>\n",
       "      <td>05</td>\n",
       "      <td>30971</td>\n",
       "      <td>30002</td>\n",
       "      <td>724-05-30971-30002</td>\n",
       "    </tr>\n",
       "    <tr>\n",
       "      <th>3</th>\n",
       "      <td>MSSBA6</td>\n",
       "      <td>2022-02-04</td>\n",
       "      <td>09:33:59</td>\n",
       "      <td>UBAAMA8351</td>\n",
       "      <td>RNCBA05</td>\n",
       "      <td>724</td>\n",
       "      <td>05</td>\n",
       "      <td>30971</td>\n",
       "      <td>30003</td>\n",
       "      <td>724-05-30971-30003</td>\n",
       "    </tr>\n",
       "    <tr>\n",
       "      <th>4</th>\n",
       "      <td>MSSBA6</td>\n",
       "      <td>2022-02-04</td>\n",
       "      <td>09:33:59</td>\n",
       "      <td>UBAAMA8352</td>\n",
       "      <td>RNCBA05</td>\n",
       "      <td>724</td>\n",
       "      <td>05</td>\n",
       "      <td>30971</td>\n",
       "      <td>30004</td>\n",
       "      <td>724-05-30971-30004</td>\n",
       "    </tr>\n",
       "    <tr>\n",
       "      <th>...</th>\n",
       "      <td>...</td>\n",
       "      <td>...</td>\n",
       "      <td>...</td>\n",
       "      <td>...</td>\n",
       "      <td>...</td>\n",
       "      <td>...</td>\n",
       "      <td>...</td>\n",
       "      <td>...</td>\n",
       "      <td>...</td>\n",
       "      <td>...</td>\n",
       "    </tr>\n",
       "    <tr>\n",
       "      <th>7567</th>\n",
       "      <td>MSSBAA</td>\n",
       "      <td>2022-02-04</td>\n",
       "      <td>09:35:50</td>\n",
       "      <td>UBAFSA71B</td>\n",
       "      <td>RNCBA04</td>\n",
       "      <td>724</td>\n",
       "      <td>05</td>\n",
       "      <td>30475</td>\n",
       "      <td>33370</td>\n",
       "      <td>724-05-30475-33370</td>\n",
       "    </tr>\n",
       "    <tr>\n",
       "      <th>7568</th>\n",
       "      <td>MSSBAA</td>\n",
       "      <td>2022-02-04</td>\n",
       "      <td>09:35:50</td>\n",
       "      <td>UBAFSA71C</td>\n",
       "      <td>RNCBA04</td>\n",
       "      <td>724</td>\n",
       "      <td>05</td>\n",
       "      <td>30475</td>\n",
       "      <td>33371</td>\n",
       "      <td>724-05-30475-33371</td>\n",
       "    </tr>\n",
       "    <tr>\n",
       "      <th>7569</th>\n",
       "      <td>MSSBAA</td>\n",
       "      <td>2022-02-04</td>\n",
       "      <td>09:35:50</td>\n",
       "      <td>UBAFSA71E</td>\n",
       "      <td>RNCBA04</td>\n",
       "      <td>724</td>\n",
       "      <td>05</td>\n",
       "      <td>30475</td>\n",
       "      <td>33372</td>\n",
       "      <td>724-05-30475-33372</td>\n",
       "    </tr>\n",
       "    <tr>\n",
       "      <th>7570</th>\n",
       "      <td>MSSBAA</td>\n",
       "      <td>2022-02-04</td>\n",
       "      <td>09:35:50</td>\n",
       "      <td>UBAFSA71F</td>\n",
       "      <td>RNCBA04</td>\n",
       "      <td>724</td>\n",
       "      <td>05</td>\n",
       "      <td>30475</td>\n",
       "      <td>33373</td>\n",
       "      <td>724-05-30475-33373</td>\n",
       "    </tr>\n",
       "    <tr>\n",
       "      <th>7571</th>\n",
       "      <td>MSSBAA</td>\n",
       "      <td>2022-02-04</td>\n",
       "      <td>09:35:50</td>\n",
       "      <td>UBAFSA71G</td>\n",
       "      <td>RNCBA04</td>\n",
       "      <td>724</td>\n",
       "      <td>05</td>\n",
       "      <td>30475</td>\n",
       "      <td>33374</td>\n",
       "      <td>724-05-30475-33374</td>\n",
       "    </tr>\n",
       "  </tbody>\n",
       "</table>\n",
       "<p>7572 rows × 10 columns</p>\n",
       "</div>"
      ],
      "text/plain": [
       "         MSS        Date      Time        Name       NE  MCC MNC    LAC  \\\n",
       "0     MSSBA6  2022-02-04  09:33:59  UBAAMA8301  RNCBA05  724  05  30971   \n",
       "1     MSSBA6  2022-02-04  09:33:59  UBAAMA8302  RNCBA05  724  05  30971   \n",
       "2     MSSBA6  2022-02-04  09:33:59  UBAAMA8303  RNCBA05  724  05  30971   \n",
       "3     MSSBA6  2022-02-04  09:33:59  UBAAMA8351  RNCBA05  724  05  30971   \n",
       "4     MSSBA6  2022-02-04  09:33:59  UBAAMA8352  RNCBA05  724  05  30971   \n",
       "...      ...         ...       ...         ...      ...  ...  ..    ...   \n",
       "7567  MSSBAA  2022-02-04  09:35:50   UBAFSA71B  RNCBA04  724  05  30475   \n",
       "7568  MSSBAA  2022-02-04  09:35:50   UBAFSA71C  RNCBA04  724  05  30475   \n",
       "7569  MSSBAA  2022-02-04  09:35:50   UBAFSA71E  RNCBA04  724  05  30475   \n",
       "7570  MSSBAA  2022-02-04  09:35:50   UBAFSA71F  RNCBA04  724  05  30475   \n",
       "7571  MSSBAA  2022-02-04  09:35:50   UBAFSA71G  RNCBA04  724  05  30475   \n",
       "\n",
       "         CI                 CGI  \n",
       "0     30000  724-05-30971-30000  \n",
       "1     30001  724-05-30971-30001  \n",
       "2     30002  724-05-30971-30002  \n",
       "3     30003  724-05-30971-30003  \n",
       "4     30004  724-05-30971-30004  \n",
       "...     ...                 ...  \n",
       "7567  33370  724-05-30475-33370  \n",
       "7568  33371  724-05-30475-33371  \n",
       "7569  33372  724-05-30475-33372  \n",
       "7570  33373  724-05-30475-33373  \n",
       "7571  33374  724-05-30475-33374  \n",
       "\n",
       "[7572 rows x 10 columns]"
      ]
     },
     "execution_count": 30,
     "metadata": {},
     "output_type": "execute_result"
    }
   ],
   "source": [
    "# Create a dictionary to map MSS-LAI to RNC & mapping on key=MSS-LAI\n",
    "my_dict = dict(zip(df_NOK_MSS_RNC_LAIs['MSS-LAI'], df_NOK_MSS_RNC_LAIs['RNC']))                         # Create a dictionary to map MSS-LAI to RNC\n",
    "df_NOK_MSS_CGIs['NE'] = df_NOK_MSS_CGIs['MSS-LAI'].map(my_dict)                                         # Create a new column NE (RNC) for mapping on key=MSS-LAI\n",
    "NOK_drop_col = ['LAI', 'MSS-LAI']                                                                       # Define columns to drop \n",
    "df_NOK_MSS_CGIs = df_NOK_MSS_CGIs.drop(columns=NOK_drop_col)                                            # Drop columns\n",
    "NOK_col = ['MSS', 'Date', 'Time', 'Name', 'NE', 'MCC', 'MNC', 'LAC', 'CI', 'CGI']                       # Define the column's order\n",
    "df_NOK_MSS_CGIs = df_NOK_MSS_CGIs[NOK_col]                                                              # Order the collumns\n",
    "df_NOK_MSS_CGIs"
   ]
  },
  {
   "cell_type": "markdown",
   "metadata": {},
   "source": [
    "### Plot + Insights"
   ]
  },
  {
   "cell_type": "code",
   "execution_count": 31,
   "metadata": {},
   "outputs": [],
   "source": [
    "# Continue..."
   ]
  }
 ],
 "metadata": {
  "kernelspec": {
   "display_name": "Python 3",
   "language": "python",
   "name": "python3"
  },
  "language_info": {
   "codemirror_mode": {
    "name": "ipython",
    "version": 3
   },
   "file_extension": ".py",
   "mimetype": "text/x-python",
   "name": "python",
   "nbconvert_exporter": "python",
   "pygments_lexer": "ipython3",
   "version": "3.8.8"
  }
 },
 "nbformat": 4,
 "nbformat_minor": 4
}
