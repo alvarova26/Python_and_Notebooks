{
 "cells": [
  {
   "cell_type": "markdown",
   "metadata": {},
   "source": [
    "# LAC <=> RNC MAPPING ALL MSSs (NOKIA & ERICSSON)"
   ]
  },
  {
   "cell_type": "markdown",
   "metadata": {},
   "source": [
    "## Import Modules"
   ]
  },
  {
   "cell_type": "code",
   "execution_count": 40,
   "metadata": {
    "scrolled": true
   },
   "outputs": [
    {
     "name": "stdout",
     "output_type": "stream",
     "text": [
      "The autoreload extension is already loaded. To reload it, use:\n",
      "  %reload_ext autoreload\n"
     ]
    }
   ],
   "source": [
    "# Import modules (NOK_ERI_Toolkit) & others that will be needed along the program\n",
    "import pandas as pd\n",
    "import numpy as np\n",
    "from matplotlib import pyplot as plt\n",
    "import seaborn as sns\n",
    "import NOK_ERI_Toolkit as NOK_ERI_Toolkit\n",
    "\n",
    "%matplotlib inline\n",
    "%load_ext autoreload\n",
    "%autoreload 2\n"
   ]
  },
  {
   "cell_type": "markdown",
   "metadata": {},
   "source": [
    "## Main Program"
   ]
  },
  {
   "cell_type": "markdown",
   "metadata": {},
   "source": [
    "### Initialize variables"
   ]
  },
  {
   "cell_type": "code",
   "execution_count": 41,
   "metadata": {},
   "outputs": [],
   "source": [
    "# Initialize NOKIA, ERICSSON & COMMON variables\n",
    "\n",
    "# NOKIA variables \n",
    "NOK_MSS_Name = '0'\n",
    "NOK_MSS_Date = '0'\n",
    "NOK_MSS_Time = '0'\n",
    "RNC_NAME = '0'\n",
    "RNC_MCC = '0'\n",
    "RNC_MNC = '0'\n",
    "RNC_ID = '0'\n",
    "RNC_MUL_PLMN = '0'\n",
    "RNC_STAT = '0'\n",
    "RNC_OSTAT = '0'\n",
    "RNC_LAC_MCC = '0'\n",
    "RNC_LAC_MNC = '0'\n",
    "RNC_LAC_NO = '0'\n",
    "\n",
    "NOK_MSS_Pars = [NOK_MSS_Name, NOK_MSS_Date, NOK_MSS_Time]\n",
    "RNC_Pars = [RNC_NAME, RNC_MCC, RNC_MNC, RNC_ID, RNC_MUL_PLMN, RNC_STAT, RNC_OSTAT]\n",
    "RNC_LAC_Pars = [RNC_LAC_MCC, RNC_LAC_MNC, RNC_LAC_NO]\n",
    "\n",
    "NOK_index = 0\n",
    "NOK_position = 0\n",
    "NOK_RNC_LAC_count = 0\n",
    "NOK_RNC_LAC_flag = 0\n",
    "\n",
    "# ERICSSON variables \n",
    "ERI_MSS_Name = '0'\n",
    "ERI_MSS_Date = '0'\n",
    "ERI_MSS_Time = '0'\n",
    "RNC_NAME = '0'\n",
    "RNC_LAC_MCC = '0'\n",
    "RNC_LAC_MNC = '0'\n",
    "RNC_LAC_NO = '0'\n",
    "\n",
    "ERI_MSS_Pars = [ERI_MSS_Name, ERI_MSS_Date, ERI_MSS_Time]\n",
    "RNC_Pars = [RNC_NAME]\n",
    "RNC_LAC_Pars = [RNC_LAC_MCC, RNC_LAC_MNC, RNC_LAC_NO]\n",
    "\n",
    "ERI_index = 0\n",
    "ERI_position = 0\n",
    "ERI_RNC_LAC_count = 0\n",
    "ERI_RNC_LAC_flag = 0"
   ]
  },
  {
   "cell_type": "code",
   "execution_count": 42,
   "metadata": {},
   "outputs": [],
   "source": [
    "# Create & Initialize & Set the NOKIA & ERICSSON pd.DataFrame\n",
    "\n",
    "# NOKIA\n",
    "NOK_col_names = ['MSS','Date','Time','RNC','RNC_MCC','RNC_MNC','RNC_ID','RNC_MULT_PLMN',\n",
    "                'RNC_STAT','RNC_OP_STAT','MCC','MNC','LAC']\n",
    "df_NOK_MSS_RNC_LACs = pd.DataFrame(columns=NOK_col_names)\n",
    "df_NOK_MSS_RNC_LACs.loc[0] = [NOK_MSS_Name, NOK_MSS_Date, NOK_MSS_Time, RNC_NAME,\n",
    "                            RNC_MCC, RNC_MNC, RNC_ID, RNC_MUL_PLMN, RNC_STAT, RNC_OSTAT,\n",
    "                            RNC_LAC_MCC, RNC_LAC_MNC, RNC_LAC_NO]\n",
    "\n",
    "# ERICSSON\n",
    "ERI_col_names = ['MSS','Date','Time','RNC','MCC','MNC','LAC']\n",
    "df_ERI_MSS_RNC_LACs = pd.DataFrame(columns=ERI_col_names)\n",
    "df_ERI_MSS_RNC_LACs.loc[0] = [ERI_MSS_Name, ERI_MSS_Date, ERI_MSS_Time,\n",
    "                            RNC_NAME, RNC_LAC_MCC, RNC_LAC_MNC, RNC_LAC_NO]"
   ]
  },
  {
   "cell_type": "code",
   "execution_count": 43,
   "metadata": {},
   "outputs": [],
   "source": [
    "# Especify the path of the NOKIA & ERICSSON log files \n",
    "NOK_path_to_file = 'C:/Users/Alvaro/OneDrive/My Files/_Scripts_Models/Commands Generators Logs/20220204 - ZE2I - All_MSS.txt'\n",
    "ERI_path_to_file = 'C:/Users/Alvaro/OneDrive/My Files/_Scripts_Models/Commands Generators Logs/20220204 - MSSBAxERICC - MGMAP.txt'"
   ]
  },
  {
   "cell_type": "markdown",
   "metadata": {},
   "source": [
    "### Load log file"
   ]
  },
  {
   "cell_type": "code",
   "execution_count": 44,
   "metadata": {},
   "outputs": [],
   "source": [
    "# Load the log file\n",
    "NOK_log_file = NOK_ERI_Toolkit.open_file(NOK_path_to_file)\n",
    "ERI_log_file = NOK_ERI_Toolkit.open_file(ERI_path_to_file)"
   ]
  },
  {
   "cell_type": "markdown",
   "metadata": {},
   "source": [
    "### Execute NOKIA PROGRAM"
   ]
  },
  {
   "cell_type": "code",
   "execution_count": 45,
   "metadata": {},
   "outputs": [],
   "source": [
    "# # Run the main program (txt => pd.DataFrame)\n",
    "while (NOK_index < len(NOK_log_file)-1):\n",
    "    NOK_index, NOK_position, NOK_MSS_Pars = NOK_ERI_Toolkit.get_mss_pars(NOK_log_file, NOK_index,'ZE2I::RT=ALL;')\n",
    "    while (NOK_index < len(NOK_log_file)-1) and (not NOK_position == 999):\n",
    "        NOK_index, NOK_position, RNC_Pars = NOK_ERI_Toolkit.get_ze2i_rnc_pars(NOK_log_file, NOK_index)\n",
    "        while (NOK_index < len(NOK_log_file)-1) and (not NOK_position == 999):\n",
    "            NOK_index, NOK_position, NOK_RNC_LAC_flag, RNC_LAC_Pars = NOK_ERI_Toolkit.get_ze2i_rnc_lac_pars(NOK_log_file, NOK_index, NOK_RNC_LAC_flag)\n",
    "            if NOK_position == 999:                                                 # if 'COMMAND EXECUTED'\n",
    "                NOK_index = NOK_index + 1                                           # Increase index to read next line\n",
    "                break\n",
    "            else:\n",
    "                if (NOK_RNC_LAC_flag == 1):\n",
    "                    new_RNC_LAC = NOK_MSS_Pars + RNC_Pars + RNC_LAC_Pars\n",
    "                    df_NOK_MSS_RNC_LACs.loc[NOK_RNC_LAC_count] = new_RNC_LAC\n",
    "                    NOK_RNC_LAC_count = NOK_RNC_LAC_count + 1\n",
    "                else:\n",
    "                    break"
   ]
  },
  {
   "cell_type": "markdown",
   "metadata": {},
   "source": [
    "### Execute ERICSSON PROGRAM"
   ]
  },
  {
   "cell_type": "code",
   "execution_count": 46,
   "metadata": {},
   "outputs": [],
   "source": [
    "# Run the main program (txt => pd.DataFrame)\n",
    "while (ERI_index < len(ERI_log_file)-1):\n",
    "    ERI_index, ERI_position, ERI_MSS_Pars = NOK_ERI_Toolkit.get_mss_pars(ERI_log_file, ERI_index,'eaw')\n",
    "    while(ERI_position >= 0) and (not ERI_position == 998):\n",
    "        ERI_index, ERI_position, RNC_Pars = NOK_ERI_Toolkit.get_mgmap_rnc_pars(ERI_log_file, ERI_index)\n",
    "        if (ERI_position >= 0) and (not ERI_position == 999) and (not ERI_position == 998):\n",
    "            ERI_index, ERI_position, RNC_LAC_Pars = NOK_ERI_Toolkit.get_mgmap_rnc_lac_pars(ERI_log_file, ERI_index)\n",
    "            while(ERI_position >= 0) and (not ERI_position == 999) and (not ERI_position == 998):\n",
    "                ERI_index, ERI_position, RNC_LAC_Pars = NOK_ERI_Toolkit.get_mgmap_rnc_lac_pars(ERI_log_file, ERI_index)\n",
    "                if(ERI_position >= 0) and (not ERI_position == 999) and (not ERI_position == 998):\n",
    "                    new_RNC_LAC = ERI_MSS_Pars + RNC_Pars + RNC_LAC_Pars\n",
    "                    df_ERI_MSS_RNC_LACs.loc[ERI_RNC_LAC_count] = new_RNC_LAC\n",
    "                    ERI_RNC_LAC_count = ERI_RNC_LAC_count + 1\n",
    "                ERI_index = ERI_index + 1\n",
    "        ERI_index = ERI_index + 1\n",
    "    ERI_index = ERI_index + 1"
   ]
  },
  {
   "cell_type": "markdown",
   "metadata": {},
   "source": [
    "### Drop columns & prepare to merge"
   ]
  },
  {
   "cell_type": "code",
   "execution_count": 47,
   "metadata": {},
   "outputs": [],
   "source": [
    "#NOKIA DataFrame => Drop some columns to get just the most important ones.\n",
    "\n",
    "df_NOK_MSS_RNC_LAIs = df_NOK_MSS_RNC_LACs\n",
    "df_NOK_MSS_RNC_LAIs['MSS'] = df_NOK_MSS_RNC_LAIs['MSS'].str.replace(r'0', '')\n",
    "df_NOK_MSS_RNC_LAIs['LAI'] =  df_NOK_MSS_RNC_LAIs['MCC'] + '-' + df_NOK_MSS_RNC_LAIs['MNC'] + '-' + df_NOK_MSS_RNC_LAIs['LAC']\n",
    "df_NOK_MSS_RNC_LAIs['MSS-LAI'] =  df_NOK_MSS_RNC_LAIs['MSS'] + '-' + df_NOK_MSS_RNC_LAIs['LAI']\n",
    "df_NOK_MSS_RNC_LAIs['NE-LAI'] =  df_NOK_MSS_RNC_LAIs['RNC'] + '-' + df_NOK_MSS_RNC_LAIs['LAI']\n",
    "\n",
    "NOK_drop_col = ['RNC_MCC', 'RNC_MNC', 'RNC_MULT_PLMN', 'RNC_STAT', 'RNC_OP_STAT', 'RNC_ID']\n",
    "df_NOK_MSS_RNC_LAIs = df_NOK_MSS_RNC_LAIs.drop(columns=NOK_drop_col)\n",
    "NOK_col = ['MSS', 'Date', 'Time', 'MCC', 'MNC', 'LAC', 'LAI', 'MSS-LAI', 'NE-LAI', 'RNC']\n",
    "df_NOK_MSS_RNC_LAIs = df_NOK_MSS_RNC_LAIs[NOK_col]"
   ]
  },
  {
   "cell_type": "code",
   "execution_count": 48,
   "metadata": {},
   "outputs": [],
   "source": [
    "# ERICSSON DataFrame => Drop some columns to get just the most important ones.\n",
    "\n",
    "df_ERI_MSS_RNC_LAIs = df_ERI_MSS_RNC_LACs\n",
    "df_ERI_MSS_RNC_LAIs['LAI'] =  df_ERI_MSS_RNC_LAIs['MCC'] + '-' + df_ERI_MSS_RNC_LAIs['MNC'] + '-' + df_ERI_MSS_RNC_LAIs['LAC']\n",
    "df_ERI_MSS_RNC_LAIs['MSS-LAI'] =  df_ERI_MSS_RNC_LAIs['MSS'] + '-' + df_ERI_MSS_RNC_LAIs['LAI']\n",
    "df_ERI_MSS_RNC_LAIs['NE-LAI'] =  df_ERI_MSS_RNC_LAIs['RNC'] + '-' + df_ERI_MSS_RNC_LAIs['LAI']\n",
    "\n",
    "ERI_drop_col = []\n",
    "df_ERI_MSS_RNC_LAIs = df_ERI_MSS_RNC_LAIs.drop(columns=ERI_drop_col)\n",
    "ERI_col = ['MSS', 'Date', 'Time', 'MCC', 'MNC', 'LAC', 'LAI', 'MSS-LAI', 'NE-LAI', 'RNC']\n",
    "df_ERI_MSS_RNC_LAIs = df_ERI_MSS_RNC_LAIs[ERI_col]"
   ]
  },
  {
   "cell_type": "markdown",
   "metadata": {},
   "source": [
    "### Merge & Sort & Print"
   ]
  },
  {
   "cell_type": "code",
   "execution_count": 49,
   "metadata": {},
   "outputs": [
    {
     "data": {
      "text/html": [
       "<div>\n",
       "<style scoped>\n",
       "    .dataframe tbody tr th:only-of-type {\n",
       "        vertical-align: middle;\n",
       "    }\n",
       "\n",
       "    .dataframe tbody tr th {\n",
       "        vertical-align: top;\n",
       "    }\n",
       "\n",
       "    .dataframe thead th {\n",
       "        text-align: right;\n",
       "    }\n",
       "</style>\n",
       "<table border=\"1\" class=\"dataframe\">\n",
       "  <thead>\n",
       "    <tr style=\"text-align: right;\">\n",
       "      <th></th>\n",
       "      <th>MSS</th>\n",
       "      <th>Date</th>\n",
       "      <th>Time</th>\n",
       "      <th>MCC</th>\n",
       "      <th>MNC</th>\n",
       "      <th>LAC</th>\n",
       "      <th>LAI</th>\n",
       "      <th>MSS-LAI</th>\n",
       "      <th>NE-LAI</th>\n",
       "      <th>RNC</th>\n",
       "    </tr>\n",
       "  </thead>\n",
       "  <tbody>\n",
       "    <tr>\n",
       "      <th>0</th>\n",
       "      <td>MSSBA3</td>\n",
       "      <td>0000-00-00</td>\n",
       "      <td>00:00:00</td>\n",
       "      <td>724</td>\n",
       "      <td>05</td>\n",
       "      <td>30171</td>\n",
       "      <td>724-05-30171</td>\n",
       "      <td>MSSBA3-724-05-30171</td>\n",
       "      <td>RNCBA01-724-05-30171</td>\n",
       "      <td>RNCBA01</td>\n",
       "    </tr>\n",
       "    <tr>\n",
       "      <th>1</th>\n",
       "      <td>MSSBA3</td>\n",
       "      <td>0000-00-00</td>\n",
       "      <td>00:00:00</td>\n",
       "      <td>724</td>\n",
       "      <td>05</td>\n",
       "      <td>30173</td>\n",
       "      <td>724-05-30173</td>\n",
       "      <td>MSSBA3-724-05-30173</td>\n",
       "      <td>RNCBA01-724-05-30173</td>\n",
       "      <td>RNCBA01</td>\n",
       "    </tr>\n",
       "    <tr>\n",
       "      <th>2</th>\n",
       "      <td>MSSBA3</td>\n",
       "      <td>0000-00-00</td>\n",
       "      <td>00:00:00</td>\n",
       "      <td>724</td>\n",
       "      <td>05</td>\n",
       "      <td>30174</td>\n",
       "      <td>724-05-30174</td>\n",
       "      <td>MSSBA3-724-05-30174</td>\n",
       "      <td>RNCBA01-724-05-30174</td>\n",
       "      <td>RNCBA01</td>\n",
       "    </tr>\n",
       "    <tr>\n",
       "      <th>3</th>\n",
       "      <td>MSSBA3</td>\n",
       "      <td>0000-00-00</td>\n",
       "      <td>00:00:00</td>\n",
       "      <td>724</td>\n",
       "      <td>05</td>\n",
       "      <td>30175</td>\n",
       "      <td>724-05-30175</td>\n",
       "      <td>MSSBA3-724-05-30175</td>\n",
       "      <td>RNCBA01-724-05-30175</td>\n",
       "      <td>RNCBA01</td>\n",
       "    </tr>\n",
       "    <tr>\n",
       "      <th>4</th>\n",
       "      <td>MSSBA3</td>\n",
       "      <td>0000-00-00</td>\n",
       "      <td>00:00:00</td>\n",
       "      <td>724</td>\n",
       "      <td>05</td>\n",
       "      <td>30177</td>\n",
       "      <td>724-05-30177</td>\n",
       "      <td>MSSBA3-724-05-30177</td>\n",
       "      <td>RNCBA01-724-05-30177</td>\n",
       "      <td>RNCBA01</td>\n",
       "    </tr>\n",
       "    <tr>\n",
       "      <th>...</th>\n",
       "      <td>...</td>\n",
       "      <td>...</td>\n",
       "      <td>...</td>\n",
       "      <td>...</td>\n",
       "      <td>...</td>\n",
       "      <td>...</td>\n",
       "      <td>...</td>\n",
       "      <td>...</td>\n",
       "      <td>...</td>\n",
       "      <td>...</td>\n",
       "    </tr>\n",
       "    <tr>\n",
       "      <th>340</th>\n",
       "      <td>MSSBAA</td>\n",
       "      <td>2022-02-04</td>\n",
       "      <td>09:46:14</td>\n",
       "      <td>724</td>\n",
       "      <td>11</td>\n",
       "      <td>60071</td>\n",
       "      <td>724-11-60071</td>\n",
       "      <td>MSSBAA-724-11-60071</td>\n",
       "      <td>RNCTCSA-724-11-60071</td>\n",
       "      <td>RNCTCSA</td>\n",
       "    </tr>\n",
       "    <tr>\n",
       "      <th>341</th>\n",
       "      <td>MSSBAA</td>\n",
       "      <td>2022-02-04</td>\n",
       "      <td>09:46:14</td>\n",
       "      <td>724</td>\n",
       "      <td>11</td>\n",
       "      <td>60071</td>\n",
       "      <td>724-11-60071</td>\n",
       "      <td>MSSBAA-724-11-60071</td>\n",
       "      <td>RNCTCSD-724-11-60071</td>\n",
       "      <td>RNCTCSD</td>\n",
       "    </tr>\n",
       "    <tr>\n",
       "      <th>342</th>\n",
       "      <td>MSSBAA</td>\n",
       "      <td>2022-02-04</td>\n",
       "      <td>09:46:14</td>\n",
       "      <td>724</td>\n",
       "      <td>11</td>\n",
       "      <td>60071</td>\n",
       "      <td>724-11-60071</td>\n",
       "      <td>MSSBAA-724-11-60071</td>\n",
       "      <td>RNCTCSB-724-11-60071</td>\n",
       "      <td>RNCTCSB</td>\n",
       "    </tr>\n",
       "    <tr>\n",
       "      <th>343</th>\n",
       "      <td>MSSBAA</td>\n",
       "      <td>2022-02-04</td>\n",
       "      <td>09:46:14</td>\n",
       "      <td>724</td>\n",
       "      <td>05</td>\n",
       "      <td>60274</td>\n",
       "      <td>724-05-60274</td>\n",
       "      <td>MSSBAA-724-05-60274</td>\n",
       "      <td>RNCBA04-724-05-60274</td>\n",
       "      <td>RNCBA04</td>\n",
       "    </tr>\n",
       "    <tr>\n",
       "      <th>344</th>\n",
       "      <td>MSSBAA</td>\n",
       "      <td>2022-02-04</td>\n",
       "      <td>09:46:14</td>\n",
       "      <td>724</td>\n",
       "      <td>05</td>\n",
       "      <td>60474</td>\n",
       "      <td>724-05-60474</td>\n",
       "      <td>MSSBAA-724-05-60474</td>\n",
       "      <td>RNCBA04-724-05-60474</td>\n",
       "      <td>RNCBA04</td>\n",
       "    </tr>\n",
       "  </tbody>\n",
       "</table>\n",
       "<p>345 rows × 10 columns</p>\n",
       "</div>"
      ],
      "text/plain": [
       "        MSS        Date      Time  MCC MNC    LAC           LAI  \\\n",
       "0    MSSBA3  0000-00-00  00:00:00  724  05  30171  724-05-30171   \n",
       "1    MSSBA3  0000-00-00  00:00:00  724  05  30173  724-05-30173   \n",
       "2    MSSBA3  0000-00-00  00:00:00  724  05  30174  724-05-30174   \n",
       "3    MSSBA3  0000-00-00  00:00:00  724  05  30175  724-05-30175   \n",
       "4    MSSBA3  0000-00-00  00:00:00  724  05  30177  724-05-30177   \n",
       "..      ...         ...       ...  ...  ..    ...           ...   \n",
       "340  MSSBAA  2022-02-04  09:46:14  724  11  60071  724-11-60071   \n",
       "341  MSSBAA  2022-02-04  09:46:14  724  11  60071  724-11-60071   \n",
       "342  MSSBAA  2022-02-04  09:46:14  724  11  60071  724-11-60071   \n",
       "343  MSSBAA  2022-02-04  09:46:14  724  05  60274  724-05-60274   \n",
       "344  MSSBAA  2022-02-04  09:46:14  724  05  60474  724-05-60474   \n",
       "\n",
       "                 MSS-LAI                NE-LAI      RNC  \n",
       "0    MSSBA3-724-05-30171  RNCBA01-724-05-30171  RNCBA01  \n",
       "1    MSSBA3-724-05-30173  RNCBA01-724-05-30173  RNCBA01  \n",
       "2    MSSBA3-724-05-30174  RNCBA01-724-05-30174  RNCBA01  \n",
       "3    MSSBA3-724-05-30175  RNCBA01-724-05-30175  RNCBA01  \n",
       "4    MSSBA3-724-05-30177  RNCBA01-724-05-30177  RNCBA01  \n",
       "..                   ...                   ...      ...  \n",
       "340  MSSBAA-724-11-60071  RNCTCSA-724-11-60071  RNCTCSA  \n",
       "341  MSSBAA-724-11-60071  RNCTCSD-724-11-60071  RNCTCSD  \n",
       "342  MSSBAA-724-11-60071  RNCTCSB-724-11-60071  RNCTCSB  \n",
       "343  MSSBAA-724-05-60274  RNCBA04-724-05-60274  RNCBA04  \n",
       "344  MSSBAA-724-05-60474  RNCBA04-724-05-60474  RNCBA04  \n",
       "\n",
       "[345 rows x 10 columns]"
      ]
     },
     "execution_count": 49,
     "metadata": {},
     "output_type": "execute_result"
    }
   ],
   "source": [
    "# Merge & Sort & Print NOKIA and ERICSSON.\n",
    "\n",
    "df_NOK_ERI_MSS_LACs = df_NOK_MSS_RNC_LAIs.append(df_ERI_MSS_RNC_LAIs, ignore_index=True)\n",
    "df_NOK_ERI_MSS_LACs = df_NOK_ERI_MSS_LACs.sort_values(by=['MSS','LAC'], ignore_index=True)\n",
    "df_NOK_ERI_MSS_LACs"
   ]
  },
  {
   "cell_type": "markdown",
   "metadata": {},
   "source": [
    "### Plot + Insights"
   ]
  },
  {
   "cell_type": "code",
   "execution_count": 50,
   "metadata": {},
   "outputs": [],
   "source": [
    "# Continue..."
   ]
  },
  {
   "cell_type": "code",
   "execution_count": null,
   "metadata": {},
   "outputs": [],
   "source": []
  },
  {
   "cell_type": "code",
   "execution_count": null,
   "metadata": {},
   "outputs": [],
   "source": []
  },
  {
   "cell_type": "code",
   "execution_count": null,
   "metadata": {},
   "outputs": [],
   "source": []
  },
  {
   "cell_type": "code",
   "execution_count": null,
   "metadata": {},
   "outputs": [],
   "source": []
  },
  {
   "cell_type": "code",
   "execution_count": null,
   "metadata": {},
   "outputs": [],
   "source": []
  },
  {
   "cell_type": "code",
   "execution_count": null,
   "metadata": {},
   "outputs": [],
   "source": []
  },
  {
   "cell_type": "code",
   "execution_count": null,
   "metadata": {},
   "outputs": [],
   "source": []
  },
  {
   "cell_type": "code",
   "execution_count": null,
   "metadata": {},
   "outputs": [],
   "source": []
  },
  {
   "cell_type": "code",
   "execution_count": null,
   "metadata": {},
   "outputs": [],
   "source": []
  },
  {
   "cell_type": "code",
   "execution_count": 51,
   "metadata": {},
   "outputs": [
    {
     "ename": "NameError",
     "evalue": "name 'df_MSS_LACs' is not defined",
     "output_type": "error",
     "traceback": [
      "\u001b[1;31m---------------------------------------------------------------------------\u001b[0m",
      "\u001b[1;31mNameError\u001b[0m                                 Traceback (most recent call last)",
      "\u001b[1;32mc:\\Users\\Alvaro\\OneDrive\\My Files\\Programming\\Python\\2022 - Jupyter Notebooks\\Macro LAC_RNC_MAP_NOK-ERI.ipynb Cell 31'\u001b[0m in \u001b[0;36m<module>\u001b[1;34m\u001b[0m\n\u001b[1;32m----> <a href='vscode-notebook-cell:/c%3A/Users/Alvaro/OneDrive/My%20Files/Programming/Python/2022%20-%20Jupyter%20Notebooks/Macro%20LAC_RNC_MAP_NOK-ERI.ipynb#ch0000031?line=0'>1</a>\u001b[0m df_MSS_LACs\u001b[39m.\u001b[39mhead()\n",
      "\u001b[1;31mNameError\u001b[0m: name 'df_MSS_LACs' is not defined"
     ]
    }
   ],
   "source": [
    "df_MSS_LACs.head()"
   ]
  },
  {
   "cell_type": "code",
   "execution_count": null,
   "metadata": {},
   "outputs": [
    {
     "ename": "KeyError",
     "evalue": "'Column not found: AT'",
     "output_type": "error",
     "traceback": [
      "\u001b[1;31m---------------------------------------------------------------------------\u001b[0m",
      "\u001b[1;31mKeyError\u001b[0m                                  Traceback (most recent call last)",
      "\u001b[1;32mc:\\Users\\Alvaro\\OneDrive\\My Files\\Programming\\Python\\2022 - Jupyter Notebooks\\Macro ZEKO MSS.ipynb Cell 38'\u001b[0m in \u001b[0;36m<module>\u001b[1;34m\u001b[0m\n\u001b[1;32m----> <a href='vscode-notebook-cell:/c%3A/Users/Alvaro/OneDrive/My%20Files/Programming/Python/2022%20-%20Jupyter%20Notebooks/Macro%20ZEKO%20MSS.ipynb#ch0000041?line=0'>1</a>\u001b[0m df_MSS_LACs\u001b[39m.\u001b[39;49mgroupby(\u001b[39m'\u001b[39;49m\u001b[39mMSS\u001b[39;49m\u001b[39m'\u001b[39;49m)[\u001b[39m'\u001b[39;49m\u001b[39mAT\u001b[39;49m\u001b[39m'\u001b[39;49m]\u001b[39m.\u001b[39mcount()\n",
      "File \u001b[1;32m~\\Anaconda3\\lib\\site-packages\\pandas\\core\\groupby\\generic.py:1542\u001b[0m, in \u001b[0;36mDataFrameGroupBy.__getitem__\u001b[1;34m(self, key)\u001b[0m\n\u001b[0;32m   <a href='file:///~/Anaconda3/lib/site-packages/pandas/core/groupby/generic.py?line=1532'>1533</a>\u001b[0m \u001b[39mif\u001b[39;00m \u001b[39misinstance\u001b[39m(key, \u001b[39mtuple\u001b[39m) \u001b[39mand\u001b[39;00m \u001b[39mlen\u001b[39m(key) \u001b[39m>\u001b[39m \u001b[39m1\u001b[39m:\n\u001b[0;32m   <a href='file:///~/Anaconda3/lib/site-packages/pandas/core/groupby/generic.py?line=1533'>1534</a>\u001b[0m     \u001b[39m# if len == 1, then it becomes a SeriesGroupBy and this is actually\u001b[39;00m\n\u001b[0;32m   <a href='file:///~/Anaconda3/lib/site-packages/pandas/core/groupby/generic.py?line=1534'>1535</a>\u001b[0m     \u001b[39m# valid syntax, so don't raise warning\u001b[39;00m\n\u001b[0;32m   <a href='file:///~/Anaconda3/lib/site-packages/pandas/core/groupby/generic.py?line=1535'>1536</a>\u001b[0m     warnings\u001b[39m.\u001b[39mwarn(\n\u001b[0;32m   <a href='file:///~/Anaconda3/lib/site-packages/pandas/core/groupby/generic.py?line=1536'>1537</a>\u001b[0m         \u001b[39m\"\u001b[39m\u001b[39mIndexing with multiple keys (implicitly converted to a tuple \u001b[39m\u001b[39m\"\u001b[39m\n\u001b[0;32m   <a href='file:///~/Anaconda3/lib/site-packages/pandas/core/groupby/generic.py?line=1537'>1538</a>\u001b[0m         \u001b[39m\"\u001b[39m\u001b[39mof keys) will be deprecated, use a list instead.\u001b[39m\u001b[39m\"\u001b[39m,\n\u001b[0;32m   <a href='file:///~/Anaconda3/lib/site-packages/pandas/core/groupby/generic.py?line=1538'>1539</a>\u001b[0m         \u001b[39mFutureWarning\u001b[39;00m,\n\u001b[0;32m   <a href='file:///~/Anaconda3/lib/site-packages/pandas/core/groupby/generic.py?line=1539'>1540</a>\u001b[0m         stacklevel\u001b[39m=\u001b[39m\u001b[39m2\u001b[39m,\n\u001b[0;32m   <a href='file:///~/Anaconda3/lib/site-packages/pandas/core/groupby/generic.py?line=1540'>1541</a>\u001b[0m     )\n\u001b[1;32m-> <a href='file:///~/Anaconda3/lib/site-packages/pandas/core/groupby/generic.py?line=1541'>1542</a>\u001b[0m \u001b[39mreturn\u001b[39;00m \u001b[39msuper\u001b[39;49m()\u001b[39m.\u001b[39;49m\u001b[39m__getitem__\u001b[39;49m(key)\n",
      "File \u001b[1;32m~\\Anaconda3\\lib\\site-packages\\pandas\\core\\base.py:280\u001b[0m, in \u001b[0;36mSelectionMixin.__getitem__\u001b[1;34m(self, key)\u001b[0m\n\u001b[0;32m    <a href='file:///~/Anaconda3/lib/site-packages/pandas/core/base.py?line=276'>277</a>\u001b[0m \u001b[39melse\u001b[39;00m:\n\u001b[0;32m    <a href='file:///~/Anaconda3/lib/site-packages/pandas/core/base.py?line=277'>278</a>\u001b[0m     \u001b[39m# error: \"SelectionMixin\" has no attribute \"obj\"  [attr-defined]\u001b[39;00m\n\u001b[0;32m    <a href='file:///~/Anaconda3/lib/site-packages/pandas/core/base.py?line=278'>279</a>\u001b[0m     \u001b[39mif\u001b[39;00m key \u001b[39mnot\u001b[39;00m \u001b[39min\u001b[39;00m \u001b[39mself\u001b[39m\u001b[39m.\u001b[39mobj:  \u001b[39m# type: ignore[attr-defined]\u001b[39;00m\n\u001b[1;32m--> <a href='file:///~/Anaconda3/lib/site-packages/pandas/core/base.py?line=279'>280</a>\u001b[0m         \u001b[39mraise\u001b[39;00m \u001b[39mKeyError\u001b[39;00m(\u001b[39mf\u001b[39m\u001b[39m\"\u001b[39m\u001b[39mColumn not found: \u001b[39m\u001b[39m{\u001b[39;00mkey\u001b[39m}\u001b[39;00m\u001b[39m\"\u001b[39m)\n\u001b[0;32m    <a href='file:///~/Anaconda3/lib/site-packages/pandas/core/base.py?line=280'>281</a>\u001b[0m     \u001b[39mreturn\u001b[39;00m \u001b[39mself\u001b[39m\u001b[39m.\u001b[39m_gotitem(key, ndim\u001b[39m=\u001b[39m\u001b[39m1\u001b[39m)\n",
      "\u001b[1;31mKeyError\u001b[0m: 'Column not found: AT'"
     ]
    }
   ],
   "source": [
    "df_MSS_LACs.groupby('MSS')['AT'].count()"
   ]
  },
  {
   "cell_type": "code",
   "execution_count": null,
   "metadata": {},
   "outputs": [],
   "source": [
    "df_MSS_LACs.describe(include='all')"
   ]
  },
  {
   "cell_type": "code",
   "execution_count": null,
   "metadata": {},
   "outputs": [],
   "source": [
    "df_MSS_LACs['MSS'].describe(include='all')"
   ]
  },
  {
   "cell_type": "code",
   "execution_count": null,
   "metadata": {},
   "outputs": [],
   "source": [
    "df_MSS_LACs.head()"
   ]
  },
  {
   "cell_type": "code",
   "execution_count": null,
   "metadata": {},
   "outputs": [],
   "source": [
    "df_MSS_LACs['AT'].count()"
   ]
  },
  {
   "cell_type": "code",
   "execution_count": null,
   "metadata": {},
   "outputs": [],
   "source": [
    "df_MSS_LACs"
   ]
  },
  {
   "cell_type": "code",
   "execution_count": null,
   "metadata": {},
   "outputs": [],
   "source": [
    "df_MSS_LACs.dropna().describe()"
   ]
  },
  {
   "cell_type": "code",
   "execution_count": null,
   "metadata": {},
   "outputs": [],
   "source": []
  },
  {
   "cell_type": "code",
   "execution_count": null,
   "metadata": {},
   "outputs": [],
   "source": [
    "df_MSS_LACs.groupby('MSS', axis=1).count()"
   ]
  },
  {
   "cell_type": "code",
   "execution_count": null,
   "metadata": {},
   "outputs": [],
   "source": []
  }
 ],
 "metadata": {
  "kernelspec": {
   "display_name": "Python 3",
   "language": "python",
   "name": "python3"
  },
  "language_info": {
   "codemirror_mode": {
    "name": "ipython",
    "version": 3
   },
   "file_extension": ".py",
   "mimetype": "text/x-python",
   "name": "python",
   "nbconvert_exporter": "python",
   "pygments_lexer": "ipython3",
   "version": "3.8.8"
  }
 },
 "nbformat": 4,
 "nbformat_minor": 4
}
