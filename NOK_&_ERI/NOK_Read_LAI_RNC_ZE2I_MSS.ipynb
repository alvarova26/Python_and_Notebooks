{
 "cells": [
  {
   "cell_type": "markdown",
   "metadata": {},
   "source": [
    "# ALL LACs of ALL MSSs"
   ]
  },
  {
   "cell_type": "markdown",
   "metadata": {},
   "source": [
    "## Import Modules"
   ]
  },
  {
   "cell_type": "code",
   "execution_count": 20,
   "metadata": {
    "scrolled": true
   },
   "outputs": [
    {
     "name": "stdout",
     "output_type": "stream",
     "text": [
      "The autoreload extension is already loaded. To reload it, use:\n",
      "  %reload_ext autoreload\n"
     ]
    }
   ],
   "source": [
    "# Import modules (NOK_ERI_Toolkit) & others that will be needed along the program\n",
    "import pandas as pd\n",
    "import numpy as np\n",
    "from matplotlib import pyplot as plt\n",
    "import seaborn as sns\n",
    "import NOK_ERI_Toolkit as NOK_ERI_Toolkit\n",
    "\n",
    "%matplotlib inline\n",
    "%load_ext autoreload\n",
    "%autoreload 2"
   ]
  },
  {
   "cell_type": "markdown",
   "metadata": {},
   "source": [
    "## Main Program"
   ]
  },
  {
   "cell_type": "markdown",
   "metadata": {},
   "source": [
    "### Initialize variables"
   ]
  },
  {
   "cell_type": "code",
   "execution_count": 21,
   "metadata": {},
   "outputs": [],
   "source": [
    "# Initialize NOKIA, ERICSSON & COMMON variables\n",
    "\n",
    "# NOKIA\n",
    "NOK_MSS_Name = '0'\n",
    "NOK_MSS_Date = '0'\n",
    "NOK_MSS_Time = '0'\n",
    "RNC_NAME = '0'\n",
    "RNC_MCC = '0'\n",
    "RNC_MNC = '0'\n",
    "RNC_ID = '0'\n",
    "RNC_MUL_PLMN = '0'\n",
    "RNC_STAT = '0'\n",
    "RNC_OSTAT = '0'\n",
    "RNC_LAC_MCC = '0'\n",
    "RNC_LAC_MNC = '0'\n",
    "RNC_LAC_NO = '0'\n",
    "\n",
    "NOK_MSS_Pars = [NOK_MSS_Name, NOK_MSS_Date, NOK_MSS_Time]\n",
    "NOK_RNC_Pars = [RNC_NAME, RNC_MCC, RNC_MNC, RNC_ID, RNC_MUL_PLMN, RNC_STAT, RNC_OSTAT]\n",
    "NOK_RNC_LAC_Pars = [RNC_LAC_MCC, RNC_LAC_MNC, RNC_LAC_NO]\n",
    "\n",
    "NOK_index = 0\n",
    "NOK_position = 0\n",
    "NOK_RNC_LAC_count = 0\n",
    "NOK_RNC_LAC_flag = 0"
   ]
  },
  {
   "cell_type": "code",
   "execution_count": 22,
   "metadata": {},
   "outputs": [],
   "source": [
    "# Create & Initialize & Set the NOKIA & ERICSSON pd.DataFrame\n",
    "\n",
    "# NOKIA\n",
    "col_names = ['MSS','Date','Time','RNC','RNC_MCC','RNC_MNC','RNC_ID','RNC_MULT_PLMN',\n",
    "                'RNC_STAT','RNC_OP_STAT','MCC','MNC','LAC']\n",
    "df_NOK_MSS_RNC_LACs = pd.DataFrame(columns=col_names)\n",
    "df_NOK_MSS_RNC_LACs.loc[0] = [NOK_MSS_Name, NOK_MSS_Date, NOK_MSS_Time, RNC_NAME,\n",
    "                                RNC_MCC, RNC_MNC, RNC_ID, RNC_MUL_PLMN, RNC_STAT, RNC_OSTAT,\n",
    "                                RNC_LAC_MCC, RNC_LAC_MNC, RNC_LAC_NO]"
   ]
  },
  {
   "cell_type": "code",
   "execution_count": 23,
   "metadata": {},
   "outputs": [],
   "source": [
    "# Especify the path of the NOKIA & ERICSSON log files \n",
    "NOK_path_to_file = 'C:/Users/Alvaro/OneDrive/My Files/_Scripts_Models/Commands Generators Logs/20220204 - ZE2I - All_MSS.txt'"
   ]
  },
  {
   "cell_type": "markdown",
   "metadata": {},
   "source": [
    "### Load log file"
   ]
  },
  {
   "cell_type": "code",
   "execution_count": 24,
   "metadata": {},
   "outputs": [],
   "source": [
    "# Load the log file\n",
    "NOK_log_file = NOK_ERI_Toolkit.open_file(NOK_path_to_file)"
   ]
  },
  {
   "cell_type": "markdown",
   "metadata": {},
   "source": [
    "### Execute NOKIA PROGRAM"
   ]
  },
  {
   "cell_type": "code",
   "execution_count": 25,
   "metadata": {},
   "outputs": [],
   "source": [
    "# # Run the main program (txt => pd.DataFrame)\n",
    "while (NOK_index < len(NOK_log_file)-1):\n",
    "    NOK_index, NOK_position, NOK_MSS_Pars = NOK_ERI_Toolkit.get_mss_pars(NOK_log_file, NOK_index,'ZE2I::RT=ALL;')\n",
    "    while (NOK_index < len(NOK_log_file)-1) and (not NOK_position == 999):\n",
    "        NOK_index, NOK_position, RNC_Pars = NOK_ERI_Toolkit.get_ze2i_rnc_pars(NOK_log_file, NOK_index)\n",
    "        while (NOK_index < len(NOK_log_file)-1) and (not NOK_position == 999):\n",
    "            NOK_index, NOK_position, NOK_RNC_LAC_flag, RNC_LAC_Pars = NOK_ERI_Toolkit.get_ze2i_rnc_lac_pars(NOK_log_file, NOK_index, NOK_RNC_LAC_flag)\n",
    "            if NOK_position == 999:                                                 # if 'COMMAND EXECUTED'\n",
    "                NOK_index = NOK_index + 1                                           # Increase index to read next line\n",
    "                break\n",
    "            else:\n",
    "                if (NOK_RNC_LAC_flag == 1):\n",
    "                    new_RNC_LAC = NOK_MSS_Pars + RNC_Pars + RNC_LAC_Pars\n",
    "                    df_NOK_MSS_RNC_LACs.loc[NOK_RNC_LAC_count] = new_RNC_LAC\n",
    "                    NOK_RNC_LAC_count = NOK_RNC_LAC_count + 1\n",
    "                else:\n",
    "                    break"
   ]
  },
  {
   "cell_type": "markdown",
   "metadata": {},
   "source": [
    "### Drop columns & prepare to merge"
   ]
  },
  {
   "cell_type": "code",
   "execution_count": 26,
   "metadata": {},
   "outputs": [
    {
     "data": {
      "text/html": [
       "<div>\n",
       "<style scoped>\n",
       "    .dataframe tbody tr th:only-of-type {\n",
       "        vertical-align: middle;\n",
       "    }\n",
       "\n",
       "    .dataframe tbody tr th {\n",
       "        vertical-align: top;\n",
       "    }\n",
       "\n",
       "    .dataframe thead th {\n",
       "        text-align: right;\n",
       "    }\n",
       "</style>\n",
       "<table border=\"1\" class=\"dataframe\">\n",
       "  <thead>\n",
       "    <tr style=\"text-align: right;\">\n",
       "      <th></th>\n",
       "      <th>MSS</th>\n",
       "      <th>Date</th>\n",
       "      <th>Time</th>\n",
       "      <th>MCC</th>\n",
       "      <th>MNC</th>\n",
       "      <th>LAC</th>\n",
       "      <th>LAI</th>\n",
       "      <th>MSS-LAI</th>\n",
       "      <th>NE-LAI</th>\n",
       "      <th>RNC</th>\n",
       "    </tr>\n",
       "  </thead>\n",
       "  <tbody>\n",
       "    <tr>\n",
       "      <th>0</th>\n",
       "      <td>MSSBA6</td>\n",
       "      <td>2022-02-04</td>\n",
       "      <td>09:47:18</td>\n",
       "      <td>724</td>\n",
       "      <td>05</td>\n",
       "      <td>30971</td>\n",
       "      <td>724-05-30971</td>\n",
       "      <td>MSSBA6-724-05-30971</td>\n",
       "      <td>RNCBA05-724-05-30971</td>\n",
       "      <td>RNCBA05</td>\n",
       "    </tr>\n",
       "    <tr>\n",
       "      <th>1</th>\n",
       "      <td>MSSBA6</td>\n",
       "      <td>2022-02-04</td>\n",
       "      <td>09:47:18</td>\n",
       "      <td>724</td>\n",
       "      <td>05</td>\n",
       "      <td>31171</td>\n",
       "      <td>724-05-31171</td>\n",
       "      <td>MSSBA6-724-05-31171</td>\n",
       "      <td>RNCBA05-724-05-31171</td>\n",
       "      <td>RNCBA05</td>\n",
       "    </tr>\n",
       "    <tr>\n",
       "      <th>2</th>\n",
       "      <td>MSSBA6</td>\n",
       "      <td>2022-02-04</td>\n",
       "      <td>09:47:18</td>\n",
       "      <td>724</td>\n",
       "      <td>05</td>\n",
       "      <td>31571</td>\n",
       "      <td>724-05-31571</td>\n",
       "      <td>MSSBA6-724-05-31571</td>\n",
       "      <td>RNCBA05-724-05-31571</td>\n",
       "      <td>RNCBA05</td>\n",
       "    </tr>\n",
       "    <tr>\n",
       "      <th>3</th>\n",
       "      <td>MSSBA6</td>\n",
       "      <td>2022-02-04</td>\n",
       "      <td>09:47:18</td>\n",
       "      <td>724</td>\n",
       "      <td>05</td>\n",
       "      <td>31071</td>\n",
       "      <td>724-05-31071</td>\n",
       "      <td>MSSBA6-724-05-31071</td>\n",
       "      <td>RNCBA05-724-05-31071</td>\n",
       "      <td>RNCBA05</td>\n",
       "    </tr>\n",
       "    <tr>\n",
       "      <th>4</th>\n",
       "      <td>MSSBA6</td>\n",
       "      <td>2022-02-04</td>\n",
       "      <td>09:47:18</td>\n",
       "      <td>724</td>\n",
       "      <td>05</td>\n",
       "      <td>31671</td>\n",
       "      <td>724-05-31671</td>\n",
       "      <td>MSSBA6-724-05-31671</td>\n",
       "      <td>RNCBA05-724-05-31671</td>\n",
       "      <td>RNCBA05</td>\n",
       "    </tr>\n",
       "    <tr>\n",
       "      <th>...</th>\n",
       "      <td>...</td>\n",
       "      <td>...</td>\n",
       "      <td>...</td>\n",
       "      <td>...</td>\n",
       "      <td>...</td>\n",
       "      <td>...</td>\n",
       "      <td>...</td>\n",
       "      <td>...</td>\n",
       "      <td>...</td>\n",
       "      <td>...</td>\n",
       "    </tr>\n",
       "    <tr>\n",
       "      <th>218</th>\n",
       "      <td>MSSBAA</td>\n",
       "      <td>2022-02-04</td>\n",
       "      <td>09:46:14</td>\n",
       "      <td>724</td>\n",
       "      <td>28</td>\n",
       "      <td>33675</td>\n",
       "      <td>724-28-33675</td>\n",
       "      <td>MSSBAA-724-28-33675</td>\n",
       "      <td>RNCTCSB-724-28-33675</td>\n",
       "      <td>RNCTCSB</td>\n",
       "    </tr>\n",
       "    <tr>\n",
       "      <th>219</th>\n",
       "      <td>MSSBAA</td>\n",
       "      <td>2022-02-04</td>\n",
       "      <td>09:46:14</td>\n",
       "      <td>724</td>\n",
       "      <td>05</td>\n",
       "      <td>33975</td>\n",
       "      <td>724-05-33975</td>\n",
       "      <td>MSSBAA-724-05-33975</td>\n",
       "      <td>RNCTCSB-724-05-33975</td>\n",
       "      <td>RNCTCSB</td>\n",
       "    </tr>\n",
       "    <tr>\n",
       "      <th>220</th>\n",
       "      <td>MSSBAA</td>\n",
       "      <td>2022-02-04</td>\n",
       "      <td>09:46:14</td>\n",
       "      <td>724</td>\n",
       "      <td>28</td>\n",
       "      <td>33975</td>\n",
       "      <td>724-28-33975</td>\n",
       "      <td>MSSBAA-724-28-33975</td>\n",
       "      <td>RNCTCSB-724-28-33975</td>\n",
       "      <td>RNCTCSB</td>\n",
       "    </tr>\n",
       "    <tr>\n",
       "      <th>221</th>\n",
       "      <td>MSSBAA</td>\n",
       "      <td>2022-02-04</td>\n",
       "      <td>09:46:14</td>\n",
       "      <td>724</td>\n",
       "      <td>05</td>\n",
       "      <td>34075</td>\n",
       "      <td>724-05-34075</td>\n",
       "      <td>MSSBAA-724-05-34075</td>\n",
       "      <td>RNCTCSB-724-05-34075</td>\n",
       "      <td>RNCTCSB</td>\n",
       "    </tr>\n",
       "    <tr>\n",
       "      <th>222</th>\n",
       "      <td>MSSBAA</td>\n",
       "      <td>2022-02-04</td>\n",
       "      <td>09:46:14</td>\n",
       "      <td>724</td>\n",
       "      <td>28</td>\n",
       "      <td>34075</td>\n",
       "      <td>724-28-34075</td>\n",
       "      <td>MSSBAA-724-28-34075</td>\n",
       "      <td>RNCTCSB-724-28-34075</td>\n",
       "      <td>RNCTCSB</td>\n",
       "    </tr>\n",
       "  </tbody>\n",
       "</table>\n",
       "<p>223 rows × 10 columns</p>\n",
       "</div>"
      ],
      "text/plain": [
       "        MSS        Date      Time  MCC MNC    LAC           LAI  \\\n",
       "0    MSSBA6  2022-02-04  09:47:18  724  05  30971  724-05-30971   \n",
       "1    MSSBA6  2022-02-04  09:47:18  724  05  31171  724-05-31171   \n",
       "2    MSSBA6  2022-02-04  09:47:18  724  05  31571  724-05-31571   \n",
       "3    MSSBA6  2022-02-04  09:47:18  724  05  31071  724-05-31071   \n",
       "4    MSSBA6  2022-02-04  09:47:18  724  05  31671  724-05-31671   \n",
       "..      ...         ...       ...  ...  ..    ...           ...   \n",
       "218  MSSBAA  2022-02-04  09:46:14  724  28  33675  724-28-33675   \n",
       "219  MSSBAA  2022-02-04  09:46:14  724  05  33975  724-05-33975   \n",
       "220  MSSBAA  2022-02-04  09:46:14  724  28  33975  724-28-33975   \n",
       "221  MSSBAA  2022-02-04  09:46:14  724  05  34075  724-05-34075   \n",
       "222  MSSBAA  2022-02-04  09:46:14  724  28  34075  724-28-34075   \n",
       "\n",
       "                 MSS-LAI                NE-LAI      RNC  \n",
       "0    MSSBA6-724-05-30971  RNCBA05-724-05-30971  RNCBA05  \n",
       "1    MSSBA6-724-05-31171  RNCBA05-724-05-31171  RNCBA05  \n",
       "2    MSSBA6-724-05-31571  RNCBA05-724-05-31571  RNCBA05  \n",
       "3    MSSBA6-724-05-31071  RNCBA05-724-05-31071  RNCBA05  \n",
       "4    MSSBA6-724-05-31671  RNCBA05-724-05-31671  RNCBA05  \n",
       "..                   ...                   ...      ...  \n",
       "218  MSSBAA-724-28-33675  RNCTCSB-724-28-33675  RNCTCSB  \n",
       "219  MSSBAA-724-05-33975  RNCTCSB-724-05-33975  RNCTCSB  \n",
       "220  MSSBAA-724-28-33975  RNCTCSB-724-28-33975  RNCTCSB  \n",
       "221  MSSBAA-724-05-34075  RNCTCSB-724-05-34075  RNCTCSB  \n",
       "222  MSSBAA-724-28-34075  RNCTCSB-724-28-34075  RNCTCSB  \n",
       "\n",
       "[223 rows x 10 columns]"
      ]
     },
     "execution_count": 26,
     "metadata": {},
     "output_type": "execute_result"
    }
   ],
   "source": [
    "# NOKIA DataFrame => Drop some columns to get just the most important ones.\n",
    "\n",
    "df_NOK_MSS_RNC_LAIs = df_NOK_MSS_RNC_LACs\n",
    "df_NOK_MSS_RNC_LAIs['MSS'] = df_NOK_MSS_RNC_LAIs['MSS'].str.replace(r'0', '')\n",
    "df_NOK_MSS_RNC_LAIs['LAI'] =  df_NOK_MSS_RNC_LAIs['MCC'] + '-' + df_NOK_MSS_RNC_LAIs['MNC'] + '-' + df_NOK_MSS_RNC_LAIs['LAC']\n",
    "df_NOK_MSS_RNC_LAIs['MSS-LAI'] =  df_NOK_MSS_RNC_LAIs['MSS'] + '-' + df_NOK_MSS_RNC_LAIs['LAI']\n",
    "df_NOK_MSS_RNC_LAIs['NE-LAI'] =  df_NOK_MSS_RNC_LAIs['RNC'] + '-' + df_NOK_MSS_RNC_LAIs['LAI']\n",
    "\n",
    "NOK_drop_col = ['RNC_MCC', 'RNC_MNC', 'RNC_MULT_PLMN', 'RNC_STAT', 'RNC_OP_STAT', 'RNC_ID']\n",
    "df_NOK_MSS_RNC_LAIs = df_NOK_MSS_RNC_LAIs.drop(columns=NOK_drop_col)\n",
    "NOK_col = ['MSS', 'Date', 'Time', 'MCC', 'MNC', 'LAC', 'LAI', 'MSS-LAI', 'NE-LAI', 'RNC']\n",
    "df_NOK_MSS_RNC_LAIs = df_NOK_MSS_RNC_LAIs[NOK_col]\n",
    "df_NOK_MSS_RNC_LAIs"
   ]
  },
  {
   "cell_type": "markdown",
   "metadata": {},
   "source": [
    "### Plot + Insights"
   ]
  },
  {
   "cell_type": "code",
   "execution_count": 27,
   "metadata": {},
   "outputs": [],
   "source": [
    "# Continue..."
   ]
  }
 ],
 "metadata": {
  "kernelspec": {
   "display_name": "Python 3",
   "language": "python",
   "name": "python3"
  },
  "language_info": {
   "codemirror_mode": {
    "name": "ipython",
    "version": 3
   },
   "file_extension": ".py",
   "mimetype": "text/x-python",
   "name": "python",
   "nbconvert_exporter": "python",
   "pygments_lexer": "ipython3",
   "version": "3.8.8"
  }
 },
 "nbformat": 4,
 "nbformat_minor": 4
}
