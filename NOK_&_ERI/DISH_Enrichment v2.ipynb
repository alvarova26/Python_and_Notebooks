{
 "cells": [
  {
   "attachments": {},
   "cell_type": "markdown",
   "metadata": {
    "id": "5lkrBvVl5UHd"
   },
   "source": [
    "# DISH enrichment tables"
   ]
  },
  {
   "cell_type": "markdown",
   "metadata": {
    "id": "QKWzdg5Y5k8r"
   },
   "source": [
    "## Import modules"
   ]
  },
  {
   "cell_type": "code",
   "execution_count": 1,
   "metadata": {
    "id": "_8C2lA8p5SrP"
   },
   "outputs": [],
   "source": [
    "# Import modules\n",
    "import pandas as pd\n",
    "import numpy as np\n",
    "from datetime import datetime\n",
    "\n",
    "%matplotlib inline\n",
    "%load_ext autoreload\n",
    "%autoreload 2"
   ]
  },
  {
   "attachments": {},
   "cell_type": "markdown",
   "metadata": {
    "id": "QKWzdg5Y5k8r"
   },
   "source": [
    "## Define functions"
   ]
  },
  {
   "cell_type": "code",
   "execution_count": 55,
   "metadata": {},
   "outputs": [],
   "source": [
    "def open_file(my_file_path):\n",
    "    '''\n",
    "    Function:   \n",
    "        + Opens a csv file and converts it into a pandas dataframe with all fields read as string (except NaN)\n",
    "    Input:\n",
    "        + my_file_path  => Path of the file\n",
    "    Output:\n",
    "        + my_file_as_df => Pandas dataframe\n",
    "    '''\n",
    "\n",
    "    # Variable control\n",
    "    assert isinstance(my_file_path, str), 'The path to the file must be as string'\n",
    "    assert len(my_file_path) > 0, 'Path is empty'\n",
    "\n",
    "    # Code\n",
    "    with open(my_file_path) as my_file: # Opening this way it is not necessary to close the file to release resources\n",
    "        my_file_as_df = pd.read_csv(my_file, dtype=str)\n",
    "    \n",
    "    return my_file_as_df"
   ]
  },
  {
   "cell_type": "code",
   "execution_count": 56,
   "metadata": {},
   "outputs": [],
   "source": [
    "def export_to_xlsx(path, df):\n",
    "    with pd.ExcelWriter(path) as writer:\n",
    "        df.to_excel(writer, sheet_name='py_export', index=False)"
   ]
  },
  {
   "cell_type": "code",
   "execution_count": 57,
   "metadata": {},
   "outputs": [],
   "source": [
    "def zeros_to_add(val,):\n",
    "    if val == 10: return 0\n",
    "    if val >= 9: return 1\n",
    "    if val >= 8: return 2\n",
    "    if val >= 7: return 3\n",
    "    if val >= 6: return 4\n",
    "    if val >= 5: return 5\n",
    "    if val >= 4: return 6\n",
    "    if val >= 3: return 7\n",
    "    if val >= 2: return 8\n",
    "    if val >= 1: return 9"
   ]
  },
  {
   "cell_type": "code",
   "execution_count": 58,
   "metadata": {},
   "outputs": [],
   "source": [
    "def padding(NR_Cell_ID_dec, NR_Cell_ID_dec_len):\n",
    "    if NR_Cell_ID_dec_len == 10: return '313340' + NR_Cell_ID_dec\n",
    "    elif NR_Cell_ID_dec_len == 9: return '313340' + '0' + NR_Cell_ID_dec\n",
    "    elif NR_Cell_ID_dec_len == 8: return '313340' + '00' + NR_Cell_ID_dec\n",
    "    elif NR_Cell_ID_dec_len == 7: return '313340' + '000' + NR_Cell_ID_dec\n",
    "    elif NR_Cell_ID_dec_len == 6: return '313340' + '0000' + NR_Cell_ID_dec\n",
    "    elif NR_Cell_ID_dec_len == 5: return '313340' + '00000' + NR_Cell_ID_dec\n",
    "    elif NR_Cell_ID_dec_len == 4: return '313340' + '000000' + NR_Cell_ID_dec\n",
    "    elif NR_Cell_ID_dec_len == 3: return '313340' + '0000000' + NR_Cell_ID_dec\n",
    "    elif NR_Cell_ID_dec_len == 2: return '313340' + '00000000' + NR_Cell_ID_dec\n",
    "    elif NR_Cell_ID_dec_len == 1: return '313340' + '000000000' + NR_Cell_ID_dec\n",
    "    else: return 'error'"
   ]
  },
  {
   "attachments": {},
   "cell_type": "markdown",
   "metadata": {
    "id": "4uI8vTmC5w1F"
   },
   "source": [
    "## Load files"
   ]
  },
  {
   "cell_type": "code",
   "execution_count": null,
   "metadata": {},
   "outputs": [],
   "source": [
    "# Especify the path to the file\n",
    "path_to_n1_acdm = 'C:/Users/alvaro.mendoza/Desktop/N1 ACDM Export/20220825113059.csv'\n",
    "path_to_n1_rfciq = 'C:/Users/alvaro.mendoza/Desktop/N1 RF CIQ_Table/20220825121623.csv'"
   ]
  },
  {
   "cell_type": "code",
   "execution_count": 59,
   "metadata": {},
   "outputs": [],
   "source": [
    "df_n1_acdm = open_file(path_to_n1_acdm)\n",
    "df_n1_rfciq = open_file(path_to_n1_rfciq)\n",
    "\n",
    "n1_acdm_col = ['NR Cell ID', 'Cell Site Common Name', 'Cell Name'] # 20220825113059\n",
    "n1_rfciq_col = ['NR Cell ID','Site ID', 'TX ID'] # 20220825121623\n",
    "\n",
    "df_n1_acdm = df_n1_acdm[n1_acdm_col]\n",
    "df_n1_rfciq = df_n1_rfciq[n1_rfciq_col]\n",
    "\n",
    "df_n1_acdm = df_n1_acdm.sort_values(by=['Cell Site Common Name', 'Cell Name'], ignore_index=True)\n",
    "df_n1_rfciq = df_n1_rfciq.sort_values(by=['Site ID', 'TX ID'], ignore_index=True)\n",
    "\n",
    "df_n1_acdm = df_n1_acdm.dropna(subset=['NR Cell ID'])\n",
    "df_n1_rfciq = df_n1_rfciq.dropna(subset=['NR Cell ID'])\n",
    "\n",
    "df_n1_acdm = df_n1_acdm.drop_duplicates(subset=['NR Cell ID'], keep='first')\n",
    "df_n1_rfciq = df_n1_rfciq.drop_duplicates(subset=['NR Cell ID'], keep='first')\n",
    "\n",
    "df_n1_acdm['NR Cell ID'] = df_n1_acdm['NR Cell ID'].astype(str)\n",
    "df_n1_rfciq['NR Cell ID'] = df_n1_rfciq['NR Cell ID'].astype(str)"
   ]
  },
  {
   "cell_type": "code",
   "execution_count": 60,
   "metadata": {},
   "outputs": [
    {
     "data": {
      "text/html": [
       "<div>\n",
       "<style scoped>\n",
       "    .dataframe tbody tr th:only-of-type {\n",
       "        vertical-align: middle;\n",
       "    }\n",
       "\n",
       "    .dataframe tbody tr th {\n",
       "        vertical-align: top;\n",
       "    }\n",
       "\n",
       "    .dataframe thead th {\n",
       "        text-align: right;\n",
       "    }\n",
       "</style>\n",
       "<table border=\"1\" class=\"dataframe\">\n",
       "  <thead>\n",
       "    <tr style=\"text-align: right;\">\n",
       "      <th></th>\n",
       "      <th>NR Cell ID</th>\n",
       "      <th>Cell Site Common Name</th>\n",
       "      <th>Cell Name</th>\n",
       "    </tr>\n",
       "  </thead>\n",
       "  <tbody>\n",
       "    <tr>\n",
       "      <th>0</th>\n",
       "      <td>04BEDD003</td>\n",
       "      <td>ALALB00003A</td>\n",
       "      <td>ALALB00003A_n29_E_DL_1</td>\n",
       "    </tr>\n",
       "    <tr>\n",
       "      <th>1</th>\n",
       "      <td>04BEDD004</td>\n",
       "      <td>ALALB00003A</td>\n",
       "      <td>ALALB00003A_n29_E_DL_2</td>\n",
       "    </tr>\n",
       "    <tr>\n",
       "      <th>2</th>\n",
       "      <td>04BEDD005</td>\n",
       "      <td>ALALB00003A</td>\n",
       "      <td>ALALB00003A_n29_E_DL_3</td>\n",
       "    </tr>\n",
       "    <tr>\n",
       "      <th>3</th>\n",
       "      <td>04BEDD009</td>\n",
       "      <td>ALALB00003A</td>\n",
       "      <td>ALALB00003A_n66_AWS-4_DL_1</td>\n",
       "    </tr>\n",
       "    <tr>\n",
       "      <th>4</th>\n",
       "      <td>04BEDD00A</td>\n",
       "      <td>ALALB00003A</td>\n",
       "      <td>ALALB00003A_n66_AWS-4_DL_2</td>\n",
       "    </tr>\n",
       "  </tbody>\n",
       "</table>\n",
       "</div>"
      ],
      "text/plain": [
       "  NR Cell ID Cell Site Common Name                   Cell Name\n",
       "0  04BEDD003           ALALB00003A      ALALB00003A_n29_E_DL_1\n",
       "1  04BEDD004           ALALB00003A      ALALB00003A_n29_E_DL_2\n",
       "2  04BEDD005           ALALB00003A      ALALB00003A_n29_E_DL_3\n",
       "3  04BEDD009           ALALB00003A  ALALB00003A_n66_AWS-4_DL_1\n",
       "4  04BEDD00A           ALALB00003A  ALALB00003A_n66_AWS-4_DL_2"
      ]
     },
     "execution_count": 60,
     "metadata": {},
     "output_type": "execute_result"
    }
   ],
   "source": [
    "df_n1_acdm.head()"
   ]
  },
  {
   "cell_type": "code",
   "execution_count": 64,
   "metadata": {},
   "outputs": [
    {
     "data": {
      "text/html": [
       "<div>\n",
       "<style scoped>\n",
       "    .dataframe tbody tr th:only-of-type {\n",
       "        vertical-align: middle;\n",
       "    }\n",
       "\n",
       "    .dataframe tbody tr th {\n",
       "        vertical-align: top;\n",
       "    }\n",
       "\n",
       "    .dataframe thead th {\n",
       "        text-align: right;\n",
       "    }\n",
       "</style>\n",
       "<table border=\"1\" class=\"dataframe\">\n",
       "  <thead>\n",
       "    <tr style=\"text-align: right;\">\n",
       "      <th></th>\n",
       "      <th>NR Cell ID</th>\n",
       "      <th>Cell Site Common Name</th>\n",
       "      <th>Cell Name</th>\n",
       "      <th>NR Cell ID len</th>\n",
       "      <th>NR Cell ID dec</th>\n",
       "      <th>NR Cell ID dec len</th>\n",
       "    </tr>\n",
       "  </thead>\n",
       "  <tbody>\n",
       "    <tr>\n",
       "      <th>0</th>\n",
       "      <td>0x04bedd003</td>\n",
       "      <td>ALALB00003A</td>\n",
       "      <td>ALALB00003A_n29_E_DL_1</td>\n",
       "      <td>9</td>\n",
       "      <td>1273876483</td>\n",
       "      <td>10</td>\n",
       "    </tr>\n",
       "    <tr>\n",
       "      <th>1</th>\n",
       "      <td>0x04bedd004</td>\n",
       "      <td>ALALB00003A</td>\n",
       "      <td>ALALB00003A_n29_E_DL_2</td>\n",
       "      <td>9</td>\n",
       "      <td>1273876484</td>\n",
       "      <td>10</td>\n",
       "    </tr>\n",
       "    <tr>\n",
       "      <th>2</th>\n",
       "      <td>0x04bedd005</td>\n",
       "      <td>ALALB00003A</td>\n",
       "      <td>ALALB00003A_n29_E_DL_3</td>\n",
       "      <td>9</td>\n",
       "      <td>1273876485</td>\n",
       "      <td>10</td>\n",
       "    </tr>\n",
       "    <tr>\n",
       "      <th>3</th>\n",
       "      <td>0x04bedd009</td>\n",
       "      <td>ALALB00003A</td>\n",
       "      <td>ALALB00003A_n66_AWS-4_DL_1</td>\n",
       "      <td>9</td>\n",
       "      <td>1273876489</td>\n",
       "      <td>10</td>\n",
       "    </tr>\n",
       "    <tr>\n",
       "      <th>4</th>\n",
       "      <td>0x04bedd00a</td>\n",
       "      <td>ALALB00003A</td>\n",
       "      <td>ALALB00003A_n66_AWS-4_DL_2</td>\n",
       "      <td>9</td>\n",
       "      <td>1273876490</td>\n",
       "      <td>10</td>\n",
       "    </tr>\n",
       "    <tr>\n",
       "      <th>...</th>\n",
       "      <td>...</td>\n",
       "      <td>...</td>\n",
       "      <td>...</td>\n",
       "      <td>...</td>\n",
       "      <td>...</td>\n",
       "      <td>...</td>\n",
       "    </tr>\n",
       "    <tr>\n",
       "      <th>250224</th>\n",
       "      <td>0x069b8711e</td>\n",
       "      <td>SYSYR00553A</td>\n",
       "      <td>SYSYR00553A_n70_AWS-4_UL15_2</td>\n",
       "      <td>9</td>\n",
       "      <td>1773695262</td>\n",
       "      <td>10</td>\n",
       "    </tr>\n",
       "    <tr>\n",
       "      <th>250225</th>\n",
       "      <td>0x069b8711f</td>\n",
       "      <td>SYSYR00553A</td>\n",
       "      <td>SYSYR00553A_n70_AWS-4_UL15_3</td>\n",
       "      <td>9</td>\n",
       "      <td>1773695263</td>\n",
       "      <td>10</td>\n",
       "    </tr>\n",
       "    <tr>\n",
       "      <th>250226</th>\n",
       "      <td>0x069b87117</td>\n",
       "      <td>SYSYR00553A</td>\n",
       "      <td>SYSYR00553A_n71_F-G_1</td>\n",
       "      <td>9</td>\n",
       "      <td>1773695255</td>\n",
       "      <td>10</td>\n",
       "    </tr>\n",
       "    <tr>\n",
       "      <th>250227</th>\n",
       "      <td>0x069b87118</td>\n",
       "      <td>SYSYR00553A</td>\n",
       "      <td>SYSYR00553A_n71_F-G_2</td>\n",
       "      <td>9</td>\n",
       "      <td>1773695256</td>\n",
       "      <td>10</td>\n",
       "    </tr>\n",
       "    <tr>\n",
       "      <th>250228</th>\n",
       "      <td>0x069b87119</td>\n",
       "      <td>SYSYR00553A</td>\n",
       "      <td>SYSYR00553A_n71_F-G_3</td>\n",
       "      <td>9</td>\n",
       "      <td>1773695257</td>\n",
       "      <td>10</td>\n",
       "    </tr>\n",
       "  </tbody>\n",
       "</table>\n",
       "<p>206484 rows × 6 columns</p>\n",
       "</div>"
      ],
      "text/plain": [
       "         NR Cell ID Cell Site Common Name                     Cell Name  \\\n",
       "0       0x04bedd003           ALALB00003A        ALALB00003A_n29_E_DL_1   \n",
       "1       0x04bedd004           ALALB00003A        ALALB00003A_n29_E_DL_2   \n",
       "2       0x04bedd005           ALALB00003A        ALALB00003A_n29_E_DL_3   \n",
       "3       0x04bedd009           ALALB00003A    ALALB00003A_n66_AWS-4_DL_1   \n",
       "4       0x04bedd00a           ALALB00003A    ALALB00003A_n66_AWS-4_DL_2   \n",
       "...             ...                   ...                           ...   \n",
       "250224  0x069b8711e           SYSYR00553A  SYSYR00553A_n70_AWS-4_UL15_2   \n",
       "250225  0x069b8711f           SYSYR00553A  SYSYR00553A_n70_AWS-4_UL15_3   \n",
       "250226  0x069b87117           SYSYR00553A         SYSYR00553A_n71_F-G_1   \n",
       "250227  0x069b87118           SYSYR00553A         SYSYR00553A_n71_F-G_2   \n",
       "250228  0x069b87119           SYSYR00553A         SYSYR00553A_n71_F-G_3   \n",
       "\n",
       "        NR Cell ID len NR Cell ID dec  NR Cell ID dec len  \n",
       "0                    9     1273876483                  10  \n",
       "1                    9     1273876484                  10  \n",
       "2                    9     1273876485                  10  \n",
       "3                    9     1273876489                  10  \n",
       "4                    9     1273876490                  10  \n",
       "...                ...            ...                 ...  \n",
       "250224               9     1773695262                  10  \n",
       "250225               9     1773695263                  10  \n",
       "250226               9     1773695255                  10  \n",
       "250227               9     1773695256                  10  \n",
       "250228               9     1773695257                  10  \n",
       "\n",
       "[206484 rows x 6 columns]"
      ]
     },
     "execution_count": 64,
     "metadata": {},
     "output_type": "execute_result"
    }
   ],
   "source": [
    "#old approach\n",
    "#df_n1_acdm['NR Cell ID len'] = df_n1_acdm['NR Cell ID'].apply(len)\n",
    "#df_n1_acdm = df_n1_acdm[df_n1_acdm['NR Cell ID len'] == 9]\n",
    "#df_n1_acdm['NR Cell ID'] = df_n1_acdm['NR Cell ID'].str.lower()\n",
    "#df_n1_acdm['KEY'] = df_n1_acdm['Cell Name'] + '_' + df_n1_acdm['NR Cell ID']\n",
    "#df_n1_acdm = df_n1_acdm.drop_duplicates(subset=['KEY'], keep='first')\n",
    "\n",
    "#df_n1_acdm['NR CGI hex'] = '0x133304' + df_n1_acdm['NR Cell ID']\n",
    "#df_n1_acdm['NR CGI hex'] = df_n1_acdm['NR CGI hex'].astype(str)\n",
    "#df_n1_acdm['NR CGI dec'] = df_n1_acdm['NR CGI hex'].apply(int, base=16)\n",
    "#df_n1_acdm\n",
    "\n",
    "#new approach\n",
    "df_n1_acdm['NR Cell ID len'] = df_n1_acdm['NR Cell ID'].apply(len)\n",
    "df_n1_acdm['NR Cell ID'] = df_n1_acdm['NR Cell ID'].str.lower()\n",
    "df_n1_acdm['NR Cell ID'] = '0x' + df_n1_acdm['NR Cell ID']\n",
    "df_n1_acdm['NR Cell ID dec'] = df_n1_acdm['NR Cell ID'].apply(int, base=16)\n",
    "df_n1_acdm['NR Cell ID dec'] = df_n1_acdm['NR Cell ID dec'].astype(str)\n",
    "df_n1_acdm['NR Cell ID dec len'] = df_n1_acdm['NR Cell ID dec'].apply(len)\n",
    "df_n1_acdm"
   ]
  },
  {
   "cell_type": "code",
   "execution_count": 65,
   "metadata": {},
   "outputs": [
    {
     "data": {
      "text/plain": [
       "array([ 9, 10], dtype=int64)"
      ]
     },
     "execution_count": 65,
     "metadata": {},
     "output_type": "execute_result"
    }
   ],
   "source": [
    "df_n1_acdm[\"NR Cell ID len\"].unique()"
   ]
  },
  {
   "cell_type": "code",
   "execution_count": 66,
   "metadata": {},
   "outputs": [
    {
     "data": {
      "text/plain": [
       "array([10,  9], dtype=int64)"
      ]
     },
     "execution_count": 66,
     "metadata": {},
     "output_type": "execute_result"
    }
   ],
   "source": [
    "df_n1_acdm[\"NR Cell ID dec len\"].unique()"
   ]
  },
  {
   "cell_type": "code",
   "execution_count": 67,
   "metadata": {},
   "outputs": [],
   "source": [
    "# let suppouse should be mcc+mnc+cell_id => 3+3+10=16\n",
    "# => Drop any cell_id greather than 10\n",
    "# => For cell_id lenght less than 10, add 0 to complete 10"
   ]
  },
  {
   "cell_type": "code",
   "execution_count": 68,
   "metadata": {},
   "outputs": [
    {
     "data": {
      "text/html": [
       "<div>\n",
       "<style scoped>\n",
       "    .dataframe tbody tr th:only-of-type {\n",
       "        vertical-align: middle;\n",
       "    }\n",
       "\n",
       "    .dataframe tbody tr th {\n",
       "        vertical-align: top;\n",
       "    }\n",
       "\n",
       "    .dataframe thead th {\n",
       "        text-align: right;\n",
       "    }\n",
       "</style>\n",
       "<table border=\"1\" class=\"dataframe\">\n",
       "  <thead>\n",
       "    <tr style=\"text-align: right;\">\n",
       "      <th></th>\n",
       "      <th>NR Cell ID</th>\n",
       "      <th>Cell Site Common Name</th>\n",
       "      <th>Cell Name</th>\n",
       "      <th>NR Cell ID len</th>\n",
       "      <th>NR Cell ID dec</th>\n",
       "      <th>NR Cell ID dec len</th>\n",
       "      <th>NR CGI dec</th>\n",
       "    </tr>\n",
       "  </thead>\n",
       "  <tbody>\n",
       "    <tr>\n",
       "      <th>0</th>\n",
       "      <td>0x04bedd003</td>\n",
       "      <td>ALALB00003A</td>\n",
       "      <td>ALALB00003A_n29_E_DL_1</td>\n",
       "      <td>9</td>\n",
       "      <td>1273876483</td>\n",
       "      <td>10</td>\n",
       "      <td>3133401273876483</td>\n",
       "    </tr>\n",
       "    <tr>\n",
       "      <th>1</th>\n",
       "      <td>0x04bedd004</td>\n",
       "      <td>ALALB00003A</td>\n",
       "      <td>ALALB00003A_n29_E_DL_2</td>\n",
       "      <td>9</td>\n",
       "      <td>1273876484</td>\n",
       "      <td>10</td>\n",
       "      <td>3133401273876484</td>\n",
       "    </tr>\n",
       "    <tr>\n",
       "      <th>2</th>\n",
       "      <td>0x04bedd005</td>\n",
       "      <td>ALALB00003A</td>\n",
       "      <td>ALALB00003A_n29_E_DL_3</td>\n",
       "      <td>9</td>\n",
       "      <td>1273876485</td>\n",
       "      <td>10</td>\n",
       "      <td>3133401273876485</td>\n",
       "    </tr>\n",
       "    <tr>\n",
       "      <th>3</th>\n",
       "      <td>0x04bedd009</td>\n",
       "      <td>ALALB00003A</td>\n",
       "      <td>ALALB00003A_n66_AWS-4_DL_1</td>\n",
       "      <td>9</td>\n",
       "      <td>1273876489</td>\n",
       "      <td>10</td>\n",
       "      <td>3133401273876489</td>\n",
       "    </tr>\n",
       "    <tr>\n",
       "      <th>4</th>\n",
       "      <td>0x04bedd00a</td>\n",
       "      <td>ALALB00003A</td>\n",
       "      <td>ALALB00003A_n66_AWS-4_DL_2</td>\n",
       "      <td>9</td>\n",
       "      <td>1273876490</td>\n",
       "      <td>10</td>\n",
       "      <td>3133401273876490</td>\n",
       "    </tr>\n",
       "    <tr>\n",
       "      <th>...</th>\n",
       "      <td>...</td>\n",
       "      <td>...</td>\n",
       "      <td>...</td>\n",
       "      <td>...</td>\n",
       "      <td>...</td>\n",
       "      <td>...</td>\n",
       "      <td>...</td>\n",
       "    </tr>\n",
       "    <tr>\n",
       "      <th>250224</th>\n",
       "      <td>0x069b8711e</td>\n",
       "      <td>SYSYR00553A</td>\n",
       "      <td>SYSYR00553A_n70_AWS-4_UL15_2</td>\n",
       "      <td>9</td>\n",
       "      <td>1773695262</td>\n",
       "      <td>10</td>\n",
       "      <td>3133401773695262</td>\n",
       "    </tr>\n",
       "    <tr>\n",
       "      <th>250225</th>\n",
       "      <td>0x069b8711f</td>\n",
       "      <td>SYSYR00553A</td>\n",
       "      <td>SYSYR00553A_n70_AWS-4_UL15_3</td>\n",
       "      <td>9</td>\n",
       "      <td>1773695263</td>\n",
       "      <td>10</td>\n",
       "      <td>3133401773695263</td>\n",
       "    </tr>\n",
       "    <tr>\n",
       "      <th>250226</th>\n",
       "      <td>0x069b87117</td>\n",
       "      <td>SYSYR00553A</td>\n",
       "      <td>SYSYR00553A_n71_F-G_1</td>\n",
       "      <td>9</td>\n",
       "      <td>1773695255</td>\n",
       "      <td>10</td>\n",
       "      <td>3133401773695255</td>\n",
       "    </tr>\n",
       "    <tr>\n",
       "      <th>250227</th>\n",
       "      <td>0x069b87118</td>\n",
       "      <td>SYSYR00553A</td>\n",
       "      <td>SYSYR00553A_n71_F-G_2</td>\n",
       "      <td>9</td>\n",
       "      <td>1773695256</td>\n",
       "      <td>10</td>\n",
       "      <td>3133401773695256</td>\n",
       "    </tr>\n",
       "    <tr>\n",
       "      <th>250228</th>\n",
       "      <td>0x069b87119</td>\n",
       "      <td>SYSYR00553A</td>\n",
       "      <td>SYSYR00553A_n71_F-G_3</td>\n",
       "      <td>9</td>\n",
       "      <td>1773695257</td>\n",
       "      <td>10</td>\n",
       "      <td>3133401773695257</td>\n",
       "    </tr>\n",
       "  </tbody>\n",
       "</table>\n",
       "<p>206484 rows × 7 columns</p>\n",
       "</div>"
      ],
      "text/plain": [
       "         NR Cell ID Cell Site Common Name                     Cell Name  \\\n",
       "0       0x04bedd003           ALALB00003A        ALALB00003A_n29_E_DL_1   \n",
       "1       0x04bedd004           ALALB00003A        ALALB00003A_n29_E_DL_2   \n",
       "2       0x04bedd005           ALALB00003A        ALALB00003A_n29_E_DL_3   \n",
       "3       0x04bedd009           ALALB00003A    ALALB00003A_n66_AWS-4_DL_1   \n",
       "4       0x04bedd00a           ALALB00003A    ALALB00003A_n66_AWS-4_DL_2   \n",
       "...             ...                   ...                           ...   \n",
       "250224  0x069b8711e           SYSYR00553A  SYSYR00553A_n70_AWS-4_UL15_2   \n",
       "250225  0x069b8711f           SYSYR00553A  SYSYR00553A_n70_AWS-4_UL15_3   \n",
       "250226  0x069b87117           SYSYR00553A         SYSYR00553A_n71_F-G_1   \n",
       "250227  0x069b87118           SYSYR00553A         SYSYR00553A_n71_F-G_2   \n",
       "250228  0x069b87119           SYSYR00553A         SYSYR00553A_n71_F-G_3   \n",
       "\n",
       "        NR Cell ID len NR Cell ID dec  NR Cell ID dec len        NR CGI dec  \n",
       "0                    9     1273876483                  10  3133401273876483  \n",
       "1                    9     1273876484                  10  3133401273876484  \n",
       "2                    9     1273876485                  10  3133401273876485  \n",
       "3                    9     1273876489                  10  3133401273876489  \n",
       "4                    9     1273876490                  10  3133401273876490  \n",
       "...                ...            ...                 ...               ...  \n",
       "250224               9     1773695262                  10  3133401773695262  \n",
       "250225               9     1773695263                  10  3133401773695263  \n",
       "250226               9     1773695255                  10  3133401773695255  \n",
       "250227               9     1773695256                  10  3133401773695256  \n",
       "250228               9     1773695257                  10  3133401773695257  \n",
       "\n",
       "[206484 rows x 7 columns]"
      ]
     },
     "execution_count": 68,
     "metadata": {},
     "output_type": "execute_result"
    }
   ],
   "source": [
    "df_n1_acdm['NR CGI dec'] = df_n1_acdm.apply(lambda x: padding(x['NR Cell ID dec'], x['NR Cell ID dec len']), axis = 1)\n",
    "df_n1_acdm"
   ]
  },
  {
   "cell_type": "code",
   "execution_count": 69,
   "metadata": {},
   "outputs": [],
   "source": [
    "# Set name and path for the exported file\n",
    "today_date = datetime.today().strftime('%Y-%m-%d')\n",
    "today_date = today_date.replace('-', '')\n",
    "\n",
    "file_name_acdm = today_date + ' - 20220825113059_v2' + '.xlsx'\n",
    "export_path_acdm = 'C:/Users/alvaro.mendoza/Desktop/N1 ACDM Export/'\n",
    "file_exp_path_acdm = export_path_acdm + file_name_acdm\n",
    "\n",
    "file_name_rfciq = today_date + ' - 20220825121623_v2' + '.xlsx'\n",
    "export_path_rfciq = 'C:/Users/alvaro.mendoza/Desktop/N1 RF CIQ_Table/'\n",
    "file_exp_path_rfciq = export_path_rfciq + file_name_rfciq\n"
   ]
  },
  {
   "cell_type": "code",
   "execution_count": 70,
   "metadata": {},
   "outputs": [],
   "source": [
    "export_to_xlsx(file_exp_path_acdm, df_n1_acdm)"
   ]
  },
  {
   "cell_type": "code",
   "execution_count": 146,
   "metadata": {},
   "outputs": [],
   "source": [
    "export_to_xlsx(file_exp_path_rfciq, df_n1_rfciq)"
   ]
  },
  {
   "cell_type": "code",
   "execution_count": null,
   "metadata": {},
   "outputs": [],
   "source": [
    "# TX ID and Cell Name will be the KEY\n",
    "1 drop all samples without NR_CellID\n",
    "3059 => 206975 samples\n",
    "1623 => 303136 samples\n",
    "2 drop all unused columns\n",
    "3 hex2dec the NR_CellID if needed\n",
    "4 columns homogenization (cell_name and site_name)\n",
    "5 create the nRCGI as Martin said\n",
    "5 create new key => cell_name+NR_CellID_dec"
   ]
  },
  {
   "cell_type": "code",
   "execution_count": null,
   "metadata": {},
   "outputs": [],
   "source": [
    "What I saw\n",
    "1) the files have different cell_name (some of them are the same, but just few)\n",
    "2) there are NR_CellID missing => we should drop them as they are part of the nRCGI\n",
    "3) we can generate the nRCGI just with the NR_CellID (mnc and mcc we already know)\n",
    "4) then we can \"combine\" the two files and remove duplicates and do the vlookup\n"
   ]
  },
  {
   "cell_type": "code",
   "execution_count": null,
   "metadata": {},
   "outputs": [],
   "source": [
    "20220825121623\n",
    "Steps\n",
    "delete all columns except Site ID, TX ID (actully Cell Name) and NR Cell ID\n",
    "Dish Network is MCC = 313 + MNC = 340 allways\n",
    "\n",
    "\n",
    "20220825113059\n",
    "Steps\n",
    "delete all columns except Site ID, Cell Name) and NR Cell ID\n",
    "Dish Network is MCC = 313 + MNC = 340 allways\n",
    "\n",
    "re-arrange both of them\n",
    "\n"
   ]
  },
  {
   "cell_type": "code",
   "execution_count": null,
   "metadata": {},
   "outputs": [],
   "source": []
  },
  {
   "cell_type": "code",
   "execution_count": null,
   "metadata": {},
   "outputs": [],
   "source": []
  },
  {
   "cell_type": "code",
   "execution_count": null,
   "metadata": {},
   "outputs": [],
   "source": []
  }
 ],
 "metadata": {
  "colab": {
   "name": "Change LAC MSS Ericsson.ipynb",
   "provenance": []
  },
  "kernelspec": {
   "display_name": "base",
   "language": "python",
   "name": "python3"
  },
  "language_info": {
   "codemirror_mode": {
    "name": "ipython",
    "version": 3
   },
   "file_extension": ".py",
   "mimetype": "text/x-python",
   "name": "python",
   "nbconvert_exporter": "python",
   "pygments_lexer": "ipython3",
   "version": "3.9.13"
  },
  "vscode": {
   "interpreter": {
    "hash": "51371cbe4db7ee16d34c94b091650ddddb71734ea270764e9bc0ad10fdab06ff"
   }
  }
 },
 "nbformat": 4,
 "nbformat_minor": 4
}
