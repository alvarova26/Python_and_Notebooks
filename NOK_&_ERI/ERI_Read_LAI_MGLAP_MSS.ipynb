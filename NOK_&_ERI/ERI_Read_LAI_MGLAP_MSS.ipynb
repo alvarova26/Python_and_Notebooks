{
 "cells": [
  {
   "cell_type": "markdown",
   "metadata": {},
   "source": [
    "# ALL LACs of ALL MSSs"
   ]
  },
  {
   "cell_type": "markdown",
   "metadata": {},
   "source": [
    "## Import Modules"
   ]
  },
  {
   "cell_type": "code",
   "execution_count": 67,
   "metadata": {
    "scrolled": true
   },
   "outputs": [
    {
     "name": "stdout",
     "output_type": "stream",
     "text": [
      "The autoreload extension is already loaded. To reload it, use:\n",
      "  %reload_ext autoreload\n"
     ]
    }
   ],
   "source": [
    "# Import modules (NOK_Toolkit) & others that will be needed along the program\n",
    "import pandas as pd\n",
    "import numpy as np\n",
    "from matplotlib import pyplot as plt\n",
    "import seaborn as sns\n",
    "import NOK_ERI_Toolkit as NOK_ERI_Toolkit\n",
    "\n",
    "%matplotlib inline\n",
    "%load_ext autoreload\n",
    "%autoreload 2"
   ]
  },
  {
   "cell_type": "markdown",
   "metadata": {},
   "source": [
    "## Main Program"
   ]
  },
  {
   "cell_type": "markdown",
   "metadata": {},
   "source": [
    "### Initialize variables"
   ]
  },
  {
   "cell_type": "code",
   "execution_count": 68,
   "metadata": {},
   "outputs": [],
   "source": [
    "# Initialize variables used in the program \n",
    "MSS_Name = '0'\n",
    "MSS_Date = '0'\n",
    "MSS_Time = '0'\n",
    "LAC_MCC = '0'\n",
    "LAC_MNC = '0'\n",
    "LAC_NO = '0'\n",
    "LAC_LAI = '0'\n",
    "LAC_PFC = '0'\n",
    "LAC_PRL = '0'\n",
    "LAC_POOL = '0'\n",
    "\n",
    "ERI_MSS_Pars = [MSS_Name, MSS_Date, MSS_Time]\n",
    "ERI_LAC_Pars = [LAC_MCC, LAC_MNC, LAC_NO, LAC_LAI, LAC_PFC, LAC_PRL, LAC_POOL]\n",
    "\n",
    "ERI_index = 0\n",
    "ERI_position = 0\n",
    "ERI_LAC_count = 0"
   ]
  },
  {
   "cell_type": "code",
   "execution_count": 69,
   "metadata": {},
   "outputs": [],
   "source": [
    "# Create & Initialize & Set the pd.DataFrame\n",
    "col_names = ['MSS','Date','Time','MCC','MNC','LAC_str','LAC_NAME','PFC','PRL','POOL']\n",
    "df_ERI_MSS_LACs = pd.DataFrame(columns=col_names)\n",
    "df_ERI_MSS_LACs.loc[0] = [MSS_Name, MSS_Date, MSS_Time, LAC_MCC, LAC_MNC, LAC_NO, LAC_LAI, LAC_PFC, LAC_PRL, LAC_POOL]"
   ]
  },
  {
   "cell_type": "code",
   "execution_count": 70,
   "metadata": {},
   "outputs": [],
   "source": [
    "# Especify the path of the log file\n",
    "ERI_path_to_file = 'C:/Users/Alvaro/OneDrive/My Files/_Scripts_Models/Commands Generators Logs/20220204 - MSSBAxERICC - MGLAP.txt'"
   ]
  },
  {
   "cell_type": "markdown",
   "metadata": {},
   "source": [
    "### Load log file"
   ]
  },
  {
   "cell_type": "code",
   "execution_count": 71,
   "metadata": {},
   "outputs": [],
   "source": [
    "# Load the log ERI_path_to_file\n",
    "ERI_log_file = NOK_ERI_Toolkit.open_file(ERI_path_to_file)"
   ]
  },
  {
   "cell_type": "markdown",
   "metadata": {},
   "source": [
    "### Execute & Create pd.DataFrame & Pring (Main Function)"
   ]
  },
  {
   "cell_type": "code",
   "execution_count": 72,
   "metadata": {},
   "outputs": [],
   "source": [
    "# Run the main program (txt => pd.DataFrame)\n",
    "while (ERI_index < len(ERI_log_file)-1):\n",
    "    ERI_index, ERI_position, ERI_MSS_Pars = NOK_ERI_Toolkit.get_mss_pars(ERI_log_file, ERI_index,'eaw')\n",
    "    if (ERI_position >= 0) and (not ERI_position == 999) and (not ERI_position == 998):\n",
    "        ERI_index, ERI_position, ERI_LAC_Pars = NOK_ERI_Toolkit.get_mglap_lac_pars(ERI_log_file, ERI_index)\n",
    "        while(ERI_position >= 0) and (not ERI_position == 999) and (not ERI_position == 998):\n",
    "            RI_index, ERI_position, ERI_LAC_Pars = NOK_ERI_Toolkit.get_mglap_lac_pars(ERI_log_file, ERI_index)\n",
    "            if(ERI_position >= 0) and (not ERI_position == 999) and (not ERI_position == 998):\n",
    "                new_LAC = ERI_MSS_Pars + ERI_LAC_Pars\n",
    "                df_ERI_MSS_LACs.loc[ERI_LAC_count] = new_LAC\n",
    "                ERI_LAC_count = ERI_LAC_count + 1\n",
    "            ERI_index = ERI_index + 1\n",
    "    ERI_index = ERI_index + 1"
   ]
  },
  {
   "cell_type": "markdown",
   "metadata": {},
   "source": [
    "### Drop columns & prepare to merge"
   ]
  },
  {
   "cell_type": "code",
   "execution_count": 73,
   "metadata": {},
   "outputs": [
    {
     "data": {
      "text/html": [
       "<div>\n",
       "<style scoped>\n",
       "    .dataframe tbody tr th:only-of-type {\n",
       "        vertical-align: middle;\n",
       "    }\n",
       "\n",
       "    .dataframe tbody tr th {\n",
       "        vertical-align: top;\n",
       "    }\n",
       "\n",
       "    .dataframe thead th {\n",
       "        text-align: right;\n",
       "    }\n",
       "</style>\n",
       "<table border=\"1\" class=\"dataframe\">\n",
       "  <thead>\n",
       "    <tr style=\"text-align: right;\">\n",
       "      <th></th>\n",
       "      <th>MSS</th>\n",
       "      <th>Date</th>\n",
       "      <th>Time</th>\n",
       "      <th>MCC</th>\n",
       "      <th>MNC</th>\n",
       "      <th>LAC_str</th>\n",
       "      <th>LAC_NAME</th>\n",
       "      <th>PFC</th>\n",
       "      <th>PRL</th>\n",
       "      <th>POOL</th>\n",
       "      <th>LAC_int</th>\n",
       "      <th>LAI</th>\n",
       "      <th>NE-LAI</th>\n",
       "    </tr>\n",
       "  </thead>\n",
       "  <tbody>\n",
       "    <tr>\n",
       "      <th>0</th>\n",
       "      <td>MSSBA3</td>\n",
       "      <td>0000-00-00</td>\n",
       "      <td>00:00:00</td>\n",
       "      <td>724</td>\n",
       "      <td>05</td>\n",
       "      <td>973</td>\n",
       "      <td>724-05-973</td>\n",
       "      <td>ON</td>\n",
       "      <td>0</td>\n",
       "      <td>0</td>\n",
       "      <td>973</td>\n",
       "      <td>724-05-973</td>\n",
       "      <td>MSSBA3-724-05-973</td>\n",
       "    </tr>\n",
       "    <tr>\n",
       "      <th>1</th>\n",
       "      <td>MSSBA3</td>\n",
       "      <td>0000-00-00</td>\n",
       "      <td>00:00:00</td>\n",
       "      <td>724</td>\n",
       "      <td>05</td>\n",
       "      <td>20273</td>\n",
       "      <td>724-05-20273</td>\n",
       "      <td>ON</td>\n",
       "      <td>0</td>\n",
       "      <td>0</td>\n",
       "      <td>20273</td>\n",
       "      <td>724-05-20273</td>\n",
       "      <td>MSSBA3-724-05-20273</td>\n",
       "    </tr>\n",
       "    <tr>\n",
       "      <th>2</th>\n",
       "      <td>MSSBA3</td>\n",
       "      <td>0000-00-00</td>\n",
       "      <td>00:00:00</td>\n",
       "      <td>724</td>\n",
       "      <td>05</td>\n",
       "      <td>30171</td>\n",
       "      <td>724-05-30171</td>\n",
       "      <td>ON</td>\n",
       "      <td>0</td>\n",
       "      <td>0</td>\n",
       "      <td>30171</td>\n",
       "      <td>724-05-30171</td>\n",
       "      <td>MSSBA3-724-05-30171</td>\n",
       "    </tr>\n",
       "    <tr>\n",
       "      <th>3</th>\n",
       "      <td>MSSBA3</td>\n",
       "      <td>0000-00-00</td>\n",
       "      <td>00:00:00</td>\n",
       "      <td>724</td>\n",
       "      <td>05</td>\n",
       "      <td>30173</td>\n",
       "      <td>724-05-30173</td>\n",
       "      <td>ON</td>\n",
       "      <td>0</td>\n",
       "      <td>0</td>\n",
       "      <td>30173</td>\n",
       "      <td>724-05-30173</td>\n",
       "      <td>MSSBA3-724-05-30173</td>\n",
       "    </tr>\n",
       "    <tr>\n",
       "      <th>4</th>\n",
       "      <td>MSSBA3</td>\n",
       "      <td>0000-00-00</td>\n",
       "      <td>00:00:00</td>\n",
       "      <td>724</td>\n",
       "      <td>05</td>\n",
       "      <td>30174</td>\n",
       "      <td>724-05-30174</td>\n",
       "      <td>ON</td>\n",
       "      <td>0</td>\n",
       "      <td>0</td>\n",
       "      <td>30174</td>\n",
       "      <td>724-05-30174</td>\n",
       "      <td>MSSBA3-724-05-30174</td>\n",
       "    </tr>\n",
       "    <tr>\n",
       "      <th>...</th>\n",
       "      <td>...</td>\n",
       "      <td>...</td>\n",
       "      <td>...</td>\n",
       "      <td>...</td>\n",
       "      <td>...</td>\n",
       "      <td>...</td>\n",
       "      <td>...</td>\n",
       "      <td>...</td>\n",
       "      <td>...</td>\n",
       "      <td>...</td>\n",
       "      <td>...</td>\n",
       "      <td>...</td>\n",
       "      <td>...</td>\n",
       "    </tr>\n",
       "    <tr>\n",
       "      <th>142</th>\n",
       "      <td>MSSBA8</td>\n",
       "      <td>0000-00-00</td>\n",
       "      <td>00:00:00</td>\n",
       "      <td>724</td>\n",
       "      <td>05</td>\n",
       "      <td>55075</td>\n",
       "      <td>724-05-55075</td>\n",
       "      <td>ON</td>\n",
       "      <td>0</td>\n",
       "      <td>0</td>\n",
       "      <td>55075</td>\n",
       "      <td>724-05-55075</td>\n",
       "      <td>MSSBA8-724-05-55075</td>\n",
       "    </tr>\n",
       "    <tr>\n",
       "      <th>143</th>\n",
       "      <td>MSSBA8</td>\n",
       "      <td>0000-00-00</td>\n",
       "      <td>00:00:00</td>\n",
       "      <td>724</td>\n",
       "      <td>05</td>\n",
       "      <td>55171</td>\n",
       "      <td>724-05-55171</td>\n",
       "      <td>ON</td>\n",
       "      <td>0</td>\n",
       "      <td>0</td>\n",
       "      <td>55171</td>\n",
       "      <td>724-05-55171</td>\n",
       "      <td>MSSBA8-724-05-55171</td>\n",
       "    </tr>\n",
       "    <tr>\n",
       "      <th>144</th>\n",
       "      <td>MSSBA8</td>\n",
       "      <td>0000-00-00</td>\n",
       "      <td>00:00:00</td>\n",
       "      <td>724</td>\n",
       "      <td>05</td>\n",
       "      <td>55173</td>\n",
       "      <td>724-05-55173</td>\n",
       "      <td>ON</td>\n",
       "      <td>0</td>\n",
       "      <td>0</td>\n",
       "      <td>55173</td>\n",
       "      <td>724-05-55173</td>\n",
       "      <td>MSSBA8-724-05-55173</td>\n",
       "    </tr>\n",
       "    <tr>\n",
       "      <th>145</th>\n",
       "      <td>MSSBA8</td>\n",
       "      <td>0000-00-00</td>\n",
       "      <td>00:00:00</td>\n",
       "      <td>724</td>\n",
       "      <td>05</td>\n",
       "      <td>59075</td>\n",
       "      <td>724-05-59075</td>\n",
       "      <td>ON</td>\n",
       "      <td>0</td>\n",
       "      <td>0</td>\n",
       "      <td>59075</td>\n",
       "      <td>724-05-59075</td>\n",
       "      <td>MSSBA8-724-05-59075</td>\n",
       "    </tr>\n",
       "    <tr>\n",
       "      <th>146</th>\n",
       "      <td>MSSBA8</td>\n",
       "      <td>0000-00-00</td>\n",
       "      <td>00:00:00</td>\n",
       "      <td>724</td>\n",
       "      <td>08</td>\n",
       "      <td>40275</td>\n",
       "      <td>724-08-40275</td>\n",
       "      <td>ON</td>\n",
       "      <td>0</td>\n",
       "      <td>0</td>\n",
       "      <td>40275</td>\n",
       "      <td>724-08-40275</td>\n",
       "      <td>MSSBA8-724-08-40275</td>\n",
       "    </tr>\n",
       "  </tbody>\n",
       "</table>\n",
       "<p>147 rows × 13 columns</p>\n",
       "</div>"
      ],
      "text/plain": [
       "        MSS        Date      Time  MCC MNC LAC_str      LAC_NAME PFC PRL POOL  \\\n",
       "0    MSSBA3  0000-00-00  00:00:00  724  05     973    724-05-973  ON   0    0   \n",
       "1    MSSBA3  0000-00-00  00:00:00  724  05   20273  724-05-20273  ON   0    0   \n",
       "2    MSSBA3  0000-00-00  00:00:00  724  05   30171  724-05-30171  ON   0    0   \n",
       "3    MSSBA3  0000-00-00  00:00:00  724  05   30173  724-05-30173  ON   0    0   \n",
       "4    MSSBA3  0000-00-00  00:00:00  724  05   30174  724-05-30174  ON   0    0   \n",
       "..      ...         ...       ...  ...  ..     ...           ...  ..  ..  ...   \n",
       "142  MSSBA8  0000-00-00  00:00:00  724  05   55075  724-05-55075  ON   0    0   \n",
       "143  MSSBA8  0000-00-00  00:00:00  724  05   55171  724-05-55171  ON   0    0   \n",
       "144  MSSBA8  0000-00-00  00:00:00  724  05   55173  724-05-55173  ON   0    0   \n",
       "145  MSSBA8  0000-00-00  00:00:00  724  05   59075  724-05-59075  ON   0    0   \n",
       "146  MSSBA8  0000-00-00  00:00:00  724  08   40275  724-08-40275  ON   0    0   \n",
       "\n",
       "     LAC_int           LAI               NE-LAI  \n",
       "0        973    724-05-973    MSSBA3-724-05-973  \n",
       "1      20273  724-05-20273  MSSBA3-724-05-20273  \n",
       "2      30171  724-05-30171  MSSBA3-724-05-30171  \n",
       "3      30173  724-05-30173  MSSBA3-724-05-30173  \n",
       "4      30174  724-05-30174  MSSBA3-724-05-30174  \n",
       "..       ...           ...                  ...  \n",
       "142    55075  724-05-55075  MSSBA8-724-05-55075  \n",
       "143    55171  724-05-55171  MSSBA8-724-05-55171  \n",
       "144    55173  724-05-55173  MSSBA8-724-05-55173  \n",
       "145    59075  724-05-59075  MSSBA8-724-05-59075  \n",
       "146    40275  724-08-40275  MSSBA8-724-08-40275  \n",
       "\n",
       "[147 rows x 13 columns]"
      ]
     },
     "execution_count": 73,
     "metadata": {},
     "output_type": "execute_result"
    }
   ],
   "source": [
    "# ERICSSON DataFrame => Drop some columns to get just the most important ones.\n",
    "\n",
    "df_ERI_MSS_LAIs = df_ERI_MSS_LACs\n",
    "\n",
    "drop_col = []\n",
    "df_ERI_MSS_LAIs = df_ERI_MSS_LAIs.drop(columns=drop_col)\n",
    "df_ERI_MSS_LAIs['LAC_int'] =  df_ERI_MSS_LAIs['LAC_str'].astype(int)\n",
    "df_ERI_MSS_LAIs['LAI'] =  df_ERI_MSS_LAIs['MCC'] + '-' + df_ERI_MSS_LAIs['MNC'] + '-' + df_ERI_MSS_LAIs['LAC_int'].astype(str)\n",
    "df_ERI_MSS_LAIs['NE-LAI'] =  df_ERI_MSS_LAIs['MSS'] + '-' + df_ERI_MSS_LAIs['LAI']\n",
    "df_ERI_MSS_LAIs"
   ]
  },
  {
   "cell_type": "markdown",
   "metadata": {},
   "source": [
    "### Plot + Insights"
   ]
  },
  {
   "cell_type": "code",
   "execution_count": 74,
   "metadata": {},
   "outputs": [],
   "source": [
    "# Continue..."
   ]
  },
  {
   "cell_type": "code",
   "execution_count": null,
   "metadata": {},
   "outputs": [],
   "source": []
  }
 ],
 "metadata": {
  "kernelspec": {
   "display_name": "Python 3",
   "language": "python",
   "name": "python3"
  },
  "language_info": {
   "codemirror_mode": {
    "name": "ipython",
    "version": 3
   },
   "file_extension": ".py",
   "mimetype": "text/x-python",
   "name": "python",
   "nbconvert_exporter": "python",
   "pygments_lexer": "ipython3",
   "version": "3.8.8"
  }
 },
 "nbformat": 4,
 "nbformat_minor": 4
}
