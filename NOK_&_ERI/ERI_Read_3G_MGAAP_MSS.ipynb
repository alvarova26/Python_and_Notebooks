{
 "cells": [
  {
   "cell_type": "markdown",
   "metadata": {},
   "source": [
    "# ALL 3G CELL of ALL ERICSSON'S MSSs"
   ]
  },
  {
   "cell_type": "markdown",
   "metadata": {},
   "source": [
    "## Import Modules"
   ]
  },
  {
   "cell_type": "code",
   "execution_count": 127,
   "metadata": {
    "scrolled": true
   },
   "outputs": [
    {
     "name": "stdout",
     "output_type": "stream",
     "text": [
      "The autoreload extension is already loaded. To reload it, use:\n",
      "  %reload_ext autoreload\n"
     ]
    }
   ],
   "source": [
    "# Import modules (NOK_ERI_Toolkit) & others that will be needed along the program\n",
    "import pandas as pd\n",
    "import numpy as np\n",
    "from matplotlib import pyplot as plt\n",
    "import seaborn as sns\n",
    "import NOK_ERI_Toolkit as NOK_ERI_Toolkit\n",
    "\n",
    "%matplotlib inline\n",
    "%load_ext autoreload\n",
    "%autoreload 2\n"
   ]
  },
  {
   "cell_type": "markdown",
   "metadata": {},
   "source": [
    "## Main Program"
   ]
  },
  {
   "cell_type": "markdown",
   "metadata": {},
   "source": [
    "### Initialize variables"
   ]
  },
  {
   "cell_type": "code",
   "execution_count": 128,
   "metadata": {},
   "outputs": [],
   "source": [
    "# Initialize NOKIA, ERICSSON & COMMON variables\n",
    "\n",
    "# ERICSSON\n",
    "ERI_MSS_Name = '0'\n",
    "ERI_MSS_Date = '0'\n",
    "ERI_MSS_Time = '0'\n",
    "\n",
    "ERI_AREA_NAME = '0'\n",
    "ERI_AREA_CGI = '0'\n",
    "ERI_AREA_MCC = '0'\n",
    "ERI_AREA_MNC = '0'\n",
    "ERI_AREA_LAC = '0'\n",
    "ERI_AREA_CI = '0'\n",
    "ERI_AREA_RO = '0'\n",
    "ERI_AREA_CO = '0'\n",
    "ERI_AREA_EA = '0'\n",
    "\n",
    "ERI_MSS_Pars = [ERI_MSS_Name, ERI_MSS_Date, ERI_MSS_Time]\n",
    "ERI_AREA_Pars = [ERI_AREA_NAME, ERI_AREA_CGI, ERI_AREA_MCC, ERI_AREA_MNC, ERI_AREA_LAC, ERI_AREA_CI,\n",
    "                    ERI_AREA_RO, ERI_AREA_CO, ERI_AREA_EA]\n",
    "\n",
    "ERI_index = 0\n",
    "ERI_position = 0\n",
    "ERI_SA_count = 0"
   ]
  },
  {
   "cell_type": "code",
   "execution_count": 129,
   "metadata": {},
   "outputs": [],
   "source": [
    "# Create & Initialize & Set the NOKIA & ERICSSON pd.DataFrame\n",
    "\n",
    "# ERICSSON\n",
    "ERI_col_names = ['MSS','Date','Time','Name','CGI','MCC','MNC','LAC','CI','RO','CO','EA']\n",
    "df_ERI_MSS_SAs = pd.DataFrame(columns=ERI_col_names)\n",
    "df_ERI_MSS_SAs.loc[0] = [ERI_MSS_Name, ERI_MSS_Date, ERI_MSS_Time,\n",
    "                            ERI_AREA_NAME, ERI_AREA_CGI, ERI_AREA_MCC, \n",
    "                            ERI_AREA_MNC, ERI_AREA_LAC, ERI_AREA_CI,\n",
    "                            ERI_AREA_RO, ERI_AREA_CO, ERI_AREA_EA]"
   ]
  },
  {
   "cell_type": "code",
   "execution_count": 130,
   "metadata": {},
   "outputs": [],
   "source": [
    "# Especify the path of the NOKIA & ERICSSON log files \n",
    "ERI_path_to_file = 'C:/Users/Alvaro/OneDrive/My Files/_Scripts_Models/Commands Generators Logs/20220204 - MGAAP - All MSS.txt'"
   ]
  },
  {
   "cell_type": "markdown",
   "metadata": {},
   "source": [
    "### Load log file"
   ]
  },
  {
   "cell_type": "code",
   "execution_count": 131,
   "metadata": {},
   "outputs": [],
   "source": [
    "# Load the log file\n",
    "ERI_log_file = NOK_ERI_Toolkit.open_file(ERI_path_to_file)"
   ]
  },
  {
   "cell_type": "markdown",
   "metadata": {},
   "source": [
    "### Execute ERICSSON PROGRAM"
   ]
  },
  {
   "cell_type": "code",
   "execution_count": 132,
   "metadata": {},
   "outputs": [],
   "source": [
    "# Run the main program (txt => pd.DataFrame)\n",
    "while (ERI_index < len(ERI_log_file)-1):\n",
    "    ERI_index, ERI_position, ERI_MSS_Pars = NOK_ERI_Toolkit.get_mss_pars(ERI_log_file, ERI_index,'eaw')\n",
    "    if (ERI_position >= 0) and (not ERI_position == 999) and (not ERI_position == 998):\n",
    "        ERI_index, ERI_position, ERI_AREA_Pars = NOK_ERI_Toolkit.get_mgaap_area_pars(ERI_log_file, ERI_index)\n",
    "        while(ERI_position >= 0) and (not ERI_position == 999) and (not ERI_position == 998):\n",
    "            ERI_index, ERI_position, ERI_AREA_Pars = NOK_ERI_Toolkit.get_mgaap_area_pars(ERI_log_file, ERI_index)\n",
    "            if(ERI_position >= 0) and (not ERI_position == 999) and (not ERI_position == 998):\n",
    "                new_SA = ERI_MSS_Pars + ERI_AREA_Pars\n",
    "                df_ERI_MSS_SAs.loc[ERI_SA_count] = new_SA\n",
    "                ERI_SA_count = ERI_SA_count + 1\n",
    "            ERI_index = ERI_index + 1\n",
    "    ERI_index = ERI_index + 1"
   ]
  },
  {
   "cell_type": "markdown",
   "metadata": {},
   "source": [
    "### Drop columns & prepare to merge"
   ]
  },
  {
   "cell_type": "code",
   "execution_count": 133,
   "metadata": {},
   "outputs": [
    {
     "data": {
      "text/html": [
       "<div>\n",
       "<style scoped>\n",
       "    .dataframe tbody tr th:only-of-type {\n",
       "        vertical-align: middle;\n",
       "    }\n",
       "\n",
       "    .dataframe tbody tr th {\n",
       "        vertical-align: top;\n",
       "    }\n",
       "\n",
       "    .dataframe thead th {\n",
       "        text-align: right;\n",
       "    }\n",
       "</style>\n",
       "<table border=\"1\" class=\"dataframe\">\n",
       "  <thead>\n",
       "    <tr style=\"text-align: right;\">\n",
       "      <th></th>\n",
       "      <th>MSS</th>\n",
       "      <th>Date</th>\n",
       "      <th>Time</th>\n",
       "      <th>Name</th>\n",
       "      <th>MCC</th>\n",
       "      <th>MNC</th>\n",
       "      <th>LAC</th>\n",
       "      <th>CI</th>\n",
       "      <th>CGI</th>\n",
       "    </tr>\n",
       "  </thead>\n",
       "  <tbody>\n",
       "    <tr>\n",
       "      <th>0</th>\n",
       "      <td>MSSBA3</td>\n",
       "      <td>0000-00-00</td>\n",
       "      <td>00:00:00</td>\n",
       "      <td>UBABRR01E</td>\n",
       "      <td>724</td>\n",
       "      <td>05</td>\n",
       "      <td>30177</td>\n",
       "      <td>40195</td>\n",
       "      <td>724-05-30177-40195</td>\n",
       "    </tr>\n",
       "    <tr>\n",
       "      <th>1</th>\n",
       "      <td>MSSBA3</td>\n",
       "      <td>0000-00-00</td>\n",
       "      <td>00:00:00</td>\n",
       "      <td>UBABRR01F</td>\n",
       "      <td>724</td>\n",
       "      <td>05</td>\n",
       "      <td>30177</td>\n",
       "      <td>50195</td>\n",
       "      <td>724-05-30177-50195</td>\n",
       "    </tr>\n",
       "    <tr>\n",
       "      <th>2</th>\n",
       "      <td>MSSBA3</td>\n",
       "      <td>0000-00-00</td>\n",
       "      <td>00:00:00</td>\n",
       "      <td>UBABRR01G</td>\n",
       "      <td>724</td>\n",
       "      <td>05</td>\n",
       "      <td>30177</td>\n",
       "      <td>60195</td>\n",
       "      <td>724-05-30177-60195</td>\n",
       "    </tr>\n",
       "    <tr>\n",
       "      <th>3</th>\n",
       "      <td>MSSBA3</td>\n",
       "      <td>0000-00-00</td>\n",
       "      <td>00:00:00</td>\n",
       "      <td>FT00056</td>\n",
       "      <td>724</td>\n",
       "      <td>05</td>\n",
       "      <td>55073</td>\n",
       "      <td>56</td>\n",
       "      <td>724-05-55073-56</td>\n",
       "    </tr>\n",
       "    <tr>\n",
       "      <th>4</th>\n",
       "      <td>MSSBA3</td>\n",
       "      <td>0000-00-00</td>\n",
       "      <td>00:00:00</td>\n",
       "      <td>UBAALM01E</td>\n",
       "      <td>724</td>\n",
       "      <td>05</td>\n",
       "      <td>30173</td>\n",
       "      <td>62870</td>\n",
       "      <td>724-05-30173-62870</td>\n",
       "    </tr>\n",
       "    <tr>\n",
       "      <th>...</th>\n",
       "      <td>...</td>\n",
       "      <td>...</td>\n",
       "      <td>...</td>\n",
       "      <td>...</td>\n",
       "      <td>...</td>\n",
       "      <td>...</td>\n",
       "      <td>...</td>\n",
       "      <td>...</td>\n",
       "      <td>...</td>\n",
       "    </tr>\n",
       "    <tr>\n",
       "      <th>3142</th>\n",
       "      <td>MSSBA8</td>\n",
       "      <td>0000-00-00</td>\n",
       "      <td>00:00:00</td>\n",
       "      <td>UBAMAY02B</td>\n",
       "      <td>724</td>\n",
       "      <td>05</td>\n",
       "      <td>30377</td>\n",
       "      <td>60183</td>\n",
       "      <td>724-05-30377-60183</td>\n",
       "    </tr>\n",
       "    <tr>\n",
       "      <th>3143</th>\n",
       "      <td>MSSBA8</td>\n",
       "      <td>0000-00-00</td>\n",
       "      <td>00:00:00</td>\n",
       "      <td>UBAMAY02C</td>\n",
       "      <td>724</td>\n",
       "      <td>05</td>\n",
       "      <td>30377</td>\n",
       "      <td>60184</td>\n",
       "      <td>724-05-30377-60184</td>\n",
       "    </tr>\n",
       "    <tr>\n",
       "      <th>3144</th>\n",
       "      <td>MSSBA8</td>\n",
       "      <td>0000-00-00</td>\n",
       "      <td>00:00:00</td>\n",
       "      <td>UBAMNZ01A</td>\n",
       "      <td>724</td>\n",
       "      <td>05</td>\n",
       "      <td>30975</td>\n",
       "      <td>60194</td>\n",
       "      <td>724-05-30975-60194</td>\n",
       "    </tr>\n",
       "    <tr>\n",
       "      <th>3145</th>\n",
       "      <td>MSSBA8</td>\n",
       "      <td>0000-00-00</td>\n",
       "      <td>00:00:00</td>\n",
       "      <td>UBAMNZ01B</td>\n",
       "      <td>724</td>\n",
       "      <td>05</td>\n",
       "      <td>30975</td>\n",
       "      <td>60195</td>\n",
       "      <td>724-05-30975-60195</td>\n",
       "    </tr>\n",
       "    <tr>\n",
       "      <th>3146</th>\n",
       "      <td>MSSBA8</td>\n",
       "      <td>0000-00-00</td>\n",
       "      <td>00:00:00</td>\n",
       "      <td>UBAMNZ01C</td>\n",
       "      <td>724</td>\n",
       "      <td>05</td>\n",
       "      <td>30975</td>\n",
       "      <td>60196</td>\n",
       "      <td>724-05-30975-60196</td>\n",
       "    </tr>\n",
       "  </tbody>\n",
       "</table>\n",
       "<p>3147 rows × 9 columns</p>\n",
       "</div>"
      ],
      "text/plain": [
       "         MSS        Date      Time       Name  MCC MNC    LAC     CI  \\\n",
       "0     MSSBA3  0000-00-00  00:00:00  UBABRR01E  724  05  30177  40195   \n",
       "1     MSSBA3  0000-00-00  00:00:00  UBABRR01F  724  05  30177  50195   \n",
       "2     MSSBA3  0000-00-00  00:00:00  UBABRR01G  724  05  30177  60195   \n",
       "3     MSSBA3  0000-00-00  00:00:00    FT00056  724  05  55073     56   \n",
       "4     MSSBA3  0000-00-00  00:00:00  UBAALM01E  724  05  30173  62870   \n",
       "...      ...         ...       ...        ...  ...  ..    ...    ...   \n",
       "3142  MSSBA8  0000-00-00  00:00:00  UBAMAY02B  724  05  30377  60183   \n",
       "3143  MSSBA8  0000-00-00  00:00:00  UBAMAY02C  724  05  30377  60184   \n",
       "3144  MSSBA8  0000-00-00  00:00:00  UBAMNZ01A  724  05  30975  60194   \n",
       "3145  MSSBA8  0000-00-00  00:00:00  UBAMNZ01B  724  05  30975  60195   \n",
       "3146  MSSBA8  0000-00-00  00:00:00  UBAMNZ01C  724  05  30975  60196   \n",
       "\n",
       "                     CGI  \n",
       "0     724-05-30177-40195  \n",
       "1     724-05-30177-50195  \n",
       "2     724-05-30177-60195  \n",
       "3        724-05-55073-56  \n",
       "4     724-05-30173-62870  \n",
       "...                  ...  \n",
       "3142  724-05-30377-60183  \n",
       "3143  724-05-30377-60184  \n",
       "3144  724-05-30975-60194  \n",
       "3145  724-05-30975-60195  \n",
       "3146  724-05-30975-60196  \n",
       "\n",
       "[3147 rows x 9 columns]"
      ]
     },
     "execution_count": 133,
     "metadata": {},
     "output_type": "execute_result"
    }
   ],
   "source": [
    "# ERICSSON DataFrame => Drop some columns to get just the most important ones.\n",
    "\n",
    "df_ERI_MSS_SAIs = df_ERI_MSS_SAs\n",
    "\n",
    "ERI_drop_col = ['CO', 'RO', 'EA']\n",
    "df_ERI_MSS_SAIs = df_ERI_MSS_SAIs.drop(columns=ERI_drop_col)\n",
    "ERI_col = ['MSS', 'Date', 'Time', 'Name', 'MCC', 'MNC', 'LAC', 'CI', 'CGI']\n",
    "df_ERI_MSS_SAIs = df_ERI_MSS_SAIs[ERI_col]\n",
    "df_ERI_MSS_SAIs"
   ]
  },
  {
   "cell_type": "markdown",
   "metadata": {},
   "source": [
    "### Plot + Insights"
   ]
  },
  {
   "cell_type": "code",
   "execution_count": 134,
   "metadata": {},
   "outputs": [],
   "source": [
    "# Continue..."
   ]
  },
  {
   "cell_type": "code",
   "execution_count": null,
   "metadata": {},
   "outputs": [],
   "source": []
  },
  {
   "cell_type": "code",
   "execution_count": null,
   "metadata": {},
   "outputs": [],
   "source": []
  },
  {
   "cell_type": "code",
   "execution_count": null,
   "metadata": {},
   "outputs": [],
   "source": []
  },
  {
   "cell_type": "code",
   "execution_count": null,
   "metadata": {},
   "outputs": [],
   "source": []
  },
  {
   "cell_type": "code",
   "execution_count": null,
   "metadata": {},
   "outputs": [],
   "source": []
  },
  {
   "cell_type": "code",
   "execution_count": null,
   "metadata": {},
   "outputs": [],
   "source": []
  },
  {
   "cell_type": "code",
   "execution_count": null,
   "metadata": {},
   "outputs": [],
   "source": []
  },
  {
   "cell_type": "code",
   "execution_count": null,
   "metadata": {},
   "outputs": [],
   "source": []
  },
  {
   "cell_type": "code",
   "execution_count": null,
   "metadata": {},
   "outputs": [],
   "source": []
  },
  {
   "cell_type": "code",
   "execution_count": null,
   "metadata": {},
   "outputs": [],
   "source": []
  },
  {
   "cell_type": "code",
   "execution_count": 135,
   "metadata": {},
   "outputs": [
    {
     "ename": "NameError",
     "evalue": "name 'df_MSS_LACs' is not defined",
     "output_type": "error",
     "traceback": [
      "\u001b[1;31m---------------------------------------------------------------------------\u001b[0m",
      "\u001b[1;31mNameError\u001b[0m                                 Traceback (most recent call last)",
      "\u001b[1;32mc:\\Users\\Alvaro\\OneDrive\\My Files\\Programming\\Python\\2022 - Jupyter Notebooks\\Macro MGAAP MSS.ipynb Cell 27'\u001b[0m in \u001b[0;36m<module>\u001b[1;34m\u001b[0m\n\u001b[1;32m----> <a href='vscode-notebook-cell:/c%3A/Users/Alvaro/OneDrive/My%20Files/Programming/Python/2022%20-%20Jupyter%20Notebooks/Macro%20MGAAP%20MSS.ipynb#ch0000026?line=0'>1</a>\u001b[0m df_MSS_LACs\u001b[39m.\u001b[39mhead()\n",
      "\u001b[1;31mNameError\u001b[0m: name 'df_MSS_LACs' is not defined"
     ]
    }
   ],
   "source": [
    "df_MSS_LACs.head()"
   ]
  },
  {
   "cell_type": "code",
   "execution_count": null,
   "metadata": {},
   "outputs": [],
   "source": [
    "df_MSS_LACs.groupby('MSS')['AT'].count()"
   ]
  },
  {
   "cell_type": "code",
   "execution_count": null,
   "metadata": {},
   "outputs": [],
   "source": [
    "df_MSS_LACs.describe(include='all')"
   ]
  },
  {
   "cell_type": "code",
   "execution_count": null,
   "metadata": {},
   "outputs": [],
   "source": [
    "df_MSS_LACs['MSS'].describe(include='all')"
   ]
  },
  {
   "cell_type": "code",
   "execution_count": null,
   "metadata": {},
   "outputs": [],
   "source": [
    "df_MSS_LACs.head()"
   ]
  },
  {
   "cell_type": "code",
   "execution_count": null,
   "metadata": {},
   "outputs": [],
   "source": [
    "df_MSS_LACs['AT'].count()"
   ]
  },
  {
   "cell_type": "code",
   "execution_count": null,
   "metadata": {},
   "outputs": [],
   "source": [
    "df_MSS_LACs"
   ]
  },
  {
   "cell_type": "code",
   "execution_count": null,
   "metadata": {},
   "outputs": [],
   "source": [
    "df_MSS_LACs.dropna().describe()"
   ]
  },
  {
   "cell_type": "code",
   "execution_count": null,
   "metadata": {},
   "outputs": [],
   "source": []
  },
  {
   "cell_type": "code",
   "execution_count": null,
   "metadata": {},
   "outputs": [],
   "source": [
    "df_MSS_LACs.groupby('MSS', axis=1).count()"
   ]
  },
  {
   "cell_type": "code",
   "execution_count": null,
   "metadata": {},
   "outputs": [],
   "source": []
  }
 ],
 "metadata": {
  "kernelspec": {
   "display_name": "Python 3",
   "language": "python",
   "name": "python3"
  },
  "language_info": {
   "codemirror_mode": {
    "name": "ipython",
    "version": 3
   },
   "file_extension": ".py",
   "mimetype": "text/x-python",
   "name": "python",
   "nbconvert_exporter": "python",
   "pygments_lexer": "ipython3",
   "version": "3.8.8"
  }
 },
 "nbformat": 4,
 "nbformat_minor": 4
}
