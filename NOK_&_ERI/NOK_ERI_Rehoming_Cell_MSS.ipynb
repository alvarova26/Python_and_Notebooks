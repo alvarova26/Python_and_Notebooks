{
 "cells": [
  {
   "cell_type": "markdown",
   "metadata": {
    "id": "5lkrBvVl5UHd"
   },
   "source": [
    "# Rehoming 2G & 3G cells in Nokia's MSSs"
   ]
  },
  {
   "cell_type": "markdown",
   "metadata": {
    "id": "QKWzdg5Y5k8r"
   },
   "source": [
    "## Import modules"
   ]
  },
  {
   "cell_type": "code",
   "execution_count": 1,
   "metadata": {
    "id": "_8C2lA8p5SrP"
   },
   "outputs": [],
   "source": [
    "# Import modules (NOK_ERI_Toolkit) & others that will be needed along the program\n",
    "import pandas as pd\n",
    "import numpy as np\n",
    "from matplotlib import pyplot as plt\n",
    "import seaborn as sns\n",
    "import NOK_ERI_Toolkit as NOK_ERI_Toolkit\n",
    "from datetime import datetime\n",
    "\n",
    "%matplotlib inline\n",
    "%load_ext autoreload\n",
    "%autoreload 2"
   ]
  },
  {
   "cell_type": "markdown",
   "metadata": {
    "id": "4uI8vTmC5w1F"
   },
   "source": [
    "## Load 2G & 3G data form \"_Python Template - Cell Rehoming.xlsx\""
   ]
  },
  {
   "cell_type": "code",
   "execution_count": 2,
   "metadata": {},
   "outputs": [],
   "source": [
    "# Especify the path to the file and read the template\n",
    "path_to_file = 'C:/Users/Alvaro/OneDrive/My Files/_Scripts_Models/Commands Generators/_Python Template - Cell Rehoming.xlsx'\n",
    "xls = pd.ExcelFile(path_to_file)                                                                                            #Read excel file"
   ]
  },
  {
   "cell_type": "code",
   "execution_count": 3,
   "metadata": {},
   "outputs": [],
   "source": [
    "# Create DataFrame for 2G Nokia data & clean it up\n",
    "df_nok_2g = pd.read_excel(xls, sheet_name='NOK_2G', dtype=str) #Read specific sheet | dtype=str forces to read as string to avoid lose '0s'\n",
    "df_nok_2g['New_CGI'] = df_nok_2g['para_MCC'] + '-' + df_nok_2g['para_MNC'] + '-' + df_nok_2g['para_LAC'] + '-' + df_nok_2g['para_CI/SA']    # Create col New_CGI\n",
    "df_nok_2g['DE-PARA'] = 'de NE=' + df_nok_2g['NE'] + ' - LAC=' + df_nok_2g['LAC'] + ' para NE=' + df_nok_2g['para_NE'] + ' - LAC=' + df_nok_2g['para_LAC']                                   # Create col DE-PARA\n",
    "df_nok_2g = df_nok_2g.sort_values(by=['MSS', 'Municipio', 'NE', 'CELL_NAME'], ignore_index=True)                            # Sort DataFrame"
   ]
  },
  {
   "cell_type": "code",
   "execution_count": 4,
   "metadata": {},
   "outputs": [],
   "source": [
    "# Create DataFrame for 3G Nokia data & clean it up\n",
    "df_nok_3g = pd.read_excel(xls, sheet_name='NOK_3G', dtype=str) #Read specific sheet | dtype=str forces to read as string to avoid lose '0s'\n",
    "df_nok_3g['New_CGI'] = df_nok_3g['para_MCC'] + '-' + df_nok_3g['para_MNC'] + '-' + df_nok_3g['para_LAC'] + '-' + df_nok_3g['para_CI/SA']    # Create col New_CGI\n",
    "df_nok_3g['DE-PARA'] = 'de NE=' + df_nok_3g['NE'] + ' - LAC=' + df_nok_3g['LAC'] + ' para NE=' + df_nok_3g['para_NE'] + ' - LAC=' + df_nok_3g['para_LAC']                                   # Create col DE-PARA\n",
    "df_nok_3g = df_nok_3g.sort_values(by=['MSS', 'Municipio', 'NE', 'CELL_NAME'], ignore_index=True)                            # Sort DataFrame"
   ]
  },
  {
   "cell_type": "markdown",
   "metadata": {
    "id": "7H5BZ8u5lJf8"
   },
   "source": [
    "## Print 2G & 3G Nokia's (change & fallback) commands"
   ]
  },
  {
   "cell_type": "code",
   "execution_count": 5,
   "metadata": {},
   "outputs": [
    {
     "name": "stdout",
     "output_type": "stream",
     "text": [
      "\n",
      "! AMARGOSA | Change de NE=BSCBA48 - LAC=2075 para NE=BSCBA43 - LAC=675\n",
      "!--------------------------------------------------------------------------------------\n",
      "ZEPC:NAME=BAAMR011,NO=73000:MCC=724,MNC=05,LAC=675,CI=50189;\n",
      "ZEPC:NAME=BAAMR012,NO=73001:MCC=724,MNC=05,LAC=675,CI=50190;\n",
      "ZEPC:NAME=BAAMR013,NO=73002:MCC=724,MNC=05,LAC=675,CI=50191;\n",
      "ZEPC:NAME=BAAMR014,NO=73003:MCC=724,MNC=05,LAC=675,CI=50195;\n",
      "ZEPC:NAME=BAAMR015,NO=73004:MCC=724,MNC=05,LAC=675,CI=50196;\n",
      "ZEPC:NAME=BAAMR016,NO=73005:MCC=724,MNC=05,LAC=675,CI=50192;\n",
      "ZEPB:NAME=BAAMR011:BSCNAME=BSCBA43;\n",
      "ZEPB:NAME=BAAMR012:BSCNAME=BSCBA43;\n",
      "ZEPB:NAME=BAAMR013:BSCNAME=BSCBA43;\n",
      "ZEPB:NAME=BAAMR014:BSCNAME=BSCBA43;\n",
      "ZEPB:NAME=BAAMR015:BSCNAME=BSCBA43;\n",
      "ZEPB:NAME=BAAMR016:BSCNAME=BSCBA43;\n"
     ]
    },
    {
     "ename": "TypeError",
     "evalue": "can only concatenate str (not \"float\") to str",
     "output_type": "error",
     "traceback": [
      "\u001b[1;31m---------------------------------------------------------------------------\u001b[0m",
      "\u001b[1;31mTypeError\u001b[0m                                 Traceback (most recent call last)",
      "\u001b[1;32md:\\GitHub\\Python_and_Notebooks\\NOK_&_ERI\\NOK_ERI_Rehoming_Cell_MSS.ipynb Cell 9'\u001b[0m in \u001b[0;36m<module>\u001b[1;34m\u001b[0m\n\u001b[0;32m      <a href='vscode-notebook-cell:/d%3A/GitHub/Python_and_Notebooks/NOK_%26_ERI/NOK_ERI_Rehoming_Cell_MSS.ipynb#ch0000008?line=0'>1</a>\u001b[0m \u001b[39m# Get 2G Nokia's change commands\u001b[39;00m\n\u001b[1;32m----> <a href='vscode-notebook-cell:/d%3A/GitHub/Python_and_Notebooks/NOK_%26_ERI/NOK_ERI_Rehoming_Cell_MSS.ipynb#ch0000008?line=1'>2</a>\u001b[0m NOK_ERI_Toolkit\u001b[39m.\u001b[39;49mrehome_cell_2g_nok(my_df\u001b[39m=\u001b[39;49mdf_nok_2g, my_cmd\u001b[39m=\u001b[39;49m\u001b[39m'\u001b[39;49m\u001b[39mchange\u001b[39;49m\u001b[39m'\u001b[39;49m)\n",
      "File \u001b[1;32md:\\GitHub\\Python_and_Notebooks\\NOK_&_ERI\\NOK_ERI_Toolkit.py:2548\u001b[0m, in \u001b[0;36mrehome_cell_2g_nok\u001b[1;34m(my_df, my_cmd)\u001b[0m\n\u001b[0;32m   2546\u001b[0m         cn_cell \u001b[39m=\u001b[39m my_df[\u001b[39m'\u001b[39m\u001b[39mpara_LAC\u001b[39m\u001b[39m'\u001b[39m][t]\n\u001b[0;32m   2547\u001b[0m         cn_cell \u001b[39m=\u001b[39m cn_cell[\u001b[39m-\u001b[39m\u001b[39m2\u001b[39m:]\n\u001b[1;32m-> 2548\u001b[0m         \u001b[39mprint\u001b[39m(\u001b[39m'\u001b[39;49m\u001b[39mZEPR:NAME=\u001b[39;49m\u001b[39m'\u001b[39;49m \u001b[39m+\u001b[39;49m name_cell \u001b[39m+\u001b[39;49m \u001b[39m'\u001b[39;49m\u001b[39m:RZ=\u001b[39;49m\u001b[39m'\u001b[39;49m \u001b[39m+\u001b[39;49m rz_cell \u001b[39m+\u001b[39m \u001b[39m'\u001b[39m\u001b[39m,CDR=\u001b[39m\u001b[39m'\u001b[39m \u001b[39m+\u001b[39m cn_cell \u001b[39m+\u001b[39m \u001b[39m'\u001b[39m\u001b[39m;\u001b[39m\u001b[39m'\u001b[39m)\n\u001b[0;32m   2550\u001b[0m \u001b[39mfor\u001b[39;00m t \u001b[39min\u001b[39;00m \u001b[39mrange\u001b[39m(idx\u001b[39m-\u001b[39mcount\u001b[39m+\u001b[39m\u001b[39m1\u001b[39m,idx\u001b[39m+\u001b[39m\u001b[39m1\u001b[39m):\n\u001b[0;32m   2551\u001b[0m     \u001b[39mif\u001b[39;00m my_df[\u001b[39m'\u001b[39m\u001b[39mMSS\u001b[39m\u001b[39m'\u001b[39m][t] \u001b[39m==\u001b[39m my_df[\u001b[39m'\u001b[39m\u001b[39mpara_MSS\u001b[39m\u001b[39m'\u001b[39m][t]:\n",
      "\u001b[1;31mTypeError\u001b[0m: can only concatenate str (not \"float\") to str"
     ]
    }
   ],
   "source": [
    "# Get 2G Nokia's change commands\n",
    "NOK_ERI_Toolkit.rehome_cell_2g_nok(my_df=df_nok_2g, my_cmd='change')"
   ]
  },
  {
   "cell_type": "code",
   "execution_count": null,
   "metadata": {},
   "outputs": [
    {
     "name": "stdout",
     "output_type": "stream",
     "text": [
      "\n",
      "! ALAGOINHAS | Fallback de NE=BSCBA39 - LAC=2275 para NE=BSCBA43 - LAC=675\n",
      "!--------------------------------------------------------------------------------------\n",
      "MSS origem diferente de MSS destino - FB N/A - CleanUp em outra CRQ se necessario\n",
      "MSS origem diferente de MSS destino - FB N/A - CleanUp em outra CRQ se necessario\n",
      "MSS origem diferente de MSS destino - FB N/A - CleanUp em outra CRQ se necessario\n",
      "MSS origem diferente de MSS destino - FB N/A - CleanUp em outra CRQ se necessario\n",
      "MSS origem diferente de MSS destino - FB N/A - CleanUp em outra CRQ se necessario\n",
      "MSS origem diferente de MSS destino - FB N/A - CleanUp em outra CRQ se necessario\n",
      "MSS origem diferente de MSS destino - FB N/A - CleanUp em outra CRQ se necessario\n",
      "MSS origem diferente de MSS destino - FB N/A - CleanUp em outra CRQ se necessario\n",
      "MSS origem diferente de MSS destino - FB N/A - CleanUp em outra CRQ se necessario\n",
      "MSS origem diferente de MSS destino - FB N/A - CleanUp em outra CRQ se necessario\n",
      "MSS origem diferente de MSS destino - FB N/A - CleanUp em outra CRQ se necessario\n",
      "MSS origem diferente de MSS destino - FB N/A - CleanUp em outra CRQ se necessario\n",
      "\n",
      "! ESPLANADA | Fallback de NE=BSCBA39 - LAC=375 para NE=BSCBA43 - LAC=675\n",
      "!--------------------------------------------------------------------------------------\n",
      "ZEPO:NAME=BAESP011;\n",
      "ZEPO:NAME=BAESP012;\n",
      "ZEPO:NAME=BAESP013;\n",
      "ZEPO:NAME=BAESP014;\n",
      "ZEPO:NAME=BAESP015;\n",
      "ZEPO:NAME=BAESP016;\n",
      "ZEPS:NAME=BAESP011:L;\n",
      "ZEPS:NAME=BAESP012:L;\n",
      "ZEPS:NAME=BAESP013:L;\n",
      "ZEPS:NAME=BAESP014:L;\n",
      "ZEPS:NAME=BAESP015:L;\n",
      "ZEPS:NAME=BAESP016:L;\n",
      "ZEPB:NAME=BAESP011:BSCNAME=BSCBA39:MCC=724,MNC=05,LAC=375;\n",
      "ZEPB:NAME=BAESP012:BSCNAME=BSCBA39:MCC=724,MNC=05,LAC=375;\n",
      "ZEPB:NAME=BAESP013:BSCNAME=BSCBA39:MCC=724,MNC=05,LAC=375;\n",
      "ZEPB:NAME=BAESP014:BSCNAME=BSCBA39:MCC=724,MNC=05,LAC=375;\n",
      "ZEPB:NAME=BAESP015:BSCNAME=BSCBA39:MCC=724,MNC=05,LAC=375;\n",
      "ZEPB:NAME=BAESP016:BSCNAME=BSCBA39:MCC=724,MNC=05,LAC=375;\n",
      "ZEPS:NAME=BAESP011:U;\n",
      "ZEPS:NAME=BAESP012:U;\n",
      "ZEPS:NAME=BAESP013:U;\n",
      "ZEPS:NAME=BAESP014:U;\n",
      "ZEPS:NAME=BAESP015:U;\n",
      "ZEPS:NAME=BAESP016:U;\n"
     ]
    },
    {
     "data": {
      "text/plain": [
       "True"
      ]
     },
     "execution_count": 14,
     "metadata": {},
     "output_type": "execute_result"
    }
   ],
   "source": [
    "# Get 2G Nokia's fallback commands\n",
    "NOK_ERI_Toolkit.rehome_cell_2g_nok(my_df=df_nok_2g, my_cmd='fallback')"
   ]
  },
  {
   "cell_type": "code",
   "execution_count": null,
   "metadata": {},
   "outputs": [
    {
     "name": "stdout",
     "output_type": "stream",
     "text": [
      "\n",
      "! ANTÔNIO CARDOSO | Change de NE=RNCBA04 - LAC=30575 para NE=RNCBA05 - LAC=34475\n",
      "!--------------------------------------------------------------------------------------\n",
      "ZEPO:TYPE=SA,NAME=UBAATC01A;\n",
      "ZEPO:TYPE=SA,NAME=UBAATC01B;\n",
      "ZEPO:TYPE=SA,NAME=UBAATC01C;\n",
      "ZEPS:TYPE=SA,NAME=UBAATC01A:L;\n",
      "ZEPS:TYPE=SA,NAME=UBAATC01B:L;\n",
      "ZEPS:TYPE=SA,NAME=UBAATC01C:L;\n",
      "ZEPF:TYPE=SA,SANAME=UBAATC01A:MGWNBR=MSS:MCC=724,MNC=05,LAC=34475;\n",
      "ZEPF:TYPE=SA,SANAME=UBAATC01B:MGWNBR=MSS:MCC=724,MNC=05,LAC=34475;\n",
      "ZEPF:TYPE=SA,SANAME=UBAATC01C:MGWNBR=MSS:MCC=724,MNC=05,LAC=34475;\n",
      "ZEPS:TYPE=SA,NAME=UBAATC01A:U;\n",
      "ZEPS:TYPE=SA,NAME=UBAATC01B:U;\n",
      "ZEPS:TYPE=SA,NAME=UBAATC01C:U;\n",
      "\n",
      "! CARDOSO VERDE | Change de NE=RNCBA05 - LAC=30574 para NE=RNCBA06 - LAC=575\n",
      "!--------------------------------------------------------------------------------------\n",
      "ZEPC:TYPE=SA,NAME=UBACTC01A,NO=4545:MCC=724,MNC=05,LAC=575,SAC=51460;\n",
      "ZEPC:TYPE=SA,NAME=UBACTC01B,NO=4546:MCC=724,MNC=05,LAC=575,SAC=51461;\n",
      "ZEPC:TYPE=SA,NAME=UBACTC01C,NO=4547:MCC=724,MNC=05,LAC=575,SAC=51462;\n",
      "ZEPR:TYPE=SA,NAME=UBACTC01A:RZ=1455,CDR=75;\n",
      "ZEPR:TYPE=SA,NAME=UBACTC01B:RZ=1455,CDR=75;\n",
      "ZEPR:TYPE=SA,NAME=UBACTC01C:RZ=1455,CDR=75;\n",
      "ZEPS:TYPE=SA,NAME=UBACTC01A:U;\n",
      "ZEPS:TYPE=SA,NAME=UBACTC01B:U;\n",
      "ZEPS:TYPE=SA,NAME=UBACTC01C:U;\n"
     ]
    },
    {
     "data": {
      "text/plain": [
       "True"
      ]
     },
     "execution_count": 15,
     "metadata": {},
     "output_type": "execute_result"
    }
   ],
   "source": [
    "# Get 3G Nokia's change commands\n",
    "NOK_ERI_Toolkit.rehome_cell_3g_nok(my_df=df_nok_3g, my_cmd='change')"
   ]
  },
  {
   "cell_type": "code",
   "execution_count": null,
   "metadata": {},
   "outputs": [
    {
     "name": "stdout",
     "output_type": "stream",
     "text": [
      "\n",
      "! ANTÔNIO CARDOSO | Fallback de NE=RNCBA04 - LAC=30575 para NE=RNCBA05 - LAC=34475\n",
      "!--------------------------------------------------------------------------------------\n",
      "ZEPO:TYPE=SA,NAME=UBAATC01A;\n",
      "ZEPO:TYPE=SA,NAME=UBAATC01B;\n",
      "ZEPO:TYPE=SA,NAME=UBAATC01C;\n",
      "ZEPS:TYPE=SA,NAME=UBAATC01A:L;\n",
      "ZEPS:TYPE=SA,NAME=UBAATC01B:L;\n",
      "ZEPS:TYPE=SA,NAME=UBAATC01C:L;\n",
      "ZEPF:TYPE=SA,SANAME=UBAATC01A:MGWNBR=MSS:MCC=724,MNC=05,LAC=30575;\n",
      "ZEPF:TYPE=SA,SANAME=UBAATC01B:MGWNBR=MSS:MCC=724,MNC=05,LAC=30575;\n",
      "ZEPF:TYPE=SA,SANAME=UBAATC01C:MGWNBR=MSS:MCC=724,MNC=05,LAC=30575;\n",
      "ZEPS:TYPE=SA,NAME=UBAATC01A:U;\n",
      "ZEPS:TYPE=SA,NAME=UBAATC01B:U;\n",
      "ZEPS:TYPE=SA,NAME=UBAATC01C:U;\n",
      "\n",
      "! CARDOSO VERDE | Fallback de NE=RNCBA05 - LAC=30574 para NE=RNCBA06 - LAC=575\n",
      "!--------------------------------------------------------------------------------------\n",
      "MSS origem diferente de MSS destino - FB N/A - CleanUp em outra CRQ se necessario\n",
      "MSS origem diferente de MSS destino - FB N/A - CleanUp em outra CRQ se necessario\n",
      "MSS origem diferente de MSS destino - FB N/A - CleanUp em outra CRQ se necessario\n",
      "MSS origem diferente de MSS destino - FB N/A - CleanUp em outra CRQ se necessario\n",
      "MSS origem diferente de MSS destino - FB N/A - CleanUp em outra CRQ se necessario\n",
      "MSS origem diferente de MSS destino - FB N/A - CleanUp em outra CRQ se necessario\n",
      "MSS origem diferente de MSS destino - FB N/A - CleanUp em outra CRQ se necessario\n",
      "MSS origem diferente de MSS destino - FB N/A - CleanUp em outra CRQ se necessario\n",
      "MSS origem diferente de MSS destino - FB N/A - CleanUp em outra CRQ se necessario\n"
     ]
    },
    {
     "data": {
      "text/plain": [
       "True"
      ]
     },
     "execution_count": 16,
     "metadata": {},
     "output_type": "execute_result"
    }
   ],
   "source": [
    "# Get 3G Nokia's fallback commands\n",
    "NOK_ERI_Toolkit.rehome_cell_3g_nok(my_df=df_nok_3g, my_cmd='fallback')"
   ]
  }
 ],
 "metadata": {
  "colab": {
   "name": "Change LAC MSS Ericsson.ipynb",
   "provenance": []
  },
  "interpreter": {
   "hash": "80be71d4bb888d8fd8df32e26aec7a8b9608f39bbe1104062c7d175eed4a2959"
  },
  "kernelspec": {
   "display_name": "Python 3.8.8 ('base')",
   "language": "python",
   "name": "python3"
  },
  "language_info": {
   "codemirror_mode": {
    "name": "ipython",
    "version": 3
   },
   "file_extension": ".py",
   "mimetype": "text/x-python",
   "name": "python",
   "nbconvert_exporter": "python",
   "pygments_lexer": "ipython3",
   "version": "3.8.8"
  }
 },
 "nbformat": 4,
 "nbformat_minor": 4
}
