{
 "cells": [
  {
   "cell_type": "markdown",
   "metadata": {
    "id": "5lkrBvVl5UHd"
   },
   "source": [
    "# Create LAIs in Nokia & Ercisson's MSSs"
   ]
  },
  {
   "cell_type": "markdown",
   "metadata": {
    "id": "QKWzdg5Y5k8r"
   },
   "source": [
    "## Import modules"
   ]
  },
  {
   "cell_type": "code",
   "execution_count": 2,
   "metadata": {
    "id": "_8C2lA8p5SrP"
   },
   "outputs": [],
   "source": [
    "# Import modules (NOK_ERI_Toolkit) & others that will be needed along the program\n",
    "import pandas as pd\n",
    "import numpy as np\n",
    "from matplotlib import pyplot as plt\n",
    "import seaborn as sns\n",
    "import NOK_ERI_Toolkit as NOK_ERI_Toolkit\n",
    "\n",
    "%matplotlib inline\n",
    "%load_ext autoreload\n",
    "%autoreload 2"
   ]
  },
  {
   "cell_type": "markdown",
   "metadata": {
    "id": "4uI8vTmC5w1F"
   },
   "source": [
    "## Load data form \"Create LAI - Python Template.xlsx\""
   ]
  },
  {
   "cell_type": "code",
   "execution_count": 3,
   "metadata": {},
   "outputs": [],
   "source": [
    "# Especify the path to the file and read the template\n",
    "path_to_file = 'C:/Users/Alvaro/OneDrive/My Files/_Scripts_Models/Commands Generators/Create LAI - Python Template.xlsx'\n",
    "xls = pd.ExcelFile(path_to_file)                                                                                            #Read excel file"
   ]
  },
  {
   "cell_type": "code",
   "execution_count": 4,
   "metadata": {},
   "outputs": [],
   "source": [
    "# Create DataFrame for Nokia's LAIs & clean it up\n",
    "df_nok_lai = pd.read_excel(xls, sheet_name='NOK', dtype=str)                    #Read specific sheet | dtype=str forces to read as string to avoid lose '0s'\n",
    "df_nok_lai['LAI'] = df_nok_lai['MCC'] + '-' + df_nok_lai['MNC'] + '-' + df_nok_lai['LAC']       # New column\n",
    "df_nok_lai['MSS-LAI'] = df_nok_lai['MSS'] + '-' + df_nok_lai['LAI']                             # New column\n",
    "df_nok_lai = df_nok_lai.drop_duplicates(subset=['MSS-LAI'])                                     # Drop duplicates by specific column\n",
    "df_nok_lai = df_nok_lai.sort_values(by=['MSS', 'Municipio', 'NE'], ignore_index=True)           # Sort DataFrame"
   ]
  },
  {
   "cell_type": "code",
   "execution_count": 5,
   "metadata": {},
   "outputs": [],
   "source": [
    "# Create DataFrame for Ericsson's LAIs & clean it up\n",
    "df_eri_lai = pd.read_excel(xls, sheet_name='ERI', dtype=str)                    #Read specific sheet | dtype=str forces to read as string to avoid lose '0s'\n",
    "df_eri_lai['LAI'] = df_eri_lai['MCC'] + '-' + df_eri_lai['MNC'] + '-' + df_eri_lai['LAC']       # New column\n",
    "df_eri_lai['MSS-LAI'] = df_eri_lai['MSS'] + '-' + df_eri_lai['LAI']                             # New column\n",
    "df_eri_lai = df_eri_lai.drop_duplicates(subset=['MSS-LAI'])                                     # Drop duplicates by specific column\n",
    "df_eri_lai = df_eri_lai.sort_values(by=['MSS', 'Municipio', 'NE'], ignore_index=True)           # Sort DataFrame"
   ]
  },
  {
   "cell_type": "markdown",
   "metadata": {
    "id": "7H5BZ8u5lJf8"
   },
   "source": [
    "## Print Nokia's LAIs (change & fallback) commands"
   ]
  },
  {
   "cell_type": "code",
   "execution_count": 6,
   "metadata": {},
   "outputs": [
    {
     "name": "stdout",
     "output_type": "stream",
     "text": [
      "\n",
      "! MSSBA06\n",
      "!--------------------------------------------------------------------------------------\n",
      "\n",
      "!Feira | NE=BSCBA49 | LAI=724-05-1475\n",
      "!--------------------------------------------------------------------------------------\n",
      "ZELC:NAME=LAC1475,MCC=724,MNC=05,LAC=1475;\n",
      "ZELE:NAME=LAC1475:RNGP=2,HONLA=2;\n",
      "ZELP:NAME=LAC1475:AT=001,INT=00600;\n",
      "ZEKA:ZC=0:LANAME=LAC1475:Y;\n",
      "ZEKA:ZC=4:LANAME=LAC1475:Y;\n",
      "\n",
      "!Feira | NE=BSCBA49 | LAI=724-28-1475\n",
      "!--------------------------------------------------------------------------------------\n",
      "ZELC:NAME=LAC1475RS,MCC=724,MNC=28,LAC=1475;\n",
      "ZELE:NAME=LAC1475RS:RNGP=2,HONLA=2;\n",
      "ZELP:NAME=LAC1475RS:AT=001,INT=00600;\n",
      "ZEKA:ZC=0:LANAME=LAC1475RS:Y;\n",
      "ZEKA:ZC=4:LANAME=LAC1475RS:Y;\n",
      "\n",
      "!Itapa | NE=BSCBA49 | LAI=724-05-25673\n",
      "!--------------------------------------------------------------------------------------\n",
      "ZELC:NAME=LAC25673,MCC=724,MNC=05,LAC=25673;\n",
      "ZELE:NAME=LAC25673:RNGP=3,HONLA=3;\n",
      "ZELP:NAME=LAC25673:AT=001,INT=00600;\n",
      "ZEKA:ZC=0:LANAME=LAC25673:Y;\n",
      "ZEKA:ZC=4:LANAME=LAC25673:Y;\n",
      "\n",
      "! MSSBA09\n",
      "!--------------------------------------------------------------------------------------\n",
      "\n",
      "!Capa | NE=BSCBA58 | LAI=724-05-2573\n",
      "!--------------------------------------------------------------------------------------\n",
      "ZELC:NAME=LAC2573,MCC=724,MNC=05,LAC=2573;\n",
      "ZELE:NAME=LAC2573:RNGP=3,HONLA=3;\n",
      "ZELP:NAME=LAC2573:AT=001,INT=00600;\n",
      "ZEKA:ZC=0:LANAME=LAC2573:Y;\n",
      "ZEKA:ZC=2:LANAME=LAC2573:Y;\n",
      "ZEKA:ZC=3:LANAME=LAC2573:Y;\n",
      "ZEKA:ZC=4:LANAME=LAC2573:Y;\n",
      "\n",
      "!Catu | NE=BSCBA58 | LAI=724-05-23474\n",
      "!--------------------------------------------------------------------------------------\n",
      "ZELC:NAME=LAC23474,MCC=724,MNC=05,LAC=23474;\n",
      "ZELE:NAME=LAC23474:RNGP=4,HONLA=4;\n",
      "ZELP:NAME=LAC23474:AT=001,INT=00600;\n",
      "ZEKA:ZC=0:LANAME=LAC23474:Y;\n",
      "ZEKA:ZC=1:LANAME=LAC23474:Y;\n",
      "ZEKA:ZC=4:LANAME=LAC23474:Y;\n",
      "\n",
      "!Jua | NE=RNCBA03 | LAI=724-05-33477\n",
      "!--------------------------------------------------------------------------------------\n",
      "ZELC:NAME=LAC33477,MCC=724,MNC=05,LAC=33477;\n",
      "ZELE:NAME=LAC33477:RNGP=7,HONLA=7;\n",
      "ZELP:NAME=LAC33477:AT=001,INT=00600;\n",
      "ZEKA:ZC=0:LANAME=LAC33477:Y;\n",
      "ZEKA:ZC=2:LANAME=LAC33477:Y;\n",
      "ZEKA:ZC=4:LANAME=LAC33477:Y;\n",
      "ZE2M:RNCNAME=RNCBA03:LAMCC=724,LAMNC=05,LACLA=33477;\n",
      "\n",
      "!Len | NE=RNCBA01 | LAI=724-05-33475\n",
      "!--------------------------------------------------------------------------------------\n",
      "ZELC:NAME=LAC33475,MCC=724,MNC=05,LAC=33475;\n",
      "ZELE:NAME=LAC33475:RNGP=5,HONLA=5;\n",
      "ZELP:NAME=LAC33475:AT=001,INT=00600;\n",
      "ZEKA:ZC=0:LANAME=LAC33475:Y;\n",
      "ZEKA:ZC=4:LANAME=LAC33475:Y;\n",
      "ZE2M:RNCNAME=RNCBA01:LAMCC=724,LAMNC=05,LACLA=33475;\n",
      "\n",
      "!Serr | NE=RNCSE02 | LAI=724-05-31279\n",
      "!--------------------------------------------------------------------------------------\n",
      "ZELC:NAME=LAC31279,MCC=724,MNC=05,LAC=31279;\n",
      "ZELE:NAME=LAC31279:RNGP=3,HONLA=3;\n",
      "ZELP:NAME=LAC31279:AT=001,INT=00600;\n",
      "ZEKA:ZC=0:LANAME=LAC31279:Y;\n",
      "ZEKA:ZC=4:LANAME=LAC31279:Y;\n",
      "ZE2M:RNCNAME=RNCSE02:LAMCC=724,LAMNC=05,LACLA=31279;\n"
     ]
    },
    {
     "data": {
      "text/plain": [
       "True"
      ]
     },
     "execution_count": 6,
     "metadata": {},
     "output_type": "execute_result"
    }
   ],
   "source": [
    "# Get Nokia's create commands\n",
    "NOK_ERI_Toolkit.create_lai_nok(my_df=df_nok_lai, my_cmd='create')"
   ]
  },
  {
   "cell_type": "code",
   "execution_count": 7,
   "metadata": {},
   "outputs": [
    {
     "name": "stdout",
     "output_type": "stream",
     "text": [
      "\n",
      "! MSSBA06\n",
      "!--------------------------------------------------------------------------------------\n",
      "\n",
      "!Feira | NE=BSCBA49 | LAI=724-05-1475\n",
      "!--------------------------------------------------------------------------------------\n",
      "ZELD:NAME=LAC1475,MCC=724,MNC=05,LAC=1475;\n",
      "\n",
      "!Feira | NE=BSCBA49 | LAI=724-28-1475\n",
      "!--------------------------------------------------------------------------------------\n",
      "ZELD:NAME=LAC1475RS,MCC=724,MNC=28,LAC=1475;\n",
      "\n",
      "!Itapa | NE=BSCBA49 | LAI=724-05-25673\n",
      "!--------------------------------------------------------------------------------------\n",
      "ZELD:NAME=LAC25673,MCC=724,MNC=05,LAC=25673;\n",
      "\n",
      "! MSSBA09\n",
      "!--------------------------------------------------------------------------------------\n",
      "\n",
      "!Capa | NE=BSCBA58 | LAI=724-05-2573\n",
      "!--------------------------------------------------------------------------------------\n",
      "ZELD:NAME=LAC2573,MCC=724,MNC=05,LAC=2573;\n",
      "\n",
      "!Catu | NE=BSCBA58 | LAI=724-05-23474\n",
      "!--------------------------------------------------------------------------------------\n",
      "ZELD:NAME=LAC23474,MCC=724,MNC=05,LAC=23474;\n",
      "\n",
      "!Jua | NE=RNCBA03 | LAI=724-05-33477\n",
      "!--------------------------------------------------------------------------------------\n",
      "ZE2M:RNCNAME=RNCBA03:LAMCC=724,LAMNC=05,LACLR=33477;\n",
      "ZELD:NAME=LAC33477,MCC=724,MNC=05,LAC=33477;\n",
      "\n",
      "!Len | NE=RNCBA01 | LAI=724-05-33475\n",
      "!--------------------------------------------------------------------------------------\n",
      "ZE2M:RNCNAME=RNCBA01:LAMCC=724,LAMNC=05,LACLR=33475;\n",
      "ZELD:NAME=LAC33475,MCC=724,MNC=05,LAC=33475;\n",
      "\n",
      "!Serr | NE=RNCSE02 | LAI=724-05-31279\n",
      "!--------------------------------------------------------------------------------------\n",
      "ZE2M:RNCNAME=RNCSE02:LAMCC=724,LAMNC=05,LACLR=31279;\n",
      "ZELD:NAME=LAC31279,MCC=724,MNC=05,LAC=31279;\n"
     ]
    },
    {
     "data": {
      "text/plain": [
       "True"
      ]
     },
     "execution_count": 7,
     "metadata": {},
     "output_type": "execute_result"
    }
   ],
   "source": [
    "# Get Nokia's fallback commands\n",
    "NOK_ERI_Toolkit.create_lai_nok(my_df=df_nok_lai, my_cmd='fallback')"
   ]
  },
  {
   "cell_type": "markdown",
   "metadata": {
    "id": "7H5BZ8u5lJf8"
   },
   "source": [
    "## Print Ericsson's LAIs (change & fallback) commands"
   ]
  },
  {
   "cell_type": "code",
   "execution_count": 8,
   "metadata": {},
   "outputs": [
    {
     "name": "stdout",
     "output_type": "stream",
     "text": [
      "\n",
      "! MSSBA3\n",
      "!--------------------------------------------------------------------------------------\n",
      "\n",
      "!Feira | NE=BSCBA49 | LAI=724-05-1475\n",
      "!--------------------------------------------------------------------------------------\n",
      "MGLAI:LAI=724-05-1475;\n",
      "MGLXI:LATA=75,LAI=724-05-1475;\n",
      "MGNRI:LAI=724-05-1475,NRRG=1&2&6&7&8&9&12&13;\n",
      "\n",
      "!Feira | NE=BSCBA49 | LAI=724-28-1475\n",
      "!--------------------------------------------------------------------------------------\n",
      "MGLAI:LAI=724-28-1475;\n",
      "MGLXI:LATA=75,LAI=724-28-1475;\n",
      "MGNRI:LAI=724-28-1475,NRRG=1&2&6&7&8&9&12&13;\n",
      "\n",
      "!Itapa | NE=BSCBA49 | LAI=724-05-25673\n",
      "!--------------------------------------------------------------------------------------\n",
      "MGLAI:LAI=724-05-25673;\n",
      "MGLXI:LATA=73,LAI=724-05-25673;\n",
      "MGNRI:LAI=724-05-25673,NRRG=1&2&6&7&8&9&12&13;\n",
      "\n",
      "! MSSBA7\n",
      "!--------------------------------------------------------------------------------------\n",
      "\n",
      "!Capa | NE=BSCBA58 | LAI=724-05-2573\n",
      "!--------------------------------------------------------------------------------------\n",
      "MGLAI:LAI=724-05-2573;\n",
      "MGLXI:LATA=73,LAI=724-05-2573;\n",
      "MGNRI:LAI=724-05-2573,NRRG=6&7&8&9&12&13;\n",
      "\n",
      "!Catu | NE=BSCBA58 | LAI=724-05-23474\n",
      "!--------------------------------------------------------------------------------------\n",
      "MGLAI:LAI=724-05-23474;\n",
      "MGLXI:LATA=74,LAI=724-05-23474;\n",
      "MGNRI:LAI=724-05-23474,NRRG=1&2&7&8&9&12&13;\n",
      "\n",
      "! MSSBA8\n",
      "!--------------------------------------------------------------------------------------\n",
      "\n",
      "!Jua | NE=RNCBA03 | LAI=724-05-33477\n",
      "!--------------------------------------------------------------------------------------\n",
      "MGLAI:LAI=724-05-33477;\n",
      "MGLXI:LATA=77,LAI=724-05-33477;\n",
      "MGNRI:LAI=724-05-33477,NRRG=1&6&7&8&9&12&13;\n",
      "MGMAI:LAI=724-05-33477,RNC=RNCBA03;\n",
      "\n",
      "!Len | NE=RNCBA01 | LAI=724-05-33475\n",
      "!--------------------------------------------------------------------------------------\n",
      "MGLAI:LAI=724-05-33475;\n",
      "MGLXI:LATA=75,LAI=724-05-33475;\n",
      "MGNRI:LAI=724-05-33475,NRRG=1&2&6&7&8&9&12&13;\n",
      "MGMAI:LAI=724-05-33475,RNC=RNCBA01;\n",
      "\n",
      "!Serr | NE=RNCSE02 | LAI=724-05-31279\n",
      "!--------------------------------------------------------------------------------------\n",
      "MGLAI:LAI=724-05-31279;\n",
      "MGLXI:LATA=79,LAI=724-05-31279;\n",
      "MGNRI:LAI=724-05-31279,NRRG=1&2&6&7&8&9&12&13;\n",
      "MGMAI:LAI=724-05-31279,RNC=RNCSE02;\n"
     ]
    },
    {
     "data": {
      "text/plain": [
       "True"
      ]
     },
     "execution_count": 8,
     "metadata": {},
     "output_type": "execute_result"
    }
   ],
   "source": [
    "# Get Ericsson's create commands\n",
    "NOK_ERI_Toolkit.create_lai_eri(my_df=df_eri_lai, my_cmd='create')"
   ]
  },
  {
   "cell_type": "code",
   "execution_count": 9,
   "metadata": {},
   "outputs": [
    {
     "name": "stdout",
     "output_type": "stream",
     "text": [
      "\n",
      "! MSSBA3\n",
      "!--------------------------------------------------------------------------------------\n",
      "\n",
      "!Feira | NE=BSCBA49 | LAI=724-05-1475\n",
      "!--------------------------------------------------------------------------------------\n",
      "MGLXE:LATA=75,LAI=724-05-1475;\n",
      "MGLAE:LAI=724-05-1475;\n",
      "\n",
      "!Feira | NE=BSCBA49 | LAI=724-28-1475\n",
      "!--------------------------------------------------------------------------------------\n",
      "MGLXE:LATA=75,LAI=724-28-1475;\n",
      "MGLAE:LAI=724-28-1475;\n",
      "\n",
      "!Itapa | NE=BSCBA49 | LAI=724-05-25673\n",
      "!--------------------------------------------------------------------------------------\n",
      "MGLXE:LATA=73,LAI=724-05-25673;\n",
      "MGLAE:LAI=724-05-25673;\n",
      "\n",
      "! MSSBA7\n",
      "!--------------------------------------------------------------------------------------\n",
      "\n",
      "!Capa | NE=BSCBA58 | LAI=724-05-2573\n",
      "!--------------------------------------------------------------------------------------\n",
      "MGLXE:LATA=73,LAI=724-05-2573;\n",
      "MGLAE:LAI=724-05-2573;\n",
      "\n",
      "!Catu | NE=BSCBA58 | LAI=724-05-23474\n",
      "!--------------------------------------------------------------------------------------\n",
      "MGLXE:LATA=74,LAI=724-05-23474;\n",
      "MGLAE:LAI=724-05-23474;\n",
      "\n",
      "! MSSBA8\n",
      "!--------------------------------------------------------------------------------------\n",
      "\n",
      "!Jua | NE=RNCBA03 | LAI=724-05-33477\n",
      "!--------------------------------------------------------------------------------------\n",
      "MGMAE:LAI=724-05-33477,RNC=RNCBA03;\n",
      "MGLXE:LATA=77,LAI=724-05-33477;\n",
      "MGLAE:LAI=724-05-33477;\n",
      "\n",
      "!Len | NE=RNCBA01 | LAI=724-05-33475\n",
      "!--------------------------------------------------------------------------------------\n",
      "MGMAE:LAI=724-05-33475,RNC=RNCBA01;\n",
      "MGLXE:LATA=75,LAI=724-05-33475;\n",
      "MGLAE:LAI=724-05-33475;\n",
      "\n",
      "!Serr | NE=RNCSE02 | LAI=724-05-31279\n",
      "!--------------------------------------------------------------------------------------\n",
      "MGMAE:LAI=724-05-31279,RNC=RNCSE02;\n",
      "MGLXE:LATA=79,LAI=724-05-31279;\n",
      "MGLAE:LAI=724-05-31279;\n"
     ]
    },
    {
     "data": {
      "text/plain": [
       "True"
      ]
     },
     "execution_count": 9,
     "metadata": {},
     "output_type": "execute_result"
    }
   ],
   "source": [
    "# Get Ericsson's fallback commands\n",
    "NOK_ERI_Toolkit.create_lai_eri(my_df=df_eri_lai, my_cmd='fallback')"
   ]
  },
  {
   "cell_type": "code",
   "execution_count": null,
   "metadata": {},
   "outputs": [],
   "source": []
  }
 ],
 "metadata": {
  "colab": {
   "name": "Change LAC MSS Ericsson.ipynb",
   "provenance": []
  },
  "kernelspec": {
   "display_name": "Python 3",
   "language": "python",
   "name": "python3"
  },
  "language_info": {
   "codemirror_mode": {
    "name": "ipython",
    "version": 3
   },
   "file_extension": ".py",
   "mimetype": "text/x-python",
   "name": "python",
   "nbconvert_exporter": "python",
   "pygments_lexer": "ipython3",
   "version": "3.8.8"
  }
 },
 "nbformat": 4,
 "nbformat_minor": 4
}
